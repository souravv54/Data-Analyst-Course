{
 "cells": [
  {
   "cell_type": "markdown",
   "metadata": {},
   "source": [
    "<hr style=\"border:5px solid #108999\"> </hr>"
   ]
  },
  {
   "cell_type": "markdown",
   "metadata": {},
   "source": [
    "# Must Know Python Tools <hr style=\"border:4.5px solid #108999\"> </hr>"
   ]
  },
  {
   "cell_type": "markdown",
   "metadata": {},
   "source": [
    "## Iterating Over Range Objects, <br><br> Nested For Loops - Introduction, <br><br> Triple Nested For Loops"
   ]
  },
  {
   "cell_type": "markdown",
   "metadata": {},
   "source": [
    "Create a 'range' object with a stop value of 10. \n",
    "Do this operation twice - once without indicating a start value, and then by indicating the start value of 0."
   ]
  },
  {
   "cell_type": "code",
   "execution_count": 1,
   "metadata": {},
   "outputs": [
    {
     "data": {
      "text/plain": [
       "range(0, 10)"
      ]
     },
     "execution_count": 1,
     "metadata": {},
     "output_type": "execute_result"
    }
   ],
   "source": [
    "range(10)"
   ]
  },
  {
   "cell_type": "code",
   "execution_count": 2,
   "metadata": {},
   "outputs": [
    {
     "data": {
      "text/plain": [
       "range(0, 10)"
      ]
     },
     "execution_count": 2,
     "metadata": {},
     "output_type": "execute_result"
    }
   ],
   "source": [
    "range(0,10)"
   ]
  },
  {
   "cell_type": "markdown",
   "metadata": {},
   "source": [
    "Turn this 'range' object into a list of values."
   ]
  },
  {
   "cell_type": "code",
   "execution_count": 3,
   "metadata": {},
   "outputs": [
    {
     "data": {
      "text/plain": [
       "[0, 1, 2, 3, 4, 5, 6, 7, 8, 9]"
      ]
     },
     "execution_count": 3,
     "metadata": {},
     "output_type": "execute_result"
    }
   ],
   "source": [
    "list(range(10))"
   ]
  },
  {
   "cell_type": "markdown",
   "metadata": {},
   "source": [
    "Obtain all integers from 0 to 9 again, this time using a for-loop with a range() function. Let Python display the values in the output vertically."
   ]
  },
  {
   "cell_type": "code",
   "execution_count": 4,
   "metadata": {},
   "outputs": [
    {
     "name": "stdout",
     "output_type": "stream",
     "text": [
      "0 1 2 3 4 5 6 7 8 9 "
     ]
    }
   ],
   "source": [
    "for i in range(10):\n",
    "    print(i,end = \" \")"
   ]
  },
  {
   "cell_type": "markdown",
   "metadata": {},
   "source": [
    "Repeat the same task, this time printing the values from the output on the same line."
   ]
  },
  {
   "cell_type": "code",
   "execution_count": 5,
   "metadata": {},
   "outputs": [
    {
     "data": {
      "text/plain": [
       "[0, 1, 2, 3, 4, 5, 6, 7, 8, 9]"
      ]
     },
     "execution_count": 5,
     "metadata": {},
     "output_type": "execute_result"
    }
   ],
   "source": [
    "[i for i in range(10)]"
   ]
  },
  {
   "cell_type": "markdown",
   "metadata": {},
   "source": [
    "Create a nested loop that delivers all possible combinations of the elements from the following two lists in the form of lists:"
   ]
  },
  {
   "cell_type": "code",
   "execution_count": 6,
   "metadata": {},
   "outputs": [],
   "source": [
    "products_on_sale = ['Chair_Type_1', 'Chair_Type_2', 'Chair_Type_3', 'Chair_Type_4']\n",
    "sale_prices = [100, 120, 135, 150]"
   ]
  },
  {
   "cell_type": "code",
   "execution_count": 7,
   "metadata": {},
   "outputs": [
    {
     "data": {
      "text/plain": [
       "[['Chair_Type_1', 100],\n",
       " ['Chair_Type_1', 120],\n",
       " ['Chair_Type_1', 135],\n",
       " ['Chair_Type_1', 150],\n",
       " ['Chair_Type_2', 100],\n",
       " ['Chair_Type_2', 120],\n",
       " ['Chair_Type_2', 135],\n",
       " ['Chair_Type_2', 150],\n",
       " ['Chair_Type_3', 100],\n",
       " ['Chair_Type_3', 120],\n",
       " ['Chair_Type_3', 135],\n",
       " ['Chair_Type_3', 150],\n",
       " ['Chair_Type_4', 100],\n",
       " ['Chair_Type_4', 120],\n",
       " ['Chair_Type_4', 135],\n",
       " ['Chair_Type_4', 150]]"
      ]
     },
     "execution_count": 7,
     "metadata": {},
     "output_type": "execute_result"
    }
   ],
   "source": [
    "[[prod,sale] for prod in products_on_sale for sale in sale_prices]"
   ]
  },
  {
   "cell_type": "markdown",
   "metadata": {},
   "source": [
    "Consider the following list with data, which is our third for this exercise. It represents the possible quantities in which the relevant items can be put on sale."
   ]
  },
  {
   "cell_type": "code",
   "execution_count": 8,
   "metadata": {},
   "outputs": [],
   "source": [
    "quantities = [1000, 1500, 1300]"
   ]
  },
  {
   "cell_type": "markdown",
   "metadata": {},
   "source": [
    "Create a triple nested loop that shows the potential revenue generated from each chair type. Use iterator variables with more meaningful names than letters such as i, j, k.\n",
    "<br>Present two versions of the nested loop. Let the first one return a Python list where the chair type is the first element, while the potential revenue is the second element. \n",
    "<br>Then, let the second loop return a more presentable output, where the quantity and potential revenue have been explicitly stated."
   ]
  },
  {
   "cell_type": "code",
   "execution_count": 9,
   "metadata": {},
   "outputs": [],
   "source": [
    "chair_type = ['Chair_Type_1', 'Chair_Type_2', 'Chair_Type_3', 'Chair_Type_4']\n",
    "potential_revenue = [100, 120, 135, 150]\n",
    "quantity = [2,6,4,9]"
   ]
  },
  {
   "cell_type": "code",
   "execution_count": 10,
   "metadata": {},
   "outputs": [
    {
     "name": "stdout",
     "output_type": "stream",
     "text": [
      "['Chair_Type_1', 200]\n",
      "['Chair_Type_1', 600]\n",
      "['Chair_Type_1', 400]\n",
      "['Chair_Type_1', 900]\n",
      "['Chair_Type_1', 240]\n",
      "['Chair_Type_1', 720]\n",
      "['Chair_Type_1', 480]\n",
      "['Chair_Type_1', 1080]\n",
      "['Chair_Type_1', 270]\n",
      "['Chair_Type_1', 810]\n",
      "['Chair_Type_1', 540]\n",
      "['Chair_Type_1', 1215]\n",
      "['Chair_Type_1', 300]\n",
      "['Chair_Type_1', 900]\n",
      "['Chair_Type_1', 600]\n",
      "['Chair_Type_1', 1350]\n",
      "['Chair_Type_2', 200]\n",
      "['Chair_Type_2', 600]\n",
      "['Chair_Type_2', 400]\n",
      "['Chair_Type_2', 900]\n",
      "['Chair_Type_2', 240]\n",
      "['Chair_Type_2', 720]\n",
      "['Chair_Type_2', 480]\n",
      "['Chair_Type_2', 1080]\n",
      "['Chair_Type_2', 270]\n",
      "['Chair_Type_2', 810]\n",
      "['Chair_Type_2', 540]\n",
      "['Chair_Type_2', 1215]\n",
      "['Chair_Type_2', 300]\n",
      "['Chair_Type_2', 900]\n",
      "['Chair_Type_2', 600]\n",
      "['Chair_Type_2', 1350]\n",
      "['Chair_Type_3', 200]\n",
      "['Chair_Type_3', 600]\n",
      "['Chair_Type_3', 400]\n",
      "['Chair_Type_3', 900]\n",
      "['Chair_Type_3', 240]\n",
      "['Chair_Type_3', 720]\n",
      "['Chair_Type_3', 480]\n",
      "['Chair_Type_3', 1080]\n",
      "['Chair_Type_3', 270]\n",
      "['Chair_Type_3', 810]\n",
      "['Chair_Type_3', 540]\n",
      "['Chair_Type_3', 1215]\n",
      "['Chair_Type_3', 300]\n",
      "['Chair_Type_3', 900]\n",
      "['Chair_Type_3', 600]\n",
      "['Chair_Type_3', 1350]\n",
      "['Chair_Type_4', 200]\n",
      "['Chair_Type_4', 600]\n",
      "['Chair_Type_4', 400]\n",
      "['Chair_Type_4', 900]\n",
      "['Chair_Type_4', 240]\n",
      "['Chair_Type_4', 720]\n",
      "['Chair_Type_4', 480]\n",
      "['Chair_Type_4', 1080]\n",
      "['Chair_Type_4', 270]\n",
      "['Chair_Type_4', 810]\n",
      "['Chair_Type_4', 540]\n",
      "['Chair_Type_4', 1215]\n",
      "['Chair_Type_4', 300]\n",
      "['Chair_Type_4', 900]\n",
      "['Chair_Type_4', 600]\n",
      "['Chair_Type_4', 1350]\n"
     ]
    }
   ],
   "source": [
    "for ch_type in chair_type:\n",
    "    for pr in potential_revenue:\n",
    "        for qty in quantity:\n",
    "            print([ch_type,qty*pr])"
   ]
  },
  {
   "cell_type": "markdown",
   "metadata": {},
   "source": [
    "## List Comprehensions"
   ]
  },
  {
   "cell_type": "markdown",
   "metadata": {},
   "source": [
    "Execute the code cell below to create the following three lists: **products_on_sale**, **sale_prices**, **quantities**"
   ]
  },
  {
   "cell_type": "code",
   "execution_count": 11,
   "metadata": {},
   "outputs": [],
   "source": [
    "products_on_sale = ['Chair_Type_1', 'Chair_Type_2', 'Chair_Type_3', 'Chair_Type_4']\n",
    "sale_prices = [100, 120, 135, 150]\n",
    "quantities = [1000, 1500, 1300]"
   ]
  },
  {
   "cell_type": "markdown",
   "metadata": {},
   "source": [
    "The following code cell will execute a nested loop that will deliver all possible combinations of the elements from the **products_on_sale**, **sale_prices** and **quantities** lists:"
   ]
  },
  {
   "cell_type": "code",
   "execution_count": 12,
   "metadata": {},
   "outputs": [
    {
     "name": "stdout",
     "output_type": "stream",
     "text": [
      "['Chair_Type_1', 100000]\n",
      "['Chair_Type_1', 150000]\n",
      "['Chair_Type_1', 130000]\n",
      "['Chair_Type_1', 120000]\n",
      "['Chair_Type_1', 180000]\n",
      "['Chair_Type_1', 156000]\n",
      "['Chair_Type_1', 135000]\n",
      "['Chair_Type_1', 202500]\n",
      "['Chair_Type_1', 175500]\n",
      "['Chair_Type_1', 150000]\n",
      "['Chair_Type_1', 225000]\n",
      "['Chair_Type_1', 195000]\n",
      "['Chair_Type_2', 100000]\n",
      "['Chair_Type_2', 150000]\n",
      "['Chair_Type_2', 130000]\n",
      "['Chair_Type_2', 120000]\n",
      "['Chair_Type_2', 180000]\n",
      "['Chair_Type_2', 156000]\n",
      "['Chair_Type_2', 135000]\n",
      "['Chair_Type_2', 202500]\n",
      "['Chair_Type_2', 175500]\n",
      "['Chair_Type_2', 150000]\n",
      "['Chair_Type_2', 225000]\n",
      "['Chair_Type_2', 195000]\n",
      "['Chair_Type_3', 100000]\n",
      "['Chair_Type_3', 150000]\n",
      "['Chair_Type_3', 130000]\n",
      "['Chair_Type_3', 120000]\n",
      "['Chair_Type_3', 180000]\n",
      "['Chair_Type_3', 156000]\n",
      "['Chair_Type_3', 135000]\n",
      "['Chair_Type_3', 202500]\n",
      "['Chair_Type_3', 175500]\n",
      "['Chair_Type_3', 150000]\n",
      "['Chair_Type_3', 225000]\n",
      "['Chair_Type_3', 195000]\n",
      "['Chair_Type_4', 100000]\n",
      "['Chair_Type_4', 150000]\n",
      "['Chair_Type_4', 130000]\n",
      "['Chair_Type_4', 120000]\n",
      "['Chair_Type_4', 180000]\n",
      "['Chair_Type_4', 156000]\n",
      "['Chair_Type_4', 135000]\n",
      "['Chair_Type_4', 202500]\n",
      "['Chair_Type_4', 175500]\n",
      "['Chair_Type_4', 150000]\n",
      "['Chair_Type_4', 225000]\n",
      "['Chair_Type_4', 195000]\n"
     ]
    }
   ],
   "source": [
    "for chair_type in products_on_sale:\n",
    "    for price in sale_prices:\n",
    "        for quantity in quantities:\n",
    "            print ([chair_type, price*quantity])"
   ]
  },
  {
   "cell_type": "markdown",
   "metadata": {},
   "source": [
    "Use a list comprehension to obtain the same output. Store it in a variable called **sales_revenue**. <br/>\n",
    "Make sure you refrain from obtaining any inexistent \"None\" values."
   ]
  },
  {
   "cell_type": "code",
   "execution_count": 13,
   "metadata": {},
   "outputs": [
    {
     "data": {
      "text/plain": [
       "[['Chair_Type_1', 100000],\n",
       " ['Chair_Type_1', 150000],\n",
       " ['Chair_Type_1', 130000],\n",
       " ['Chair_Type_1', 120000],\n",
       " ['Chair_Type_1', 180000],\n",
       " ['Chair_Type_1', 156000],\n",
       " ['Chair_Type_1', 135000],\n",
       " ['Chair_Type_1', 202500],\n",
       " ['Chair_Type_1', 175500],\n",
       " ['Chair_Type_1', 150000],\n",
       " ['Chair_Type_1', 225000],\n",
       " ['Chair_Type_1', 195000],\n",
       " ['Chair_Type_2', 100000],\n",
       " ['Chair_Type_2', 150000],\n",
       " ['Chair_Type_2', 130000],\n",
       " ['Chair_Type_2', 120000],\n",
       " ['Chair_Type_2', 180000],\n",
       " ['Chair_Type_2', 156000],\n",
       " ['Chair_Type_2', 135000],\n",
       " ['Chair_Type_2', 202500],\n",
       " ['Chair_Type_2', 175500],\n",
       " ['Chair_Type_2', 150000],\n",
       " ['Chair_Type_2', 225000],\n",
       " ['Chair_Type_2', 195000],\n",
       " ['Chair_Type_3', 100000],\n",
       " ['Chair_Type_3', 150000],\n",
       " ['Chair_Type_3', 130000],\n",
       " ['Chair_Type_3', 120000],\n",
       " ['Chair_Type_3', 180000],\n",
       " ['Chair_Type_3', 156000],\n",
       " ['Chair_Type_3', 135000],\n",
       " ['Chair_Type_3', 202500],\n",
       " ['Chair_Type_3', 175500],\n",
       " ['Chair_Type_3', 150000],\n",
       " ['Chair_Type_3', 225000],\n",
       " ['Chair_Type_3', 195000],\n",
       " ['Chair_Type_4', 100000],\n",
       " ['Chair_Type_4', 150000],\n",
       " ['Chair_Type_4', 130000],\n",
       " ['Chair_Type_4', 120000],\n",
       " ['Chair_Type_4', 180000],\n",
       " ['Chair_Type_4', 156000],\n",
       " ['Chair_Type_4', 135000],\n",
       " ['Chair_Type_4', 202500],\n",
       " ['Chair_Type_4', 175500],\n",
       " ['Chair_Type_4', 150000],\n",
       " ['Chair_Type_4', 225000],\n",
       " ['Chair_Type_4', 195000]]"
      ]
     },
     "execution_count": 13,
     "metadata": {},
     "output_type": "execute_result"
    }
   ],
   "source": [
    "[[chair_type, price*quantity] for chair_type in products_on_sale  for price in sale_prices  for quantity in quantities]"
   ]
  },
  {
   "cell_type": "markdown",
   "metadata": {},
   "source": [
    "**List comprehensions with Conditionals**\n",
    "<br> <br> **Conditional on the iterable**"
   ]
  },
  {
   "cell_type": "markdown",
   "metadata": {},
   "source": [
    "Use a list comprehension to return a list with all even numbers between 1 and 10 inclusive, multiplied by 10."
   ]
  },
  {
   "cell_type": "code",
   "execution_count": 14,
   "metadata": {},
   "outputs": [
    {
     "data": {
      "text/plain": [
       "[20, 40, 60, 80, 100]"
      ]
     },
     "execution_count": 14,
     "metadata": {},
     "output_type": "execute_result"
    }
   ],
   "source": [
    "[i * 10 for i in range(1,11) if i%2 == 0]"
   ]
  },
  {
   "cell_type": "code",
   "execution_count": null,
   "metadata": {},
   "outputs": [],
   "source": []
  },
  {
   "cell_type": "markdown",
   "metadata": {},
   "source": [
    "We consider the previous answer as the Pythonic way to obtain the output because it involved the use of a list comprehension.\n",
    "Can you think of a way to obtain identical output in the \"Non-Pythonic\" way, i.e. by using a double nested loop?"
   ]
  },
  {
   "cell_type": "code",
   "execution_count": null,
   "metadata": {},
   "outputs": [],
   "source": []
  },
  {
   "cell_type": "markdown",
   "metadata": {},
   "source": [
    "**Conditional on the output**"
   ]
  },
  {
   "cell_type": "markdown",
   "metadata": {},
   "source": [
    "Return a list that contains the element from range(1, 11) multiplied by 10 if the number is even, and \"None\" if that number is odd."
   ]
  },
  {
   "cell_type": "code",
   "execution_count": 15,
   "metadata": {},
   "outputs": [
    {
     "name": "stdout",
     "output_type": "stream",
     "text": [
      "None\n",
      "20 None\n",
      "40 None\n",
      "60 None\n",
      "80 None\n",
      "100 "
     ]
    }
   ],
   "source": [
    "for i in range(1,11):\n",
    "    if i%2 == 0:\n",
    "        print(i*10,end = \" \")\n",
    "    else:\n",
    "        print(\"None\")"
   ]
  },
  {
   "cell_type": "markdown",
   "metadata": {},
   "source": [
    "## Anonymous Functions"
   ]
  },
  {
   "cell_type": "markdown",
   "metadata": {},
   "source": [
    "Define a function called **multiply_by_10** that will return a value ten times bigger than the argument."
   ]
  },
  {
   "cell_type": "code",
   "execution_count": 16,
   "metadata": {},
   "outputs": [
    {
     "data": {
      "text/plain": [
       "20"
      ]
     },
     "execution_count": 16,
     "metadata": {},
     "output_type": "execute_result"
    }
   ],
   "source": [
    "def multiply_by_10(x):\n",
    "    return x * 10\n",
    "multiply_by_10(2)"
   ]
  },
  {
   "cell_type": "markdown",
   "metadata": {},
   "source": [
    "Apply **multiply_by_10** to the argument of 5. Clearly, you should obtain 50."
   ]
  },
  {
   "cell_type": "code",
   "execution_count": 17,
   "metadata": {},
   "outputs": [
    {
     "data": {
      "text/plain": [
       "50"
      ]
     },
     "execution_count": 17,
     "metadata": {},
     "output_type": "execute_result"
    }
   ],
   "source": [
    "multiply_by_10(5)"
   ]
  },
  {
   "cell_type": "markdown",
   "metadata": {},
   "source": [
    "#### Lambda Functions"
   ]
  },
  {
   "cell_type": "markdown",
   "metadata": {},
   "source": [
    "This time, create **multiply_by_10** as a Lambda funciton. Execute it with an argument of 7."
   ]
  },
  {
   "cell_type": "code",
   "execution_count": 26,
   "metadata": {},
   "outputs": [
    {
     "data": {
      "text/plain": [
       "70"
      ]
     },
     "execution_count": 26,
     "metadata": {},
     "output_type": "execute_result"
    }
   ],
   "source": [
    "multiply_by_10_lambda = lambda x : x * 10\n",
    "multiply_by_10_lambda(7)"
   ]
  },
  {
   "cell_type": "markdown",
   "metadata": {},
   "source": [
    "Define a Lambda function named **product_xy** that returns the product of two parameters, x and y. Execute it with arguments 4 and 20."
   ]
  },
  {
   "cell_type": "code",
   "execution_count": 27,
   "metadata": {},
   "outputs": [
    {
     "data": {
      "text/plain": [
       "80"
      ]
     },
     "execution_count": 27,
     "metadata": {},
     "output_type": "execute_result"
    }
   ],
   "source": [
    "product_xy = lambda x,y : x*y\n",
    "product_xy(4,20)"
   ]
  },
  {
   "cell_type": "markdown",
   "metadata": {},
   "source": [
    "Create a Lambda function that returns the output of the following mathematical expression. Execute it with an argument of 13."
   ]
  },
  {
   "cell_type": "code",
   "execution_count": 28,
   "metadata": {},
   "outputs": [
    {
     "data": {
      "text/plain": [
       "132860.25"
      ]
     },
     "execution_count": 28,
     "metadata": {},
     "output_type": "execute_result"
    }
   ],
   "source": [
    "(lambda x: (135 - x ** 3) ** 4 / (1 + x) ** 5)(3)"
   ]
  },
  {
   "cell_type": "code",
   "execution_count": null,
   "metadata": {},
   "outputs": [],
   "source": []
  }
 ],
 "metadata": {
  "kernelspec": {
   "display_name": "Python 3 (ipykernel)",
   "language": "python",
   "name": "python3"
  },
  "language_info": {
   "codemirror_mode": {
    "name": "ipython",
    "version": 3
   },
   "file_extension": ".py",
   "mimetype": "text/x-python",
   "name": "python",
   "nbconvert_exporter": "python",
   "pygments_lexer": "ipython3",
   "version": "3.9.13"
  }
 },
 "nbformat": 4,
 "nbformat_minor": 2
}
