{
 "cells": [
  {
   "cell_type": "markdown",
   "id": "adef33af",
   "metadata": {},
   "source": [
    "## Arrays of 0s and 1s"
   ]
  },
  {
   "cell_type": "code",
   "execution_count": 1,
   "id": "bbc97a7a",
   "metadata": {},
   "outputs": [],
   "source": [
    "# Generating data using NumPy arrays \n",
    "# random data and Non - random data"
   ]
  },
  {
   "cell_type": "code",
   "execution_count": 2,
   "id": "cc59d5d4",
   "metadata": {},
   "outputs": [],
   "source": [
    "import numpy as np"
   ]
  },
  {
   "cell_type": "code",
   "execution_count": 3,
   "id": "d1aeed4f",
   "metadata": {},
   "outputs": [],
   "source": [
    "#np.empty() - Creates an \"empty\" N-D array , Return an array without initializing entries\n",
    "# it is the fastest way to create an N-D array"
   ]
  },
  {
   "cell_type": "code",
   "execution_count": 4,
   "id": "3d86eb85",
   "metadata": {},
   "outputs": [
    {
     "data": {
      "text/plain": [
       "array([[0., 0., 0.],\n",
       "       [0., 0., 0.]])"
      ]
     },
     "execution_count": 4,
     "metadata": {},
     "output_type": "execute_result"
    }
   ],
   "source": [
    "array_empty = np.empty(shape = (2,3))\n",
    "array_empty\n",
    "\n",
    "# An array is assinged memory from our RAM, thats the reason we are getting random numbers here"
   ]
  },
  {
   "cell_type": "code",
   "execution_count": 5,
   "id": "cd1ee4cc",
   "metadata": {},
   "outputs": [],
   "source": [
    "#np.zeros() - Create an array full of 0s\n",
    "# np. zeros() has consistent output where np.empty() doesn't have "
   ]
  },
  {
   "cell_type": "code",
   "execution_count": 6,
   "id": "a98ecf6b",
   "metadata": {},
   "outputs": [
    {
     "data": {
      "text/plain": [
       "array([[0., 0., 0.],\n",
       "       [0., 0., 0.]])"
      ]
     },
     "execution_count": 6,
     "metadata": {},
     "output_type": "execute_result"
    }
   ],
   "source": [
    "array_0s = np.zeros(shape = (2,3))\n",
    "array_0s"
   ]
  },
  {
   "cell_type": "code",
   "execution_count": 7,
   "id": "e7f615af",
   "metadata": {},
   "outputs": [
    {
     "data": {
      "text/plain": [
       "array([[0, 0, 0],\n",
       "       [0, 0, 0]], dtype=int8)"
      ]
     },
     "execution_count": 7,
     "metadata": {},
     "output_type": "execute_result"
    }
   ],
   "source": [
    "array_0s = np.zeros(shape = (2,3), dtype = np.int8)\n",
    "array_0s"
   ]
  },
  {
   "cell_type": "code",
   "execution_count": 8,
   "id": "4580ea20",
   "metadata": {},
   "outputs": [
    {
     "data": {
      "text/plain": [
       "array([[1., 1., 1.],\n",
       "       [1., 1., 1.]])"
      ]
     },
     "execution_count": 8,
     "metadata": {},
     "output_type": "execute_result"
    }
   ],
   "source": [
    "# np.ones() - The '1' is equivalent to np.zeros() Generates an array of 1s\n",
    "array_1s = np.ones(shape = (2,3))\n",
    "array_1s"
   ]
  },
  {
   "cell_type": "code",
   "execution_count": 9,
   "id": "f77f87fd",
   "metadata": {},
   "outputs": [],
   "source": [
    "# np.full() - Generates an array filled entirely with a specified value\n",
    "# Contains an additional manditory arguement : fill_value\n",
    "# Fill_value takes scalar value"
   ]
  },
  {
   "cell_type": "code",
   "execution_count": 10,
   "id": "8496a40c",
   "metadata": {},
   "outputs": [
    {
     "data": {
      "text/plain": [
       "array([[2, 2, 2],\n",
       "       [2, 2, 2]])"
      ]
     },
     "execution_count": 10,
     "metadata": {},
     "output_type": "execute_result"
    }
   ],
   "source": [
    "array_full = np.full(shape = (2,3), fill_value = 2) # One additional mandatory argument - fill_value -> scalar\n",
    "array_full"
   ]
  },
  {
   "cell_type": "code",
   "execution_count": 11,
   "id": "f23a0608",
   "metadata": {},
   "outputs": [
    {
     "data": {
      "text/plain": [
       "array([['Three-Six-Five', 'Three-Six-Five', 'Three-Six-Five'],\n",
       "       ['Three-Six-Five', 'Three-Six-Five', 'Three-Six-Five']],\n",
       "      dtype='<U14')"
      ]
     },
     "execution_count": 11,
     "metadata": {},
     "output_type": "execute_result"
    }
   ],
   "source": [
    "array_full = np.full(shape = (2,3), fill_value = 'Three-Six-Five')\n",
    "array_full"
   ]
  },
  {
   "cell_type": "markdown",
   "id": "22a9b534",
   "metadata": {},
   "source": [
    "## \"_like\" functions in NumPy"
   ]
  },
  {
   "cell_type": "code",
   "execution_count": 12,
   "id": "b7e8de00",
   "metadata": {},
   "outputs": [],
   "source": [
    "# it's equivalent to empty,full,zeros,ones \n",
    "# Don't need to specify a shape or type\n",
    "# We need to provide another array(whose shape and type we take)"
   ]
  },
  {
   "cell_type": "code",
   "execution_count": 13,
   "id": "c0a84743",
   "metadata": {},
   "outputs": [
    {
     "data": {
      "text/plain": [
       "array([[ 1,  0,  9,  2,  2],\n",
       "       [ 3, 23,  4,  5,  1],\n",
       "       [ 0,  2,  3,  4,  1]])"
      ]
     },
     "execution_count": 13,
     "metadata": {},
     "output_type": "execute_result"
    }
   ],
   "source": [
    "matrix_A = np.array([[1,0,9,2,2],[3,23,4,5,1],[0,2,3,4,1]])\n",
    "matrix_A"
   ]
  },
  {
   "cell_type": "code",
   "execution_count": 14,
   "id": "aa4a0699",
   "metadata": {},
   "outputs": [
    {
     "data": {
      "text/plain": [
       "array([[      0,       0,       0,       0,       0],\n",
       "       [      0,       0,       0,       0,       0],\n",
       "       [   1436,       0,       0, 7602273,       0]])"
      ]
     },
     "execution_count": 14,
     "metadata": {},
     "output_type": "execute_result"
    }
   ],
   "source": [
    "array_empty_like = np.empty_like(matrix_A)    \n",
    "\n",
    "# Shape and type are like the prototype. \n",
    "# If we want to override this, we can define dtype and shape and pass different values (but why even use empty_like then). \n",
    "\n",
    "array_empty_like"
   ]
  },
  {
   "cell_type": "code",
   "execution_count": 15,
   "id": "5434b011",
   "metadata": {},
   "outputs": [
    {
     "data": {
      "text/plain": [
       "array([[0, 0, 0, 0, 0],\n",
       "       [0, 0, 0, 0, 0],\n",
       "       [0, 0, 0, 0, 0]])"
      ]
     },
     "execution_count": 15,
     "metadata": {},
     "output_type": "execute_result"
    }
   ],
   "source": [
    "array_0s_like = np.zeros_like(matrix_A)    \n",
    "array_0s_like\n",
    "\n",
    "# We have corresponding functions for 1s and full as well. "
   ]
  },
  {
   "cell_type": "markdown",
   "id": "89a185fe",
   "metadata": {},
   "source": [
    "## A Non-Random Sequence of Numbers"
   ]
  },
  {
   "cell_type": "code",
   "execution_count": 16,
   "id": "dc8c7545",
   "metadata": {},
   "outputs": [],
   "source": [
    "# np.arange() = array range\n",
    "# Numpy equivalent of python's range funtion\n",
    "# Create a sequence of consecutive integer values within given range\n",
    "#Range --> range object\n",
    "# array range --> array"
   ]
  },
  {
   "cell_type": "code",
   "execution_count": 17,
   "id": "31976f5a",
   "metadata": {},
   "outputs": [
    {
     "data": {
      "text/plain": [
       "range(0, 20)"
      ]
     },
     "execution_count": 17,
     "metadata": {},
     "output_type": "execute_result"
    }
   ],
   "source": [
    "range(20)"
   ]
  },
  {
   "cell_type": "code",
   "execution_count": 18,
   "id": "6770a018",
   "metadata": {},
   "outputs": [
    {
     "data": {
      "text/plain": [
       "[0, 1, 2, 3, 4, 5, 6, 7, 8, 9, 10, 11, 12, 13, 14, 15, 16, 17, 18, 19]"
      ]
     },
     "execution_count": 18,
     "metadata": {},
     "output_type": "execute_result"
    }
   ],
   "source": [
    "list(range(20))"
   ]
  },
  {
   "cell_type": "code",
   "execution_count": 19,
   "id": "0a188196",
   "metadata": {},
   "outputs": [
    {
     "data": {
      "text/plain": [
       "array([ 0,  1,  2,  3,  4,  5,  6,  7,  8,  9, 10, 11, 12, 13, 14, 15, 16,\n",
       "       17, 18, 19])"
      ]
     },
     "execution_count": 19,
     "metadata": {},
     "output_type": "execute_result"
    }
   ],
   "source": [
    "array_rng = np.arange(20)\n",
    "array_rng\n",
    "# Creates an ndarray with the values in this range."
   ]
  },
  {
   "cell_type": "code",
   "execution_count": 20,
   "id": "7ae0cdde",
   "metadata": {},
   "outputs": [
    {
     "data": {
      "text/plain": [
       "array([ 0,  1,  2,  3,  4,  5,  6,  7,  8,  9, 10, 11, 12, 13, 14, 15, 16,\n",
       "       17, 18, 19, 20, 21, 22, 23, 24, 25, 26, 27, 28, 29])"
      ]
     },
     "execution_count": 20,
     "metadata": {},
     "output_type": "execute_result"
    }
   ],
   "source": [
    "array_rng = np.arange(stop =  30)\n",
    "#array_rng = np.arange(start =  30)\n",
    "array_rng\n",
    "\n",
    "# The only mandatory argument is \"start\", rather than stop. \n",
    "# If we specify only a start, the function assumes this is the \"stop\" and starts from the origin (0)."
   ]
  },
  {
   "cell_type": "code",
   "execution_count": 21,
   "id": "d91ba2c5",
   "metadata": {},
   "outputs": [
    {
     "data": {
      "text/plain": [
       "array([ 0. ,  2.5,  5. ,  7.5, 10. , 12.5, 15. , 17.5, 20. , 22.5, 25. ,\n",
       "       27.5])"
      ]
     },
     "execution_count": 21,
     "metadata": {},
     "output_type": "execute_result"
    }
   ],
   "source": [
    "array_rng = np.arange(start = 0, stop =  30, step = 2.5)\n",
    "array_rng\n",
    "\n",
    "# \"Step\" doesn't have to be the same type as the values of the array. "
   ]
  },
  {
   "cell_type": "code",
   "execution_count": 22,
   "id": "40982acf",
   "metadata": {},
   "outputs": [
    {
     "data": {
      "text/plain": [
       "array([ 0,  2,  4,  6,  8, 10, 12, 14, 16, 18, 20, 22])"
      ]
     },
     "execution_count": 22,
     "metadata": {},
     "output_type": "execute_result"
    }
   ],
   "source": [
    "array_rng = np.arange(start = 0, stop =  30, step = 2.5, dtype = np.int32)\n",
    "array_rng\n",
    "\n",
    "# The casting happens after all the computations. "
   ]
  },
  {
   "cell_type": "markdown",
   "id": "98acf9c8",
   "metadata": {},
   "source": [
    "## Random Generators and Seeds"
   ]
  },
  {
   "cell_type": "code",
   "execution_count": 23,
   "id": "8c1a5b91",
   "metadata": {},
   "outputs": [],
   "source": [
    "from numpy.random import Generator as gen\n",
    "from numpy.random import PCG64 as pcg\n",
    "\n",
    "## We load two functions from the numpy.random module."
   ]
  },
  {
   "cell_type": "code",
   "execution_count": 24,
   "id": "2c9ac557",
   "metadata": {},
   "outputs": [],
   "source": [
    "# The Generator function takes a bit generator as an input and creates generator objects\n",
    "# numpy.random.Generator class"
   ]
  },
  {
   "cell_type": "code",
   "execution_count": 25,
   "id": "669543ec",
   "metadata": {},
   "outputs": [],
   "source": [
    "# PCG64 - Permutation Congruential Generator Function pointers that can produce values of upto 64 bits in size."
   ]
  },
  {
   "cell_type": "code",
   "execution_count": 26,
   "id": "0cd13a2c",
   "metadata": {},
   "outputs": [
    {
     "data": {
      "text/plain": [
       "array([[ 1.11982585,  1.0437866 ,  0.31669616, -0.94164487, -1.56117628],\n",
       "       [-0.52425048, -1.87745063, -1.48818482,  1.10658996,  0.56824664],\n",
       "       [-0.29746017,  0.47117125,  0.38156541, -0.81276303, -0.10842344],\n",
       "       [ 0.19194959,  0.72593131, -2.26133607,  0.71930234, -0.10339198],\n",
       "       [-0.69594266,  0.72959745,  0.31202597,  0.90306843,  0.57225307]])"
      ]
     },
     "execution_count": 26,
     "metadata": {},
     "output_type": "execute_result"
    }
   ],
   "source": [
    "array_RG = gen(pcg())\n",
    "array_RG.normal(size = (5,5))\n",
    "\n",
    "# The shape of the array will be equal to the tuple (5,5) in this case\n",
    "# Always generate a random number where the Generator select a SEED Randomly\n",
    "# SEED - a set of starting parameters for the algorithm"
   ]
  },
  {
   "cell_type": "code",
   "execution_count": 27,
   "id": "ca6912f1",
   "metadata": {},
   "outputs": [
    {
     "data": {
      "text/plain": [
       "array([[-0.13640899,  0.09414431, -0.06300442,  1.05391641, -0.6866818 ],\n",
       "       [-0.50922173, -0.7999526 ,  0.73041825,  0.08825439, -2.1177576 ],\n",
       "       [ 0.65526774, -0.48095012, -0.5519114 , -0.58578662, -0.98257896],\n",
       "       [ 1.12378166, -1.30984316, -0.04703774,  0.955272  ,  0.26071745],\n",
       "       [-0.20023668, -1.50172484, -1.4929163 ,  0.96535084,  1.18694633]])"
      ]
     },
     "execution_count": 27,
     "metadata": {},
     "output_type": "execute_result"
    }
   ],
   "source": [
    "array_RG = gen(pcg(seed = 365))\n",
    "array_RG.normal(size = (5,5))\n",
    "\n",
    "# if we specified the seed, the output remain same with random values\n",
    "# Re-running this cell provides a consistent output, since the seed (with fixed starting values) is set. "
   ]
  },
  {
   "cell_type": "code",
   "execution_count": 28,
   "id": "d115e1d3",
   "metadata": {},
   "outputs": [
    {
     "data": {
      "text/plain": [
       "array([[-0.76065577,  1.48158358,  0.01200258, -0.06846959,  0.25301664],\n",
       "       [-0.52640788,  0.79613109,  0.28203421,  1.80238008,  0.93932117],\n",
       "       [-0.53693283, -0.26317689, -1.77723035,  1.14900013, -2.20733915],\n",
       "       [ 1.54116775, -0.5124932 , -2.14564563,  1.98878673,  0.32208907],\n",
       "       [-1.2651495 ,  3.2714633 ,  1.78650493, -0.20233675,  0.20427467]])"
      ]
     },
     "execution_count": 28,
     "metadata": {},
     "output_type": "execute_result"
    }
   ],
   "source": [
    "array_RG.normal(size = (5,5))\n",
    "\n",
    "# A Seed only lasts for one execution of the method or funtion before it is reset\n",
    "# The seed is fixed for a single itteration. "
   ]
  },
  {
   "cell_type": "markdown",
   "id": "589aaf8c",
   "metadata": {},
   "source": [
    "## Generating Integers, Probabilities and Random Choices\n",
    "## Basic random funtionality in NumPy"
   ]
  },
  {
   "cell_type": "code",
   "execution_count": 29,
   "id": "1a3df93f",
   "metadata": {},
   "outputs": [],
   "source": [
    "# Generates Whole numbers (integers)\n",
    "# Requires defining a fixed range of values to choose from\n",
    "# If we only provide a single value it automatically assumes we only want integers between 0 and it"
   ]
  },
  {
   "cell_type": "code",
   "execution_count": 30,
   "id": "54342311",
   "metadata": {},
   "outputs": [
    {
     "data": {
      "text/plain": [
       "array([[18, 78, 64, 78, 84],\n",
       "       [66, 67, 28, 10, 69],\n",
       "       [45, 15, 37, 74, 96],\n",
       "       [19, 21, 89, 73, 54],\n",
       "       [53, 84, 66, 51, 92]], dtype=int64)"
      ]
     },
     "execution_count": 30,
     "metadata": {},
     "output_type": "execute_result"
    }
   ],
   "source": [
    "array_RG = gen(pcg(seed = 365))\n",
    "array_RG.integers(low = 10,high = 100, size = (5,5))"
   ]
  },
  {
   "cell_type": "code",
   "execution_count": 31,
   "id": "bd09b87c",
   "metadata": {},
   "outputs": [
    {
     "data": {
      "text/plain": [
       "array([[0.75915734, 0.7662218 , 0.6291028 , 0.20336599, 0.66501486],\n",
       "       [0.06559111, 0.71326309, 0.10812106, 0.87969046, 0.49405844],\n",
       "       [0.82472673, 0.45652944, 0.07367232, 0.69628564, 0.36690736],\n",
       "       [0.29787156, 0.4996155 , 0.4865245 , 0.62740703, 0.54952637],\n",
       "       [0.64894629, 0.04411757, 0.7206516 , 0.84594003, 0.17159792]])"
      ]
     },
     "execution_count": 31,
     "metadata": {},
     "output_type": "execute_result"
    }
   ],
   "source": [
    "# Random \n",
    "array_RG = gen(pcg(seed = 365))\n",
    "array_RG.random(size = (5,5))"
   ]
  },
  {
   "cell_type": "code",
   "execution_count": 32,
   "id": "2c99125e",
   "metadata": {},
   "outputs": [],
   "source": [
    "# NumPy Choices() - Simulates the idea of making an arbitary choice out of a given sequence."
   ]
  },
  {
   "cell_type": "code",
   "execution_count": 33,
   "id": "49ec1b2f",
   "metadata": {},
   "outputs": [
    {
     "data": {
      "text/plain": [
       "array([[1, 4, 4, 4, 5],\n",
       "       [4, 4, 2, 1, 4],\n",
       "       [2, 1, 2, 4, 5],\n",
       "       [1, 1, 5, 4, 3],\n",
       "       [3, 5, 4, 3, 5]])"
      ]
     },
     "execution_count": 33,
     "metadata": {},
     "output_type": "execute_result"
    }
   ],
   "source": [
    "array_RG = gen(pcg(seed = 365))\n",
    "array_RG.choice([1,2,3,4,5],size = (5,5))\n",
    "\n",
    "# All the outcomes are equally likely"
   ]
  },
  {
   "cell_type": "code",
   "execution_count": 34,
   "id": "004287d3",
   "metadata": {},
   "outputs": [
    {
     "data": {
      "text/plain": [
       "array([[5, 5, 5, 3, 5],\n",
       "       [1, 5, 2, 5, 5],\n",
       "       [5, 5, 1, 5, 4],\n",
       "       [3, 5, 5, 5, 5],\n",
       "       [5, 1, 5, 5, 2]])"
      ]
     },
     "execution_count": 34,
     "metadata": {},
     "output_type": "execute_result"
    }
   ],
   "source": [
    "array_RG = gen(pcg(seed = 365))\n",
    "array_RG.choice([1,2,3,4,5],p = [0.1,0.1,0.1,0.1,0.6],size = (5,5))\n"
   ]
  },
  {
   "cell_type": "markdown",
   "id": "0794107d",
   "metadata": {},
   "source": [
    "## Probability Distributions in NumPy"
   ]
  },
  {
   "cell_type": "code",
   "execution_count": 35,
   "id": "06bdf6e0",
   "metadata": {},
   "outputs": [
    {
     "data": {
      "text/plain": [
       "array([[2, 0, 1, 1, 2],\n",
       "       [1, 1, 0, 1, 1],\n",
       "       [1, 2, 1, 1, 0],\n",
       "       [0, 1, 0, 2, 1],\n",
       "       [0, 1, 0, 0, 2]], dtype=int64)"
      ]
     },
     "execution_count": 35,
     "metadata": {},
     "output_type": "execute_result"
    }
   ],
   "source": [
    "array_RG = gen(pcg(seed = 365)) \n",
    "array_RG.poisson(size = (5,5))   # Lambda = 1\n",
    "\n",
    "# The default Poisson distribution."
   ]
  },
  {
   "cell_type": "code",
   "execution_count": 36,
   "id": "0faa4968",
   "metadata": {},
   "outputs": [
    {
     "data": {
      "text/plain": [
       "array([[11, 12, 12, 14, 13],\n",
       "       [ 9, 10, 11, 11,  8],\n",
       "       [11,  8, 10,  9, 14],\n",
       "       [ 7,  8,  9, 15, 15],\n",
       "       [13,  8,  8,  7,  9]], dtype=int64)"
      ]
     },
     "execution_count": 36,
     "metadata": {},
     "output_type": "execute_result"
    }
   ],
   "source": [
    "array_RG = gen(pcg(seed = 365)) \n",
    "array_RG.poisson(lam = 10,size = (5,5)) "
   ]
  },
  {
   "cell_type": "code",
   "execution_count": 37,
   "id": "363b0559",
   "metadata": {},
   "outputs": [
    {
     "data": {
      "text/plain": [
       "array([[42, 44, 30, 36, 45],\n",
       "       [36, 41, 38, 42, 41],\n",
       "       [35, 31, 35, 46, 29],\n",
       "       [41, 41, 46, 34, 48],\n",
       "       [45, 45, 45, 40, 43]], dtype=int64)"
      ]
     },
     "execution_count": 37,
     "metadata": {},
     "output_type": "execute_result"
    }
   ],
   "source": [
    "array_RG = gen(pcg(seed = 365)) \n",
    "array_RG.binomial(n = 100, p = 0.4, size = (5,5))\n",
    "\n",
    "# A binomial distribution with p = 0.4 and 100 trials. \n",
    "# n = number of trails\n",
    "# p = probablity of getting our desired outcome"
   ]
  },
  {
   "cell_type": "code",
   "execution_count": 38,
   "id": "ad811a28",
   "metadata": {},
   "outputs": [
    {
     "data": {
      "text/plain": [
       "array([[10.37767822, 10.42451863,  9.63404367,  7.36153427,  9.82286787],\n",
       "       [ 5.81223125, 10.09354231,  6.46790532, 11.38740256,  8.97147918],\n",
       "       [10.85844698,  8.79081317,  5.962079  ,  9.99560681,  8.34539118],\n",
       "       [ 7.97105522,  8.9981544 ,  8.93530194,  9.6253307 ,  9.23850869],\n",
       "       [ 9.73729284,  5.3090678 , 10.13723528, 11.04372782,  7.11078651]])"
      ]
     },
     "execution_count": 38,
     "metadata": {},
     "output_type": "execute_result"
    }
   ],
   "source": [
    "array_RG = gen(pcg(seed = 365)) \n",
    "array_RG.logistic(loc = 9, scale = 1.2, size = (5,5))\n",
    "\n",
    "# A logistic distribution with a location = 9 and scale = 1.2."
   ]
  },
  {
   "cell_type": "markdown",
   "id": "abb57fcd",
   "metadata": {},
   "source": [
    "## Application of Random Data with NumPy"
   ]
  },
  {
   "cell_type": "code",
   "execution_count": 39,
   "id": "0efd343e",
   "metadata": {},
   "outputs": [],
   "source": [
    "# Test Creation - When Real data isn't available , We sometimes need pseudo - random data\n",
    "# to test how well a program performs\n"
   ]
  },
  {
   "cell_type": "code",
   "execution_count": 40,
   "id": "045826e2",
   "metadata": {},
   "outputs": [],
   "source": [
    "array_RG = gen(pcg(seed = 365)) \n",
    "\n",
    "array_column_1 = array_RG.normal(loc = 2, scale = 3, size = (1000))\n",
    "array_column_2 = array_RG.normal(loc = 7, scale = 2, size = (1000))\n",
    "array_column_3 = array_RG.logistic(loc = 11, scale = 3, size = (1000))\n",
    "array_column_4  = array_RG.exponential(scale = 4, size = (1000))\n",
    "array_column_5  = array_RG.geometric(p = 0.7, size = (1000))\n",
    "\n",
    "# Create the individual columns of the dataset we're creating."
   ]
  },
  {
   "cell_type": "code",
   "execution_count": 41,
   "id": "4bacfe53",
   "metadata": {},
   "outputs": [
    {
     "data": {
      "text/plain": [
       "array([[ 1.59077303,  6.42174295, 10.14698427,  6.91500737,  1.        ],\n",
       "       [ 2.28243293,  8.57902322, 15.93309953,  6.243605  ,  1.        ],\n",
       "       [ 1.81098674,  5.17270135, -0.46878789,  2.44997251,  1.        ],\n",
       "       ...,\n",
       "       [ 0.1973629 ,  4.3465854 ,  2.66485989,  0.80935387,  1.        ],\n",
       "       [-2.21015722,  8.2176402 , 12.69328115,  0.50644607,  2.        ],\n",
       "       [ 2.91161235,  7.90337695, 11.79840961,  4.86816939,  1.        ]])"
      ]
     },
     "execution_count": 41,
     "metadata": {},
     "output_type": "execute_result"
    }
   ],
   "source": [
    "random_test_data = np.array([array_column_1, array_column_2, array_column_3, array_column_4, array_column_5]).transpose()\n",
    "random_test_data\n",
    "\n",
    "# Use np.array to generate a new array with the 5 arrays we created earlier. \n",
    "# Use the transpose method to make sure our dataset isn't flipped. "
   ]
  },
  {
   "cell_type": "code",
   "execution_count": 42,
   "id": "b02dc98d",
   "metadata": {},
   "outputs": [
    {
     "data": {
      "text/plain": [
       "(1000, 5)"
      ]
     },
     "execution_count": 42,
     "metadata": {},
     "output_type": "execute_result"
    }
   ],
   "source": [
    "random_test_data.shape"
   ]
  },
  {
   "cell_type": "code",
   "execution_count": 43,
   "id": "ffc69bc0",
   "metadata": {},
   "outputs": [],
   "source": [
    "np.savetxt(\"Random-Test-from-NumPy.csv\", random_test_data, fmt = '%s', delimiter = ',')\n",
    "\n",
    "# Saving the arrays to an extrenal file we're creating. \n",
    "\n",
    "# file name -> \"Random-Test-from-NumPy.csv\"\n",
    "# random_test_data -> data we're exporting (saving to an external file)\n",
    "# format -> strings\n",
    "# delimiter \",\"\n",
    "\n",
    "# We'll talk more about these in just a bit. "
   ]
  },
  {
   "cell_type": "code",
   "execution_count": 44,
   "id": "527c0b30",
   "metadata": {},
   "outputs": [
    {
     "data": {
      "text/plain": [
       "array([[ 1.59077303,  6.42174295, 10.14698427,  6.91500737,  1.        ],\n",
       "       [ 2.28243293,  8.57902322, 15.93309953,  6.243605  ,  1.        ],\n",
       "       [ 1.81098674,  5.17270135, -0.46878789,  2.44997251,  1.        ],\n",
       "       ...,\n",
       "       [ 0.1973629 ,  4.3465854 ,  2.66485989,  0.80935387,  1.        ],\n",
       "       [-2.21015722,  8.2176402 , 12.69328115,  0.50644607,  2.        ],\n",
       "       [ 2.91161235,  7.90337695, 11.79840961,  4.86816939,  1.        ]])"
      ]
     },
     "execution_count": 44,
     "metadata": {},
     "output_type": "execute_result"
    }
   ],
   "source": [
    "np.genfromtxt(\"Random-Test-from-NumPy.csv\", delimiter = ',')\n",
    "\n",
    "# Importing the data from the file we just created. "
   ]
  },
  {
   "cell_type": "code",
   "execution_count": 45,
   "id": "47fc8e8e",
   "metadata": {},
   "outputs": [
    {
     "name": "stdout",
     "output_type": "stream",
     "text": [
      "[[ 1.59077303  6.42174295 10.14698427  6.91500737  1.        ]\n",
      " [ 2.28243293  8.57902322 15.93309953  6.243605    1.        ]\n",
      " [ 1.81098674  5.17270135 -0.46878789  2.44997251  1.        ]\n",
      " ...\n",
      " [ 0.1973629   4.3465854   2.66485989  0.80935387  1.        ]\n",
      " [-2.21015722  8.2176402  12.69328115  0.50644607  2.        ]\n",
      " [ 2.91161235  7.90337695 11.79840961  4.86816939  1.        ]]\n"
     ]
    }
   ],
   "source": [
    "rand_test_data = np.genfromtxt(\"Random-Test-from-NumPy.csv\", delimiter = ',')\n",
    "print(rand_test_data)"
   ]
  },
  {
   "cell_type": "markdown",
   "id": "d5c999b7",
   "metadata": {},
   "source": [
    "# ***********END***********"
   ]
  }
 ],
 "metadata": {
  "kernelspec": {
   "display_name": "Python 3 (ipykernel)",
   "language": "python",
   "name": "python3"
  },
  "language_info": {
   "codemirror_mode": {
    "name": "ipython",
    "version": 3
   },
   "file_extension": ".py",
   "mimetype": "text/x-python",
   "name": "python",
   "nbconvert_exporter": "python",
   "pygments_lexer": "ipython3",
   "version": "3.9.13"
  }
 },
 "nbformat": 4,
 "nbformat_minor": 5
}
