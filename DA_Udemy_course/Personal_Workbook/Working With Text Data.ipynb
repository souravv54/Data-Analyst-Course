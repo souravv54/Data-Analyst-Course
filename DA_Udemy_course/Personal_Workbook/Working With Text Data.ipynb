{
 "cells": [
  {
   "cell_type": "markdown",
   "id": "160dde7d",
   "metadata": {},
   "source": [
    "## Working with Text Data and Arguement Specifiers"
   ]
  },
  {
   "cell_type": "code",
   "execution_count": 1,
   "id": "3aa649d5",
   "metadata": {},
   "outputs": [],
   "source": [
    "# Text Data vs Text file\n",
    "# Text files : Files containing information from the text data type only.\n",
    "#Example : JSON,CSV,HTML\n",
    "# Text Data : Info. and Data which represent text as supposed to numbers or boolean, for instance.\n",
    "# Example : Text data - \"No feedback has been provided yet\"\n",
    "#           Numeric data - 15,20.50 \n",
    "#           Boolean Data - True,False"
   ]
  },
  {
   "cell_type": "code",
   "execution_count": 2,
   "id": "cbdb847c",
   "metadata": {},
   "outputs": [],
   "source": [
    "# Arguement Specifier - is a combination if symbols that indicates where you want to insert information\n",
    "# Specifies the data type of that arguement\n",
    "# Modulus operator(%) = allows us to point to the variable form which we did like to obtain information\n",
    "#                       and insert it into the original string\n",
    "# %s - the combination of symbols that we use to indicate where we would like to insert not just a string,\n",
    "#      also any value or object that can have a string representation.\n",
    "# %d - for integers\n",
    "# %f - for floats"
   ]
  },
  {
   "cell_type": "code",
   "execution_count": 3,
   "id": "599d75d0",
   "metadata": {},
   "outputs": [
    {
     "name": "stdout",
     "output_type": "stream",
     "text": [
      "This item is from product category \"A\".\n"
     ]
    }
   ],
   "source": [
    "product_category = 'A'\n",
    "print('This item is from product category \"%s\".'% product_category)"
   ]
  },
  {
   "cell_type": "code",
   "execution_count": 4,
   "id": "e28ab5b3",
   "metadata": {},
   "outputs": [
    {
     "name": "stdout",
     "output_type": "stream",
     "text": [
      "This item is from product category \"B\".\n"
     ]
    }
   ],
   "source": [
    "product_category = ['A','B']\n",
    "print('This item is from product category \"%s\".'% product_category[1])"
   ]
  },
  {
   "cell_type": "code",
   "execution_count": 5,
   "id": "a1f48f4c",
   "metadata": {},
   "outputs": [
    {
     "name": "stdout",
     "output_type": "stream",
     "text": [
      "This item is from product category \"600\".\n"
     ]
    }
   ],
   "source": [
    "quantitites = [500,600]\n",
    "print('This item is from product category \"%s\".'% quantitites[1])"
   ]
  },
  {
   "cell_type": "code",
   "execution_count": 6,
   "id": "e8c65366",
   "metadata": {},
   "outputs": [
    {
     "name": "stdout",
     "output_type": "stream",
     "text": [
      "We currently have 500 available units of this item.\n"
     ]
    }
   ],
   "source": [
    "print(\"We currently have %d available units of this item.\" % quantitites[0])"
   ]
  },
  {
   "cell_type": "code",
   "execution_count": 7,
   "id": "332dd942",
   "metadata": {},
   "outputs": [],
   "source": [
    "# NOTE on float values :\n",
    "# $%f --> $60.350000\n",
    "# $%.f --> $60\n",
    "# $%.1f --> $60.4\n",
    "# $%.2f --> $60.35"
   ]
  },
  {
   "cell_type": "markdown",
   "id": "77ae42c0",
   "metadata": {},
   "source": [
    "## Manipulating Python Strings"
   ]
  },
  {
   "cell_type": "code",
   "execution_count": 8,
   "id": "6661f7a5",
   "metadata": {},
   "outputs": [
    {
     "name": "stdout",
     "output_type": "stream",
     "text": [
      "This product is from Category \"A\".\n"
     ]
    }
   ],
   "source": [
    "print('This product is from Category \"A\".')"
   ]
  },
  {
   "cell_type": "code",
   "execution_count": 9,
   "id": "b278208a",
   "metadata": {},
   "outputs": [
    {
     "name": "stdout",
     "output_type": "stream",
     "text": [
      "This product is from \n",
      "Category \"A\".\n"
     ]
    }
   ],
   "source": [
    "print('This product is from \\nCategory \"A\".')"
   ]
  },
  {
   "cell_type": "code",
   "execution_count": 10,
   "id": "4ff7b8ee",
   "metadata": {},
   "outputs": [
    {
     "name": "stdout",
     "output_type": "stream",
     "text": [
      "This product is from Category \"A\".\tThis product is from Category \"B\".\n"
     ]
    }
   ],
   "source": [
    "print('This product is from Category \"A\".\\t' + 'This product is from Category \"B\".')"
   ]
  },
  {
   "cell_type": "code",
   "execution_count": 11,
   "id": "6ba0a4c9",
   "metadata": {},
   "outputs": [],
   "source": [
    "# \\n = New line\n",
    "# \\t = Tab spaces\n",
    "# \\r = Carriage Return - Replace the same numbers of charaters at the start"
   ]
  },
  {
   "cell_type": "code",
   "execution_count": 12,
   "id": "57146b7e",
   "metadata": {},
   "outputs": [
    {
     "name": "stdout",
     "output_type": "stream",
     "text": [
      "This product is from Category \"A\". \r",
      "Product 01\n"
     ]
    }
   ],
   "source": [
    "print('This product is from Category \"A\". \\rProduct 01')"
   ]
  },
  {
   "cell_type": "code",
   "execution_count": 13,
   "id": "8bf5ddf1",
   "metadata": {},
   "outputs": [
    {
     "name": "stdout",
     "output_type": "stream",
     "text": [
      "This product is from Category \"A\". \r",
      "Product 0001\n"
     ]
    }
   ],
   "source": [
    "print('This product is from Category \"A\". \\rProduct 0001')"
   ]
  },
  {
   "cell_type": "markdown",
   "id": "c37d8949",
   "metadata": {},
   "source": [
    "## Using Various Python String Methods"
   ]
  },
  {
   "cell_type": "code",
   "execution_count": 14,
   "id": "ea3e7e75",
   "metadata": {},
   "outputs": [],
   "source": [
    "s = 'Price per unit'"
   ]
  },
  {
   "cell_type": "code",
   "execution_count": 15,
   "id": "1100ff45",
   "metadata": {},
   "outputs": [
    {
     "data": {
      "text/plain": [
       "'Price per unit'"
      ]
     },
     "execution_count": 15,
     "metadata": {},
     "output_type": "execute_result"
    }
   ],
   "source": [
    "s"
   ]
  },
  {
   "cell_type": "code",
   "execution_count": 16,
   "id": "6bb0d712",
   "metadata": {},
   "outputs": [
    {
     "data": {
      "text/plain": [
       "'Cost per unit'"
      ]
     },
     "execution_count": 16,
     "metadata": {},
     "output_type": "execute_result"
    }
   ],
   "source": [
    "s1 = s.replace('Price','Cost')\n",
    "s1"
   ]
  },
  {
   "cell_type": "code",
   "execution_count": 17,
   "id": "54c075bc",
   "metadata": {},
   "outputs": [
    {
     "data": {
      "text/plain": [
       "True"
      ]
     },
     "execution_count": 17,
     "metadata": {},
     "output_type": "execute_result"
    }
   ],
   "source": [
    "s1.startswith('Cost')"
   ]
  },
  {
   "cell_type": "code",
   "execution_count": 18,
   "id": "64c84b70",
   "metadata": {},
   "outputs": [
    {
     "data": {
      "text/plain": [
       "False"
      ]
     },
     "execution_count": 18,
     "metadata": {},
     "output_type": "execute_result"
    }
   ],
   "source": [
    "s1.startswith('cost')"
   ]
  },
  {
   "cell_type": "code",
   "execution_count": 19,
   "id": "cd60a0ce",
   "metadata": {},
   "outputs": [
    {
     "data": {
      "text/plain": [
       "True"
      ]
     },
     "execution_count": 19,
     "metadata": {},
     "output_type": "execute_result"
    }
   ],
   "source": [
    "s.startswith('Pri')"
   ]
  },
  {
   "cell_type": "code",
   "execution_count": 20,
   "id": "1b720e4b",
   "metadata": {},
   "outputs": [
    {
     "data": {
      "text/plain": [
       "True"
      ]
     },
     "execution_count": 20,
     "metadata": {},
     "output_type": "execute_result"
    }
   ],
   "source": [
    "s1.endswith('nit')"
   ]
  },
  {
   "cell_type": "code",
   "execution_count": 21,
   "id": "6a2867a8",
   "metadata": {},
   "outputs": [],
   "source": [
    "#SPLIT METHOD - .split() :splits the original string by a specified arguement and returns a list \n",
    "#                         containing the sepeate values"
   ]
  },
  {
   "cell_type": "code",
   "execution_count": 22,
   "id": "3942cbb2",
   "metadata": {},
   "outputs": [
    {
     "data": {
      "text/plain": [
       "'Cost per unit'"
      ]
     },
     "execution_count": 22,
     "metadata": {},
     "output_type": "execute_result"
    }
   ],
   "source": [
    "s1"
   ]
  },
  {
   "cell_type": "code",
   "execution_count": 23,
   "id": "9cd816d7",
   "metadata": {},
   "outputs": [
    {
     "data": {
      "text/plain": [
       "['Cost', 'per', 'unit']"
      ]
     },
     "execution_count": 23,
     "metadata": {},
     "output_type": "execute_result"
    }
   ],
   "source": [
    "s1.split()"
   ]
  },
  {
   "cell_type": "code",
   "execution_count": 24,
   "id": "03c60aac",
   "metadata": {},
   "outputs": [
    {
     "data": {
      "text/plain": [
       "3"
      ]
     },
     "execution_count": 24,
     "metadata": {},
     "output_type": "execute_result"
    }
   ],
   "source": [
    "len(s1.split())"
   ]
  },
  {
   "cell_type": "code",
   "execution_count": 25,
   "id": "a8f9495b",
   "metadata": {},
   "outputs": [
    {
     "data": {
      "text/plain": [
       "['Cost ', ' unit']"
      ]
     },
     "execution_count": 25,
     "metadata": {},
     "output_type": "execute_result"
    }
   ],
   "source": [
    "s1.split('per')"
   ]
  },
  {
   "cell_type": "code",
   "execution_count": 26,
   "id": "2585dd16",
   "metadata": {},
   "outputs": [],
   "source": [
    "#maxsplit() : Specifies the maximum number of splits you can obtain with this execution"
   ]
  },
  {
   "cell_type": "code",
   "execution_count": 27,
   "id": "287e3ae3",
   "metadata": {},
   "outputs": [
    {
     "data": {
      "text/plain": [
       "['Cost per unit']"
      ]
     },
     "execution_count": 27,
     "metadata": {},
     "output_type": "execute_result"
    }
   ],
   "source": [
    "s1.split(' ',maxsplit=0)"
   ]
  },
  {
   "cell_type": "code",
   "execution_count": 28,
   "id": "9410f50d",
   "metadata": {},
   "outputs": [],
   "source": [
    "s2 = 'Mr., John,Wilson'"
   ]
  },
  {
   "cell_type": "code",
   "execution_count": 29,
   "id": "a4353ef2",
   "metadata": {},
   "outputs": [
    {
     "data": {
      "text/plain": [
       "['Mr.', ' John', 'Wilson']"
      ]
     },
     "execution_count": 29,
     "metadata": {},
     "output_type": "execute_result"
    }
   ],
   "source": [
    "s2.split(',')"
   ]
  },
  {
   "cell_type": "code",
   "execution_count": 30,
   "id": "22e07cd8",
   "metadata": {},
   "outputs": [
    {
     "data": {
      "text/plain": [
       "'Mr.'"
      ]
     },
     "execution_count": 30,
     "metadata": {},
     "output_type": "execute_result"
    }
   ],
   "source": [
    "s2.split(',')[0]"
   ]
  },
  {
   "cell_type": "code",
   "execution_count": 31,
   "id": "e97db796",
   "metadata": {},
   "outputs": [
    {
     "data": {
      "text/plain": [
       "'Wilson'"
      ]
     },
     "execution_count": 31,
     "metadata": {},
     "output_type": "execute_result"
    }
   ],
   "source": [
    "s2.split(',')[2]"
   ]
  },
  {
   "cell_type": "code",
   "execution_count": 32,
   "id": "9b8700e6",
   "metadata": {},
   "outputs": [],
   "source": [
    "s3 = 'Mrs. Amy Moore'"
   ]
  },
  {
   "cell_type": "code",
   "execution_count": 33,
   "id": "5c16c06d",
   "metadata": {},
   "outputs": [
    {
     "data": {
      "text/plain": [
       "'MRS. AMY MOORE'"
      ]
     },
     "execution_count": 33,
     "metadata": {},
     "output_type": "execute_result"
    }
   ],
   "source": [
    "s3.upper()"
   ]
  },
  {
   "cell_type": "code",
   "execution_count": 34,
   "id": "5e9d2da0",
   "metadata": {},
   "outputs": [
    {
     "data": {
      "text/plain": [
       "'mrs. amy moore'"
      ]
     },
     "execution_count": 34,
     "metadata": {},
     "output_type": "execute_result"
    }
   ],
   "source": [
    "s3.lower()"
   ]
  },
  {
   "cell_type": "code",
   "execution_count": 35,
   "id": "3ceb6d77",
   "metadata": {},
   "outputs": [
    {
     "data": {
      "text/plain": [
       "'Mrs. amy moore'"
      ]
     },
     "execution_count": 35,
     "metadata": {},
     "output_type": "execute_result"
    }
   ],
   "source": [
    "s3.capitalize()"
   ]
  },
  {
   "cell_type": "code",
   "execution_count": 36,
   "id": "db8a8e67",
   "metadata": {},
   "outputs": [
    {
     "data": {
      "text/plain": [
       "'Mrs. Amy Moore'"
      ]
     },
     "execution_count": 36,
     "metadata": {},
     "output_type": "execute_result"
    }
   ],
   "source": [
    "s3.title()"
   ]
  },
  {
   "cell_type": "code",
   "execution_count": 37,
   "id": "2783dda5",
   "metadata": {},
   "outputs": [
    {
     "data": {
      "text/plain": [
       "True"
      ]
     },
     "execution_count": 37,
     "metadata": {},
     "output_type": "execute_result"
    }
   ],
   "source": [
    "s3 == s3.title()"
   ]
  },
  {
   "cell_type": "code",
   "execution_count": 38,
   "id": "00a3b001",
   "metadata": {},
   "outputs": [
    {
     "data": {
      "text/plain": [
       "'Cost Per Unit'"
      ]
     },
     "execution_count": 38,
     "metadata": {},
     "output_type": "execute_result"
    }
   ],
   "source": [
    "'Cost per unit'.title()"
   ]
  },
  {
   "cell_type": "code",
   "execution_count": 39,
   "id": "5e4e2412",
   "metadata": {},
   "outputs": [],
   "source": [
    "s4 = '    quarterly earnings report     '"
   ]
  },
  {
   "cell_type": "code",
   "execution_count": 40,
   "id": "26482451",
   "metadata": {},
   "outputs": [
    {
     "data": {
      "text/plain": [
       "'quarterly earnings report'"
      ]
     },
     "execution_count": 40,
     "metadata": {},
     "output_type": "execute_result"
    }
   ],
   "source": [
    "s4.strip()"
   ]
  },
  {
   "cell_type": "code",
   "execution_count": 41,
   "id": "5bf6366c",
   "metadata": {},
   "outputs": [
    {
     "data": {
      "text/plain": [
       "'quarterly earnings report'"
      ]
     },
     "execution_count": 41,
     "metadata": {},
     "output_type": "execute_result"
    }
   ],
   "source": [
    "s4.strip(' ')"
   ]
  },
  {
   "cell_type": "code",
   "execution_count": 42,
   "id": "2cd60dc8",
   "metadata": {},
   "outputs": [
    {
     "data": {
      "text/plain": [
       "'quarterly earnings report'"
      ]
     },
     "execution_count": 42,
     "metadata": {},
     "output_type": "execute_result"
    }
   ],
   "source": [
    "s4.strip(' r')"
   ]
  },
  {
   "cell_type": "code",
   "execution_count": 43,
   "id": "22bfaced",
   "metadata": {},
   "outputs": [
    {
     "data": {
      "text/plain": [
       "'uarterly earnings repor'"
      ]
     },
     "execution_count": 43,
     "metadata": {},
     "output_type": "execute_result"
    }
   ],
   "source": [
    "s4.strip(' qt')"
   ]
  },
  {
   "cell_type": "code",
   "execution_count": 44,
   "id": "5053db90",
   "metadata": {},
   "outputs": [
    {
     "data": {
      "text/plain": [
       "'    quarterly earnings report     '"
      ]
     },
     "execution_count": 44,
     "metadata": {},
     "output_type": "execute_result"
    }
   ],
   "source": [
    "s4.strip('qt')"
   ]
  },
  {
   "cell_type": "code",
   "execution_count": 45,
   "id": "73f591a2",
   "metadata": {},
   "outputs": [
    {
     "data": {
      "text/plain": [
       "'quarterly earnings report     '"
      ]
     },
     "execution_count": 45,
     "metadata": {},
     "output_type": "execute_result"
    }
   ],
   "source": [
    "s4.lstrip()"
   ]
  },
  {
   "cell_type": "code",
   "execution_count": 46,
   "id": "f19c7b7d",
   "metadata": {},
   "outputs": [
    {
     "data": {
      "text/plain": [
       "'    quarterly earnings report'"
      ]
     },
     "execution_count": 46,
     "metadata": {},
     "output_type": "execute_result"
    }
   ],
   "source": [
    "s4.rstrip()"
   ]
  },
  {
   "cell_type": "code",
   "execution_count": 47,
   "id": "e4fcf4e4",
   "metadata": {},
   "outputs": [
    {
     "data": {
      "text/plain": [
       "'nings repo'"
      ]
     },
     "execution_count": 47,
     "metadata": {},
     "output_type": "execute_result"
    }
   ],
   "source": [
    "s4.strip(' quarterly')"
   ]
  },
  {
   "cell_type": "code",
   "execution_count": 48,
   "id": "91838847",
   "metadata": {},
   "outputs": [],
   "source": [
    "s5 = ' %&!quarterly earning report  *'"
   ]
  },
  {
   "cell_type": "code",
   "execution_count": 49,
   "id": "026c6a7d",
   "metadata": {},
   "outputs": [
    {
     "data": {
      "text/plain": [
       "'quarterly earning report'"
      ]
     },
     "execution_count": 49,
     "metadata": {},
     "output_type": "execute_result"
    }
   ],
   "source": [
    "s5.strip(' !@#$%^&*()')"
   ]
  },
  {
   "cell_type": "markdown",
   "id": "acb2ca31",
   "metadata": {},
   "source": [
    "## String Accessors"
   ]
  },
  {
   "cell_type": "code",
   "execution_count": 50,
   "id": "9b58c9b6",
   "metadata": {},
   "outputs": [],
   "source": [
    "import pandas as pd"
   ]
  },
  {
   "cell_type": "code",
   "execution_count": 51,
   "id": "1f487459",
   "metadata": {},
   "outputs": [
    {
     "data": {
      "text/plain": [
       "0    employee satisfaction rating\n",
       "1             employee churn rate\n",
       "dtype: object"
      ]
     },
     "execution_count": 51,
     "metadata": {},
     "output_type": "execute_result"
    }
   ],
   "source": [
    "operational_kpis = pd.Series([\"employee satisfaction rating\", \"employee churn rate\"])\n",
    "operational_kpis"
   ]
  },
  {
   "cell_type": "code",
   "execution_count": 52,
   "id": "286b2220",
   "metadata": {},
   "outputs": [
    {
     "data": {
      "text/plain": [
       "' satisfaction rating'"
      ]
     },
     "execution_count": 52,
     "metadata": {},
     "output_type": "execute_result"
    }
   ],
   "source": [
    "operational_kpis[0].lstrip('employee')"
   ]
  },
  {
   "cell_type": "code",
   "execution_count": 53,
   "id": "1f49ba9a",
   "metadata": {},
   "outputs": [
    {
     "data": {
      "text/plain": [
       "' churn rate'"
      ]
     },
     "execution_count": 53,
     "metadata": {},
     "output_type": "execute_result"
    }
   ],
   "source": [
    "operational_kpis[1].lstrip('employee')"
   ]
  },
  {
   "cell_type": "code",
   "execution_count": 54,
   "id": "394a974d",
   "metadata": {},
   "outputs": [],
   "source": [
    "# Series.str : can be used to access the values of the series as strings and apply serveral methods to it"
   ]
  },
  {
   "cell_type": "code",
   "execution_count": 55,
   "id": "ad139ea3",
   "metadata": {},
   "outputs": [
    {
     "name": "stdout",
     "output_type": "stream",
     "text": [
      "<pandas.core.strings.accessor.StringMethods object at 0x000001F4F904E3D0>\n"
     ]
    }
   ],
   "source": [
    "print(operational_kpis.str)"
   ]
  },
  {
   "cell_type": "code",
   "execution_count": 56,
   "id": "cb9967aa",
   "metadata": {},
   "outputs": [
    {
     "data": {
      "text/plain": [
       "0    m\n",
       "1    m\n",
       "dtype: object"
      ]
     },
     "execution_count": 56,
     "metadata": {},
     "output_type": "execute_result"
    }
   ],
   "source": [
    "operational_kpis.str[1]\n",
    "# The character of position 1"
   ]
  },
  {
   "cell_type": "code",
   "execution_count": 57,
   "id": "f22e9db5",
   "metadata": {},
   "outputs": [
    {
     "data": {
      "text/plain": [
       "'employee churn rate'"
      ]
     },
     "execution_count": 57,
     "metadata": {},
     "output_type": "execute_result"
    }
   ],
   "source": [
    "operational_kpis[1]\n",
    "# The value of position 1"
   ]
  },
  {
   "cell_type": "code",
   "execution_count": 58,
   "id": "52e13e34",
   "metadata": {},
   "outputs": [
    {
     "data": {
      "text/plain": [
       "0     satisfaction rating\n",
       "1              churn rate\n",
       "dtype: object"
      ]
     },
     "execution_count": 58,
     "metadata": {},
     "output_type": "execute_result"
    }
   ],
   "source": [
    "operational_kpis.str.lstrip('employee')"
   ]
  },
  {
   "cell_type": "code",
   "execution_count": 59,
   "id": "ccd48132",
   "metadata": {},
   "outputs": [
    {
     "data": {
      "text/plain": [
       "0    Text_data\n",
       "1           34\n",
       "dtype: object"
      ]
     },
     "execution_count": 59,
     "metadata": {},
     "output_type": "execute_result"
    }
   ],
   "source": [
    "test_series = pd.Series(['Text_data','34'])\n",
    "test_series"
   ]
  },
  {
   "cell_type": "code",
   "execution_count": 60,
   "id": "137a7963",
   "metadata": {},
   "outputs": [
    {
     "data": {
      "text/plain": [
       "0    data\n",
       "1      34\n",
       "dtype: object"
      ]
     },
     "execution_count": 60,
     "metadata": {},
     "output_type": "execute_result"
    }
   ],
   "source": [
    "test_series.str.lstrip('Text_')"
   ]
  },
  {
   "cell_type": "code",
   "execution_count": 61,
   "id": "e5530160",
   "metadata": {},
   "outputs": [
    {
     "data": {
      "text/plain": [
       "0    $400,000\n",
       "1    $500,000\n",
       "2    $600,000\n",
       "dtype: object"
      ]
     },
     "execution_count": 61,
     "metadata": {},
     "output_type": "execute_result"
    }
   ],
   "source": [
    "house_prices = pd.Series(['$400,000','$500,000','$600,000'])\n",
    "house_prices"
   ]
  },
  {
   "cell_type": "code",
   "execution_count": 62,
   "id": "49e6544f",
   "metadata": {},
   "outputs": [
    {
     "data": {
      "text/plain": [
       "0    True\n",
       "1    True\n",
       "2    True\n",
       "dtype: bool"
      ]
     },
     "execution_count": 62,
     "metadata": {},
     "output_type": "execute_result"
    }
   ],
   "source": [
    "house_prices.str.contains(\"$\")"
   ]
  },
  {
   "cell_type": "markdown",
   "id": "ae92bda6",
   "metadata": {},
   "source": [
    "## Using the .format() Method"
   ]
  },
  {
   "cell_type": "code",
   "execution_count": 63,
   "id": "ee5029f7",
   "metadata": {},
   "outputs": [],
   "source": [
    "# format(): A very useful tool for preprocessing text data\n",
    "# format() is applicable to string values only"
   ]
  },
  {
   "cell_type": "code",
   "execution_count": 64,
   "id": "732ac893",
   "metadata": {},
   "outputs": [
    {
     "data": {
      "text/plain": [
       "(1, 3, 12)"
      ]
     },
     "execution_count": 64,
     "metadata": {},
     "output_type": "execute_result"
    }
   ],
   "source": [
    "time_horizon = 1,3,12\n",
    "time_horizon"
   ]
  },
  {
   "cell_type": "code",
   "execution_count": 65,
   "id": "03721c36",
   "metadata": {},
   "outputs": [
    {
     "data": {
      "text/plain": [
       "['Product A', 'Product B']"
      ]
     },
     "execution_count": 65,
     "metadata": {},
     "output_type": "execute_result"
    }
   ],
   "source": [
    "products = ['Product A','Product B']\n",
    "products"
   ]
  },
  {
   "cell_type": "code",
   "execution_count": 66,
   "id": "c62c71a5",
   "metadata": {},
   "outputs": [
    {
     "data": {
      "text/plain": [
       "'Expected sales for a period of 12 month(s) for Product B:'"
      ]
     },
     "execution_count": 66,
     "metadata": {},
     "output_type": "execute_result"
    }
   ],
   "source": [
    "'Expected sales for a period of {} month(s) for {}:' .format(12,'Product B')"
   ]
  },
  {
   "cell_type": "code",
   "execution_count": 67,
   "id": "a34306c3",
   "metadata": {},
   "outputs": [
    {
     "data": {
      "text/plain": [
       "\"Expected sales for a period of (1, 3, 12) month(s) for ['Product A', 'Product B']:\""
      ]
     },
     "execution_count": 67,
     "metadata": {},
     "output_type": "execute_result"
    }
   ],
   "source": [
    "'Expected sales for a period of {} month(s) for {}:' .format(time_horizon,products)"
   ]
  },
  {
   "cell_type": "code",
   "execution_count": 68,
   "id": "9bf9f284",
   "metadata": {},
   "outputs": [
    {
     "data": {
      "text/plain": [
       "'Expected sales for a period of 12 month(s) for Product B:'"
      ]
     },
     "execution_count": 68,
     "metadata": {},
     "output_type": "execute_result"
    }
   ],
   "source": [
    "#INDEXING\n",
    "'Expected sales for a period of {} month(s) for {}:' .format(time_horizon[2],products[1])"
   ]
  },
  {
   "cell_type": "code",
   "execution_count": 69,
   "id": "1cfb09cd",
   "metadata": {},
   "outputs": [],
   "source": [
    "# Arguements\n",
    "# 1. Positional\n",
    "# 2. Keyword\n"
   ]
  },
  {
   "cell_type": "code",
   "execution_count": 70,
   "id": "49fea362",
   "metadata": {},
   "outputs": [
    {
     "data": {
      "text/plain": [
       "'Expected sales for a period of 12 month(s) for Product B:'"
      ]
     },
     "execution_count": 70,
     "metadata": {},
     "output_type": "execute_result"
    }
   ],
   "source": [
    "#Positional\n",
    "'Expected sales for a period of {0} month(s) for {1}:' .format(time_horizon[2],products[1])"
   ]
  },
  {
   "cell_type": "code",
   "execution_count": 71,
   "id": "f505c600",
   "metadata": {},
   "outputs": [
    {
     "data": {
      "text/plain": [
       "'Expected sales for a period of 12 month(s) for Product B:'"
      ]
     },
     "execution_count": 71,
     "metadata": {},
     "output_type": "execute_result"
    }
   ],
   "source": [
    "# Keyword = named Arguements:\n",
    "'Expected sales for a period of {t_hor} month(s) for {prod}:' .format(t_hor = 12,prod = 'Product B')"
   ]
  },
  {
   "cell_type": "code",
   "execution_count": 72,
   "id": "88cce298",
   "metadata": {},
   "outputs": [
    {
     "data": {
      "text/plain": [
       "'Expected sales for a period of 3 month(s) for Product A: $10000'"
      ]
     },
     "execution_count": 72,
     "metadata": {},
     "output_type": "execute_result"
    }
   ],
   "source": [
    "'Expected sales for a period of {t_hor[1]} month(s) for {prod[0]}: ${sales}' .format(t_hor = time_horizon,prod = products, sales = 10000)"
   ]
  }
 ],
 "metadata": {
  "kernelspec": {
   "display_name": "Python 3 (ipykernel)",
   "language": "python",
   "name": "python3"
  },
  "language_info": {
   "codemirror_mode": {
    "name": "ipython",
    "version": 3
   },
   "file_extension": ".py",
   "mimetype": "text/x-python",
   "name": "python",
   "nbconvert_exporter": "python",
   "pygments_lexer": "ipython3",
   "version": "3.9.13"
  }
 },
 "nbformat": 4,
 "nbformat_minor": 5
}
