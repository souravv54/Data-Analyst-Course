{
 "cells": [
  {
   "cell_type": "code",
   "execution_count": 1,
   "id": "2bac90a1",
   "metadata": {},
   "outputs": [],
   "source": [
    "#Importing Modules"
   ]
  },
  {
   "cell_type": "code",
   "execution_count": 3,
   "id": "a22b32a0",
   "metadata": {},
   "outputs": [],
   "source": [
    "import math"
   ]
  },
  {
   "cell_type": "code",
   "execution_count": 4,
   "id": "130064e3",
   "metadata": {},
   "outputs": [
    {
     "data": {
      "text/plain": [
       "5.0"
      ]
     },
     "execution_count": 4,
     "metadata": {},
     "output_type": "execute_result"
    }
   ],
   "source": [
    "math.sqrt(25)"
   ]
  },
  {
   "cell_type": "code",
   "execution_count": 5,
   "id": "fd9f6e21",
   "metadata": {},
   "outputs": [],
   "source": [
    "from math import sqrt"
   ]
  },
  {
   "cell_type": "code",
   "execution_count": 6,
   "id": "b7c22fe2",
   "metadata": {},
   "outputs": [
    {
     "data": {
      "text/plain": [
       "5.0"
      ]
     },
     "execution_count": 6,
     "metadata": {},
     "output_type": "execute_result"
    }
   ],
   "source": [
    "sqrt(25)"
   ]
  },
  {
   "cell_type": "code",
   "execution_count": 7,
   "id": "65329371",
   "metadata": {},
   "outputs": [],
   "source": [
    "from math import sqrt as s"
   ]
  },
  {
   "cell_type": "code",
   "execution_count": 8,
   "id": "97dccd32",
   "metadata": {},
   "outputs": [
    {
     "data": {
      "text/plain": [
       "6.0"
      ]
     },
     "execution_count": 8,
     "metadata": {},
     "output_type": "execute_result"
    }
   ],
   "source": [
    "s(36)"
   ]
  },
  {
   "cell_type": "code",
   "execution_count": 9,
   "id": "45c67cb6",
   "metadata": {},
   "outputs": [
    {
     "data": {
      "text/plain": [
       "7.0"
      ]
     },
     "execution_count": 9,
     "metadata": {},
     "output_type": "execute_result"
    }
   ],
   "source": [
    "import math as m\n",
    "m.sqrt(49)"
   ]
  },
  {
   "cell_type": "code",
   "execution_count": 10,
   "id": "8d5136a8",
   "metadata": {},
   "outputs": [],
   "source": [
    "from math import *\n"
   ]
  },
  {
   "cell_type": "code",
   "execution_count": 11,
   "id": "a308c3ba",
   "metadata": {},
   "outputs": [
    {
     "data": {
      "text/plain": [
       "8.0"
      ]
     },
     "execution_count": 11,
     "metadata": {},
     "output_type": "execute_result"
    }
   ],
   "source": [
    "sqrt(64)"
   ]
  },
  {
   "cell_type": "code",
   "execution_count": 13,
   "id": "47654999",
   "metadata": {},
   "outputs": [
    {
     "name": "stdout",
     "output_type": "stream",
     "text": [
      "Help on built-in function sqrt in module math:\n",
      "\n",
      "sqrt(x, /)\n",
      "    Return the square root of x.\n",
      "\n"
     ]
    }
   ],
   "source": [
    "help(math.sqrt)"
   ]
  },
  {
   "cell_type": "code",
   "execution_count": 14,
   "id": "09623e66",
   "metadata": {},
   "outputs": [],
   "source": [
    "#Intro to NumPy and Pandas"
   ]
  },
  {
   "cell_type": "code",
   "execution_count": 15,
   "id": "cde8312a",
   "metadata": {},
   "outputs": [],
   "source": [
    "#NumPy - the fundamental package for scientific computing with python"
   ]
  },
  {
   "cell_type": "code",
   "execution_count": 16,
   "id": "3e021644",
   "metadata": {},
   "outputs": [],
   "source": [
    "#NumPy - Number and Python"
   ]
  },
  {
   "cell_type": "code",
   "execution_count": 1,
   "id": "49cf49de",
   "metadata": {},
   "outputs": [],
   "source": [
    "import numpy as np\n"
   ]
  },
  {
   "cell_type": "code",
   "execution_count": 2,
   "id": "acbe1beb",
   "metadata": {},
   "outputs": [
    {
     "data": {
      "text/plain": [
       "'1.23.5'"
      ]
     },
     "execution_count": 2,
     "metadata": {},
     "output_type": "execute_result"
    }
   ],
   "source": [
    "np.__version__\n"
   ]
  },
  {
   "cell_type": "code",
   "execution_count": 26,
   "id": "eefcdf5e",
   "metadata": {},
   "outputs": [],
   "source": [
    "#Pandas - Pandel Data : Multiple observations over multiple periods of time"
   ]
  },
  {
   "cell_type": "code",
   "execution_count": 1,
   "id": "0a8b32fd",
   "metadata": {},
   "outputs": [],
   "source": [
    "import pandas as pd\n"
   ]
  },
  {
   "cell_type": "code",
   "execution_count": 3,
   "id": "f4b975c3",
   "metadata": {},
   "outputs": [
    {
     "data": {
      "text/plain": [
       "'1.5.2'"
      ]
     },
     "execution_count": 3,
     "metadata": {},
     "output_type": "execute_result"
    }
   ],
   "source": [
    "pd.__version__\n"
   ]
  },
  {
   "cell_type": "code",
   "execution_count": null,
   "id": "b3e3e879",
   "metadata": {},
   "outputs": [],
   "source": []
  }
 ],
 "metadata": {
  "kernelspec": {
   "display_name": "Python 3 (ipykernel)",
   "language": "python",
   "name": "python3"
  },
  "language_info": {
   "codemirror_mode": {
    "name": "ipython",
    "version": 3
   },
   "file_extension": ".py",
   "mimetype": "text/x-python",
   "name": "python",
   "nbconvert_exporter": "python",
   "pygments_lexer": "ipython3",
   "version": "3.9.13"
  }
 },
 "nbformat": 4,
 "nbformat_minor": 5
}
