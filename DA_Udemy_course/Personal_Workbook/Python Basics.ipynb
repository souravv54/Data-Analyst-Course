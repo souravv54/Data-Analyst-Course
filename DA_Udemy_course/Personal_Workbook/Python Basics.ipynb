{
 "cells": [
  {
   "cell_type": "markdown",
   "id": "7013f35a",
   "metadata": {},
   "source": [
    "# PYTHON BASICS"
   ]
  },
  {
   "cell_type": "code",
   "execution_count": 2,
   "id": "412e5e47",
   "metadata": {},
   "outputs": [],
   "source": [
    "x=5"
   ]
  },
  {
   "cell_type": "code",
   "execution_count": 3,
   "id": "2a6e42da",
   "metadata": {},
   "outputs": [
    {
     "data": {
      "text/plain": [
       "5"
      ]
     },
     "execution_count": 3,
     "metadata": {},
     "output_type": "execute_result"
    }
   ],
   "source": [
    "x"
   ]
  },
  {
   "cell_type": "code",
   "execution_count": 4,
   "id": "6593f8b8",
   "metadata": {},
   "outputs": [],
   "source": [
    "y= 8"
   ]
  },
  {
   "cell_type": "code",
   "execution_count": 5,
   "id": "e35435db",
   "metadata": {},
   "outputs": [
    {
     "ename": "NameError",
     "evalue": "name 'Y' is not defined",
     "output_type": "error",
     "traceback": [
      "\u001b[1;31m---------------------------------------------------------------------------\u001b[0m",
      "\u001b[1;31mNameError\u001b[0m                                 Traceback (most recent call last)",
      "\u001b[1;32m~\\AppData\\Local\\Temp\\ipykernel_11168\\2821689564.py\u001b[0m in \u001b[0;36m<module>\u001b[1;34m\u001b[0m\n\u001b[1;32m----> 1\u001b[1;33m \u001b[0mY\u001b[0m\u001b[1;33m\u001b[0m\u001b[1;33m\u001b[0m\u001b[0m\n\u001b[0m",
      "\u001b[1;31mNameError\u001b[0m: name 'Y' is not defined"
     ]
    }
   ],
   "source": [
    "Y"
   ]
  },
  {
   "cell_type": "code",
   "execution_count": 6,
   "id": "adbf3443",
   "metadata": {},
   "outputs": [
    {
     "name": "stdout",
     "output_type": "stream",
     "text": [
      "8\n"
     ]
    }
   ],
   "source": [
    "print(y)"
   ]
  },
  {
   "cell_type": "code",
   "execution_count": 7,
   "id": "c7816d37",
   "metadata": {},
   "outputs": [],
   "source": [
    "x,y = (1,2)"
   ]
  },
  {
   "cell_type": "code",
   "execution_count": 8,
   "id": "158ae35f",
   "metadata": {},
   "outputs": [
    {
     "data": {
      "text/plain": [
       "1"
      ]
     },
     "execution_count": 8,
     "metadata": {},
     "output_type": "execute_result"
    }
   ],
   "source": [
    "x"
   ]
  },
  {
   "cell_type": "code",
   "execution_count": 9,
   "id": "f90b4c05",
   "metadata": {},
   "outputs": [
    {
     "data": {
      "text/plain": [
       "2"
      ]
     },
     "execution_count": 9,
     "metadata": {},
     "output_type": "execute_result"
    }
   ],
   "source": [
    "y"
   ]
  },
  {
   "cell_type": "markdown",
   "id": "8f56cbac",
   "metadata": {},
   "source": [
    "# Lecture - 2"
   ]
  },
  {
   "cell_type": "code",
   "execution_count": 10,
   "id": "161a6d59",
   "metadata": {},
   "outputs": [],
   "source": [
    "x1 = 5"
   ]
  },
  {
   "cell_type": "code",
   "execution_count": 11,
   "id": "3c1d5c52",
   "metadata": {},
   "outputs": [
    {
     "data": {
      "text/plain": [
       "int"
      ]
     },
     "execution_count": 11,
     "metadata": {},
     "output_type": "execute_result"
    }
   ],
   "source": [
    "type(x1)"
   ]
  },
  {
   "cell_type": "code",
   "execution_count": 12,
   "id": "e99c518e",
   "metadata": {},
   "outputs": [
    {
     "data": {
      "text/plain": [
       "int"
      ]
     },
     "execution_count": 12,
     "metadata": {},
     "output_type": "execute_result"
    }
   ],
   "source": [
    "type(-6)"
   ]
  },
  {
   "cell_type": "code",
   "execution_count": 13,
   "id": "33ce09b8",
   "metadata": {},
   "outputs": [],
   "source": [
    "x2 = 4.57"
   ]
  },
  {
   "cell_type": "code",
   "execution_count": 14,
   "id": "2a9c03c5",
   "metadata": {},
   "outputs": [
    {
     "data": {
      "text/plain": [
       "float"
      ]
     },
     "execution_count": 14,
     "metadata": {},
     "output_type": "execute_result"
    }
   ],
   "source": [
    "type(x2)"
   ]
  },
  {
   "cell_type": "code",
   "execution_count": 15,
   "id": "5e73bce8",
   "metadata": {},
   "outputs": [
    {
     "data": {
      "text/plain": [
       "4"
      ]
     },
     "execution_count": 15,
     "metadata": {},
     "output_type": "execute_result"
    }
   ],
   "source": [
    "int(x2)"
   ]
  },
  {
   "cell_type": "code",
   "execution_count": 16,
   "id": "b7547123",
   "metadata": {},
   "outputs": [
    {
     "ename": "NameError",
     "evalue": "name 'Float' is not defined",
     "output_type": "error",
     "traceback": [
      "\u001b[1;31m---------------------------------------------------------------------------\u001b[0m",
      "\u001b[1;31mNameError\u001b[0m                                 Traceback (most recent call last)",
      "\u001b[1;32m~\\AppData\\Local\\Temp\\ipykernel_11168\\1768187998.py\u001b[0m in \u001b[0;36m<module>\u001b[1;34m\u001b[0m\n\u001b[1;32m----> 1\u001b[1;33m \u001b[0mFloat\u001b[0m\u001b[1;33m(\u001b[0m\u001b[1;36m5\u001b[0m\u001b[1;33m)\u001b[0m\u001b[1;33m\u001b[0m\u001b[1;33m\u001b[0m\u001b[0m\n\u001b[0m",
      "\u001b[1;31mNameError\u001b[0m: name 'Float' is not defined"
     ]
    }
   ],
   "source": [
    "Float(5)"
   ]
  },
  {
   "cell_type": "code",
   "execution_count": 17,
   "id": "c0e172fb",
   "metadata": {},
   "outputs": [
    {
     "data": {
      "text/plain": [
       "5.0"
      ]
     },
     "execution_count": 17,
     "metadata": {},
     "output_type": "execute_result"
    }
   ],
   "source": [
    "float(5)"
   ]
  },
  {
   "cell_type": "code",
   "execution_count": 18,
   "id": "e52cf76f",
   "metadata": {},
   "outputs": [],
   "source": [
    "x3 = True"
   ]
  },
  {
   "cell_type": "code",
   "execution_count": 19,
   "id": "8970ae5d",
   "metadata": {},
   "outputs": [
    {
     "data": {
      "text/plain": [
       "bool"
      ]
     },
     "execution_count": 19,
     "metadata": {},
     "output_type": "execute_result"
    }
   ],
   "source": [
    "type(x3)"
   ]
  },
  {
   "cell_type": "code",
   "execution_count": 20,
   "id": "8aba92f7",
   "metadata": {},
   "outputs": [
    {
     "ename": "NameError",
     "evalue": "name 'George' is not defined",
     "output_type": "error",
     "traceback": [
      "\u001b[1;31m---------------------------------------------------------------------------\u001b[0m",
      "\u001b[1;31mNameError\u001b[0m                                 Traceback (most recent call last)",
      "\u001b[1;32m~\\AppData\\Local\\Temp\\ipykernel_11168\\2848417523.py\u001b[0m in \u001b[0;36m<module>\u001b[1;34m\u001b[0m\n\u001b[1;32m----> 1\u001b[1;33m \u001b[0mGeorge\u001b[0m\u001b[1;33m\u001b[0m\u001b[1;33m\u001b[0m\u001b[0m\n\u001b[0m",
      "\u001b[1;31mNameError\u001b[0m: name 'George' is not defined"
     ]
    }
   ],
   "source": [
    "George"
   ]
  },
  {
   "cell_type": "code",
   "execution_count": 21,
   "id": "c8f5cf49",
   "metadata": {},
   "outputs": [
    {
     "data": {
      "text/plain": [
       "'George'"
      ]
     },
     "execution_count": 21,
     "metadata": {},
     "output_type": "execute_result"
    }
   ],
   "source": [
    "'George'"
   ]
  },
  {
   "cell_type": "code",
   "execution_count": 22,
   "id": "bd4f91f5",
   "metadata": {},
   "outputs": [
    {
     "data": {
      "text/plain": [
       "'George'"
      ]
     },
     "execution_count": 22,
     "metadata": {},
     "output_type": "execute_result"
    }
   ],
   "source": [
    "\"George\""
   ]
  },
  {
   "cell_type": "code",
   "execution_count": 23,
   "id": "f03466e3",
   "metadata": {},
   "outputs": [
    {
     "name": "stdout",
     "output_type": "stream",
     "text": [
      "George\n"
     ]
    }
   ],
   "source": [
    "print('George')"
   ]
  },
  {
   "cell_type": "code",
   "execution_count": 24,
   "id": "b2cb04dc",
   "metadata": {},
   "outputs": [
    {
     "name": "stdout",
     "output_type": "stream",
     "text": [
      "George\n"
     ]
    }
   ],
   "source": [
    "print(\"George\")"
   ]
  },
  {
   "cell_type": "code",
   "execution_count": 25,
   "id": "7f20df30",
   "metadata": {},
   "outputs": [],
   "source": [
    "x4 = 'sourav'"
   ]
  },
  {
   "cell_type": "code",
   "execution_count": 26,
   "id": "b891b574",
   "metadata": {},
   "outputs": [
    {
     "name": "stdout",
     "output_type": "stream",
     "text": [
      "sourav\n"
     ]
    }
   ],
   "source": [
    "print(x4)"
   ]
  },
  {
   "cell_type": "code",
   "execution_count": 27,
   "id": "47287644",
   "metadata": {},
   "outputs": [
    {
     "name": "stdout",
     "output_type": "stream",
     "text": [
      "10sourav\n"
     ]
    }
   ],
   "source": [
    "y = 10\n",
    "print (str(y) + \"sourav\")"
   ]
  },
  {
   "cell_type": "code",
   "execution_count": 28,
   "id": "6c46a7cd",
   "metadata": {},
   "outputs": [
    {
     "data": {
      "text/plain": [
       "\"I 've taken the food'\""
      ]
     },
     "execution_count": 28,
     "metadata": {},
     "output_type": "execute_result"
    }
   ],
   "source": [
    "\"I 've taken the food'\""
   ]
  },
  {
   "cell_type": "code",
   "execution_count": 29,
   "id": "fd0b66d2",
   "metadata": {},
   "outputs": [
    {
     "data": {
      "text/plain": [
       "\"I 'm fine\""
      ]
     },
     "execution_count": 29,
     "metadata": {},
     "output_type": "execute_result"
    }
   ],
   "source": [
    "\"I 'm fine\""
   ]
  },
  {
   "cell_type": "code",
   "execution_count": 30,
   "id": "c6b75a0f",
   "metadata": {},
   "outputs": [
    {
     "name": "stdout",
     "output_type": "stream",
     "text": [
      "Red car\n"
     ]
    }
   ],
   "source": [
    "print ('Red','car')"
   ]
  },
  {
   "cell_type": "code",
   "execution_count": 31,
   "id": "a7f96d3d",
   "metadata": {},
   "outputs": [
    {
     "name": "stdout",
     "output_type": "stream",
     "text": [
      "3 5\n"
     ]
    }
   ],
   "source": [
    "print(3,5)"
   ]
  },
  {
   "cell_type": "code",
   "execution_count": 32,
   "id": "79d03563",
   "metadata": {},
   "outputs": [
    {
     "data": {
      "text/plain": [
       "3"
      ]
     },
     "execution_count": 32,
     "metadata": {},
     "output_type": "execute_result"
    }
   ],
   "source": [
    "1+2"
   ]
  },
  {
   "cell_type": "code",
   "execution_count": 33,
   "id": "bbb3cf32",
   "metadata": {},
   "outputs": [
    {
     "data": {
      "text/plain": [
       "5.0"
      ]
     },
     "execution_count": 33,
     "metadata": {},
     "output_type": "execute_result"
    }
   ],
   "source": [
    "15/3"
   ]
  },
  {
   "cell_type": "code",
   "execution_count": 34,
   "id": "ad96e095",
   "metadata": {},
   "outputs": [
    {
     "data": {
      "text/plain": [
       "5.333333333333333"
      ]
     },
     "execution_count": 34,
     "metadata": {},
     "output_type": "execute_result"
    }
   ],
   "source": [
    "16/3"
   ]
  },
  {
   "cell_type": "code",
   "execution_count": 35,
   "id": "4de90d85",
   "metadata": {},
   "outputs": [
    {
     "data": {
      "text/plain": [
       "5"
      ]
     },
     "execution_count": 35,
     "metadata": {},
     "output_type": "execute_result"
    }
   ],
   "source": [
    "int(16/3)"
   ]
  },
  {
   "cell_type": "code",
   "execution_count": 36,
   "id": "951deb37",
   "metadata": {},
   "outputs": [
    {
     "data": {
      "text/plain": [
       "1"
      ]
     },
     "execution_count": 36,
     "metadata": {},
     "output_type": "execute_result"
    }
   ],
   "source": [
    "16%3\n"
   ]
  },
  {
   "cell_type": "code",
   "execution_count": 37,
   "id": "47090c29",
   "metadata": {},
   "outputs": [
    {
     "data": {
      "text/plain": [
       "15"
      ]
     },
     "execution_count": 37,
     "metadata": {},
     "output_type": "execute_result"
    }
   ],
   "source": [
    "5*3"
   ]
  },
  {
   "cell_type": "code",
   "execution_count": 38,
   "id": "9822724d",
   "metadata": {},
   "outputs": [],
   "source": [
    "x= 5*3"
   ]
  },
  {
   "cell_type": "code",
   "execution_count": 39,
   "id": "59cc2edb",
   "metadata": {},
   "outputs": [
    {
     "ename": "SyntaxError",
     "evalue": "Missing parentheses in call to 'print'. Did you mean print(x)? (3872341986.py, line 1)",
     "output_type": "error",
     "traceback": [
      "\u001b[1;36m  File \u001b[1;32m\"C:\\Users\\Sourav Vishwakarma\\AppData\\Local\\Temp\\ipykernel_11168\\3872341986.py\"\u001b[1;36m, line \u001b[1;32m1\u001b[0m\n\u001b[1;33m    print x\u001b[0m\n\u001b[1;37m          ^\u001b[0m\n\u001b[1;31mSyntaxError\u001b[0m\u001b[1;31m:\u001b[0m Missing parentheses in call to 'print'. Did you mean print(x)?\n"
     ]
    }
   ],
   "source": [
    "print x\n"
   ]
  },
  {
   "cell_type": "code",
   "execution_count": 40,
   "id": "91c78c7e",
   "metadata": {},
   "outputs": [
    {
     "name": "stdout",
     "output_type": "stream",
     "text": [
      "15\n"
     ]
    }
   ],
   "source": [
    "print(x)"
   ]
  },
  {
   "cell_type": "code",
   "execution_count": 41,
   "id": "e8ac235d",
   "metadata": {},
   "outputs": [
    {
     "data": {
      "text/plain": [
       "125"
      ]
     },
     "execution_count": 41,
     "metadata": {},
     "output_type": "execute_result"
    }
   ],
   "source": [
    "5**3"
   ]
  },
  {
   "cell_type": "code",
   "execution_count": 42,
   "id": "a773e933",
   "metadata": {},
   "outputs": [
    {
     "data": {
      "text/plain": [
       "True"
      ]
     },
     "execution_count": 42,
     "metadata": {},
     "output_type": "execute_result"
    }
   ],
   "source": [
    "y = 5**3\n",
    "y == 125"
   ]
  },
  {
   "cell_type": "code",
   "execution_count": 43,
   "id": "d2fd89a5",
   "metadata": {},
   "outputs": [
    {
     "data": {
      "text/plain": [
       "False"
      ]
     },
     "execution_count": 43,
     "metadata": {},
     "output_type": "execute_result"
    }
   ],
   "source": [
    "y == 126"
   ]
  },
  {
   "cell_type": "code",
   "execution_count": 44,
   "id": "47c65810",
   "metadata": {},
   "outputs": [],
   "source": [
    "# Reassign Values\n"
   ]
  },
  {
   "cell_type": "code",
   "execution_count": 45,
   "id": "307c0a4f",
   "metadata": {},
   "outputs": [
    {
     "data": {
      "text/plain": [
       "1"
      ]
     },
     "execution_count": 45,
     "metadata": {},
     "output_type": "execute_result"
    }
   ],
   "source": [
    "z= 1\n",
    "z"
   ]
  },
  {
   "cell_type": "code",
   "execution_count": 46,
   "id": "0c62eb6e",
   "metadata": {},
   "outputs": [
    {
     "data": {
      "text/plain": [
       "3"
      ]
     },
     "execution_count": 46,
     "metadata": {},
     "output_type": "execute_result"
    }
   ],
   "source": [
    "z= 3\n",
    "z"
   ]
  },
  {
   "cell_type": "code",
   "execution_count": 47,
   "id": "841e778c",
   "metadata": {},
   "outputs": [
    {
     "data": {
      "text/plain": [
       "8"
      ]
     },
     "execution_count": 47,
     "metadata": {},
     "output_type": "execute_result"
    }
   ],
   "source": [
    "z+5"
   ]
  },
  {
   "cell_type": "code",
   "execution_count": 48,
   "id": "c0f03b47",
   "metadata": {},
   "outputs": [],
   "source": [
    "z= 7"
   ]
  },
  {
   "cell_type": "code",
   "execution_count": 49,
   "id": "269f8e28",
   "metadata": {},
   "outputs": [
    {
     "data": {
      "text/plain": [
       "7"
      ]
     },
     "execution_count": 49,
     "metadata": {},
     "output_type": "execute_result"
    }
   ],
   "source": [
    "z"
   ]
  },
  {
   "cell_type": "code",
   "execution_count": 50,
   "id": "f58d04b9",
   "metadata": {},
   "outputs": [],
   "source": [
    "# Add comments"
   ]
  },
  {
   "cell_type": "code",
   "execution_count": 53,
   "id": "8223f262",
   "metadata": {},
   "outputs": [
    {
     "name": "stdout",
     "output_type": "stream",
     "text": [
      "7 2\n"
     ]
    }
   ],
   "source": [
    "# This is the comment line not a code\n",
    "print(7,2)"
   ]
  },
  {
   "cell_type": "code",
   "execution_count": 54,
   "id": "5318d3b7",
   "metadata": {},
   "outputs": [
    {
     "name": "stdout",
     "output_type": "stream",
     "text": [
      "300\n"
     ]
    }
   ],
   "source": [
    "#Comment 2\n",
    "#Comment 3\n",
    "print(300)"
   ]
  },
  {
   "cell_type": "code",
   "execution_count": 55,
   "id": "bd7a30ce",
   "metadata": {},
   "outputs": [],
   "source": [
    "#Indexing Elements"
   ]
  },
  {
   "cell_type": "code",
   "execution_count": 56,
   "id": "4974776a",
   "metadata": {},
   "outputs": [
    {
     "data": {
      "text/plain": [
       "'d'"
      ]
     },
     "execution_count": 56,
     "metadata": {},
     "output_type": "execute_result"
    }
   ],
   "source": [
    "\"Friday\"[3]"
   ]
  },
  {
   "cell_type": "code",
   "execution_count": 57,
   "id": "10f4ed49",
   "metadata": {},
   "outputs": [
    {
     "ename": "IndexError",
     "evalue": "string index out of range",
     "output_type": "error",
     "traceback": [
      "\u001b[1;31m---------------------------------------------------------------------------\u001b[0m",
      "\u001b[1;31mIndexError\u001b[0m                                Traceback (most recent call last)",
      "\u001b[1;32m~\\AppData\\Local\\Temp\\ipykernel_11168\\3998624382.py\u001b[0m in \u001b[0;36m<module>\u001b[1;34m\u001b[0m\n\u001b[1;32m----> 1\u001b[1;33m \u001b[1;34m\"sourav\"\u001b[0m\u001b[1;33m[\u001b[0m\u001b[1;36m6\u001b[0m\u001b[1;33m]\u001b[0m\u001b[1;33m\u001b[0m\u001b[1;33m\u001b[0m\u001b[0m\n\u001b[0m",
      "\u001b[1;31mIndexError\u001b[0m: string index out of range"
     ]
    }
   ],
   "source": [
    "\"sourav\"[6]"
   ]
  },
  {
   "cell_type": "code",
   "execution_count": 58,
   "id": "3cc5d36d",
   "metadata": {},
   "outputs": [
    {
     "data": {
      "text/plain": [
       "' '"
      ]
     },
     "execution_count": 58,
     "metadata": {},
     "output_type": "execute_result"
    }
   ],
   "source": [
    "\"sourav  \"[6]"
   ]
  },
  {
   "cell_type": "code",
   "execution_count": 59,
   "id": "ab8d8267",
   "metadata": {},
   "outputs": [
    {
     "data": {
      "text/plain": [
       "'s'"
      ]
     },
     "execution_count": 59,
     "metadata": {},
     "output_type": "execute_result"
    }
   ],
   "source": [
    "\"sourav\"[0]"
   ]
  },
  {
   "cell_type": "code",
   "execution_count": 60,
   "id": "6985b224",
   "metadata": {},
   "outputs": [
    {
     "name": "stdout",
     "output_type": "stream",
     "text": [
      "y\n"
     ]
    }
   ],
   "source": [
    "print('Holidays!'[6])"
   ]
  },
  {
   "cell_type": "code",
   "execution_count": 61,
   "id": "c144d24d",
   "metadata": {},
   "outputs": [],
   "source": [
    "#Stucture code with Identation"
   ]
  },
  {
   "cell_type": "code",
   "execution_count": 62,
   "id": "dc7bd4af",
   "metadata": {},
   "outputs": [
    {
     "name": "stdout",
     "output_type": "stream",
     "text": [
      "5\n"
     ]
    }
   ],
   "source": [
    "def five(x):\n",
    "    x = 5\n",
    "    return x\n",
    "print(five(3))"
   ]
  },
  {
   "cell_type": "code",
   "execution_count": 63,
   "id": "c3c9775f",
   "metadata": {},
   "outputs": [],
   "source": [
    "#Comparison Operators"
   ]
  },
  {
   "cell_type": "code",
   "execution_count": 64,
   "id": "d5bdd5b5",
   "metadata": {},
   "outputs": [
    {
     "data": {
      "text/plain": [
       "True"
      ]
     },
     "execution_count": 64,
     "metadata": {},
     "output_type": "execute_result"
    }
   ],
   "source": [
    "10 == 20 / 2\n"
   ]
  },
  {
   "cell_type": "code",
   "execution_count": 65,
   "id": "9c6b0298",
   "metadata": {},
   "outputs": [
    {
     "data": {
      "text/plain": [
       "False"
      ]
     },
     "execution_count": 65,
     "metadata": {},
     "output_type": "execute_result"
    }
   ],
   "source": [
    "10 != 10"
   ]
  },
  {
   "cell_type": "code",
   "execution_count": 66,
   "id": "a3119799",
   "metadata": {},
   "outputs": [
    {
     "data": {
      "text/plain": [
       "True"
      ]
     },
     "execution_count": 66,
     "metadata": {},
     "output_type": "execute_result"
    }
   ],
   "source": [
    "2<5"
   ]
  },
  {
   "cell_type": "code",
   "execution_count": 67,
   "id": "ac860e12",
   "metadata": {},
   "outputs": [
    {
     "data": {
      "text/plain": [
       "True"
      ]
     },
     "execution_count": 67,
     "metadata": {},
     "output_type": "execute_result"
    }
   ],
   "source": [
    "100>50"
   ]
  },
  {
   "cell_type": "code",
   "execution_count": 68,
   "id": "c18ebcb9",
   "metadata": {},
   "outputs": [
    {
     "data": {
      "text/plain": [
       "False"
      ]
     },
     "execution_count": 68,
     "metadata": {},
     "output_type": "execute_result"
    }
   ],
   "source": [
    "551>651"
   ]
  },
  {
   "cell_type": "code",
   "execution_count": 69,
   "id": "3fd58f60",
   "metadata": {},
   "outputs": [
    {
     "data": {
      "text/plain": [
       "False"
      ]
     },
     "execution_count": 69,
     "metadata": {},
     "output_type": "execute_result"
    }
   ],
   "source": [
    "15 >= 10 + 10"
   ]
  },
  {
   "cell_type": "code",
   "execution_count": 70,
   "id": "58c47d0b",
   "metadata": {},
   "outputs": [],
   "source": [
    "#Logical and Identity Operators"
   ]
  },
  {
   "cell_type": "code",
   "execution_count": 71,
   "id": "b49a6370",
   "metadata": {},
   "outputs": [
    {
     "data": {
      "text/plain": [
       "True"
      ]
     },
     "execution_count": 71,
     "metadata": {},
     "output_type": "execute_result"
    }
   ],
   "source": [
    "True and True"
   ]
  },
  {
   "cell_type": "code",
   "execution_count": 72,
   "id": "7c6bbc23",
   "metadata": {},
   "outputs": [
    {
     "ename": "NameError",
     "evalue": "name 'false' is not defined",
     "output_type": "error",
     "traceback": [
      "\u001b[1;31m---------------------------------------------------------------------------\u001b[0m",
      "\u001b[1;31mNameError\u001b[0m                                 Traceback (most recent call last)",
      "\u001b[1;32m~\\AppData\\Local\\Temp\\ipykernel_11168\\1541866549.py\u001b[0m in \u001b[0;36m<module>\u001b[1;34m\u001b[0m\n\u001b[1;32m----> 1\u001b[1;33m \u001b[1;32mTrue\u001b[0m \u001b[1;32mand\u001b[0m \u001b[0mfalse\u001b[0m\u001b[1;33m\u001b[0m\u001b[1;33m\u001b[0m\u001b[0m\n\u001b[0m",
      "\u001b[1;31mNameError\u001b[0m: name 'false' is not defined"
     ]
    }
   ],
   "source": [
    "True and false"
   ]
  },
  {
   "cell_type": "code",
   "execution_count": 73,
   "id": "e1e234b3",
   "metadata": {},
   "outputs": [
    {
     "data": {
      "text/plain": [
       "False"
      ]
     },
     "execution_count": 73,
     "metadata": {},
     "output_type": "execute_result"
    }
   ],
   "source": [
    "True and False"
   ]
  },
  {
   "cell_type": "code",
   "execution_count": 74,
   "id": "ac69751a",
   "metadata": {},
   "outputs": [
    {
     "data": {
      "text/plain": [
       "False"
      ]
     },
     "execution_count": 74,
     "metadata": {},
     "output_type": "execute_result"
    }
   ],
   "source": [
    "False or False"
   ]
  },
  {
   "cell_type": "code",
   "execution_count": 75,
   "id": "55e82d07",
   "metadata": {},
   "outputs": [
    {
     "data": {
      "text/plain": [
       "True"
      ]
     },
     "execution_count": 75,
     "metadata": {},
     "output_type": "execute_result"
    }
   ],
   "source": [
    "True or False"
   ]
  },
  {
   "cell_type": "code",
   "execution_count": 76,
   "id": "22362e95",
   "metadata": {},
   "outputs": [
    {
     "data": {
      "text/plain": [
       "True"
      ]
     },
     "execution_count": 76,
     "metadata": {},
     "output_type": "execute_result"
    }
   ],
   "source": [
    "False or True"
   ]
  },
  {
   "cell_type": "code",
   "execution_count": 77,
   "id": "fd0b3f1c",
   "metadata": {},
   "outputs": [
    {
     "data": {
      "text/plain": [
       "False"
      ]
     },
     "execution_count": 77,
     "metadata": {},
     "output_type": "execute_result"
    }
   ],
   "source": [
    "not True"
   ]
  },
  {
   "cell_type": "code",
   "execution_count": 78,
   "id": "f55d9aaa",
   "metadata": {},
   "outputs": [
    {
     "data": {
      "text/plain": [
       "True"
      ]
     },
     "execution_count": 78,
     "metadata": {},
     "output_type": "execute_result"
    }
   ],
   "source": [
    "not False"
   ]
  },
  {
   "cell_type": "code",
   "execution_count": 79,
   "id": "68d1d294",
   "metadata": {},
   "outputs": [
    {
     "data": {
      "text/plain": [
       "False"
      ]
     },
     "execution_count": 79,
     "metadata": {},
     "output_type": "execute_result"
    }
   ],
   "source": [
    "3 > 5 and 10 <= 20"
   ]
  },
  {
   "cell_type": "code",
   "execution_count": 80,
   "id": "4a1553cc",
   "metadata": {},
   "outputs": [],
   "source": [
    "# NOT > AND > OR -- Priority "
   ]
  },
  {
   "cell_type": "code",
   "execution_count": 81,
   "id": "22db3ae8",
   "metadata": {},
   "outputs": [],
   "source": [
    "# Identity Operators "
   ]
  },
  {
   "cell_type": "code",
   "execution_count": 82,
   "id": "cc9e5995",
   "metadata": {},
   "outputs": [
    {
     "name": "stderr",
     "output_type": "stream",
     "text": [
      "<>:1: SyntaxWarning: \"is\" with a literal. Did you mean \"==\"?\n",
      "<>:1: SyntaxWarning: \"is\" with a literal. Did you mean \"==\"?\n",
      "C:\\Users\\Sourav Vishwakarma\\AppData\\Local\\Temp\\ipykernel_11168\\1672085219.py:1: SyntaxWarning: \"is\" with a literal. Did you mean \"==\"?\n",
      "  5 is 6\n"
     ]
    },
    {
     "data": {
      "text/plain": [
       "False"
      ]
     },
     "execution_count": 82,
     "metadata": {},
     "output_type": "execute_result"
    }
   ],
   "source": [
    "5 is 6\n"
   ]
  },
  {
   "cell_type": "code",
   "execution_count": 83,
   "id": "39dbd136",
   "metadata": {},
   "outputs": [
    {
     "name": "stderr",
     "output_type": "stream",
     "text": [
      "<>:1: SyntaxWarning: \"is not\" with a literal. Did you mean \"!=\"?\n",
      "<>:1: SyntaxWarning: \"is not\" with a literal. Did you mean \"!=\"?\n",
      "C:\\Users\\Sourav Vishwakarma\\AppData\\Local\\Temp\\ipykernel_11168\\2227521640.py:1: SyntaxWarning: \"is not\" with a literal. Did you mean \"!=\"?\n",
      "  5 is not 6\n"
     ]
    },
    {
     "data": {
      "text/plain": [
       "True"
      ]
     },
     "execution_count": 83,
     "metadata": {},
     "output_type": "execute_result"
    }
   ],
   "source": [
    "5 is not 6"
   ]
  },
  {
   "cell_type": "code",
   "execution_count": 84,
   "id": "cc9f773b",
   "metadata": {},
   "outputs": [],
   "source": [
    "# Conditional Statement"
   ]
  },
  {
   "cell_type": "code",
   "execution_count": 85,
   "id": "62a52f2d",
   "metadata": {},
   "outputs": [],
   "source": [
    "#Introduction to the if statement"
   ]
  },
  {
   "cell_type": "code",
   "execution_count": 86,
   "id": "ab8d216e",
   "metadata": {},
   "outputs": [
    {
     "ename": "SyntaxError",
     "evalue": "invalid syntax (2081058546.py, line 1)",
     "output_type": "error",
     "traceback": [
      "\u001b[1;36m  File \u001b[1;32m\"C:\\Users\\Sourav Vishwakarma\\AppData\\Local\\Temp\\ipykernel_11168\\2081058546.py\"\u001b[1;36m, line \u001b[1;32m1\u001b[0m\n\u001b[1;33m    if 5 = 15/3\u001b[0m\n\u001b[1;37m         ^\u001b[0m\n\u001b[1;31mSyntaxError\u001b[0m\u001b[1;31m:\u001b[0m invalid syntax\n"
     ]
    }
   ],
   "source": [
    "if 5 = 15/3\n",
    "    print (\"Hurray\")"
   ]
  },
  {
   "cell_type": "code",
   "execution_count": 87,
   "id": "da897d0d",
   "metadata": {},
   "outputs": [
    {
     "ename": "SyntaxError",
     "evalue": "invalid syntax (2219156924.py, line 1)",
     "output_type": "error",
     "traceback": [
      "\u001b[1;36m  File \u001b[1;32m\"C:\\Users\\Sourav Vishwakarma\\AppData\\Local\\Temp\\ipykernel_11168\\2219156924.py\"\u001b[1;36m, line \u001b[1;32m1\u001b[0m\n\u001b[1;33m    if 5 == 15/3\u001b[0m\n\u001b[1;37m                ^\u001b[0m\n\u001b[1;31mSyntaxError\u001b[0m\u001b[1;31m:\u001b[0m invalid syntax\n"
     ]
    }
   ],
   "source": [
    "if 5 == 15/3\n",
    "    print (\"Hurray\")"
   ]
  },
  {
   "cell_type": "code",
   "execution_count": 88,
   "id": "8afb8306",
   "metadata": {},
   "outputs": [
    {
     "name": "stdout",
     "output_type": "stream",
     "text": [
      "Hurray\n"
     ]
    }
   ],
   "source": [
    "if 5 == 15/3:\n",
    "    print (\"Hurray\")"
   ]
  },
  {
   "cell_type": "code",
   "execution_count": 89,
   "id": "2a2fd373",
   "metadata": {},
   "outputs": [],
   "source": [
    "if 5 == 18/3:\n",
    "    print(\"hooray!\")"
   ]
  },
  {
   "cell_type": "code",
   "execution_count": 90,
   "id": "31dc4290",
   "metadata": {},
   "outputs": [
    {
     "ename": "SyntaxError",
     "evalue": "invalid syntax (173607898.py, line 1)",
     "output_type": "error",
     "traceback": [
      "\u001b[1;36m  File \u001b[1;32m\"C:\\Users\\Sourav Vishwakarma\\AppData\\Local\\Temp\\ipykernel_11168\\173607898.py\"\u001b[1;36m, line \u001b[1;32m1\u001b[0m\n\u001b[1;33m    if 5! = 3*6:\u001b[0m\n\u001b[1;37m        ^\u001b[0m\n\u001b[1;31mSyntaxError\u001b[0m\u001b[1;31m:\u001b[0m invalid syntax\n"
     ]
    }
   ],
   "source": [
    "if 5! = 3*6:"
   ]
  },
  {
   "cell_type": "code",
   "execution_count": 91,
   "id": "1a90443e",
   "metadata": {},
   "outputs": [
    {
     "name": "stdout",
     "output_type": "stream",
     "text": [
      "sourav\n"
     ]
    }
   ],
   "source": [
    "if 5!= 3*6:\n",
    "    print(\"sourav\")"
   ]
  },
  {
   "cell_type": "code",
   "execution_count": 92,
   "id": "bbe904b9",
   "metadata": {},
   "outputs": [],
   "source": [
    "# the ELSE statement"
   ]
  },
  {
   "cell_type": "code",
   "execution_count": 93,
   "id": "9d269162",
   "metadata": {},
   "outputs": [
    {
     "name": "stdout",
     "output_type": "stream",
     "text": [
      "case 2\n"
     ]
    }
   ],
   "source": [
    "x =1 \n",
    "\n",
    "if x > 3:\n",
    "    print(\"case 1\")\n",
    "else :\n",
    "    print(\"case 2\")"
   ]
  },
  {
   "cell_type": "code",
   "execution_count": 94,
   "id": "116ff9f0",
   "metadata": {},
   "outputs": [],
   "source": [
    " # Else if , for Brief - Elif"
   ]
  },
  {
   "cell_type": "code",
   "execution_count": 99,
   "id": "b6e4f3c1",
   "metadata": {},
   "outputs": [
    {
     "data": {
      "text/plain": [
       "'Greater'"
      ]
     },
     "execution_count": 99,
     "metadata": {},
     "output_type": "execute_result"
    }
   ],
   "source": [
    "def compare_to_five(x):\n",
    "    if x >5:\n",
    "        return \"Greater\"\n",
    "    elif x<0:\n",
    "        return \"Negative\"\n",
    "    elif x<5:\n",
    "        return \"Smaller\"\n",
    "    else:\n",
    "        return \"Equal\"\n",
    "    \n",
    "compare_to_five(8)"
   ]
  },
  {
   "cell_type": "code",
   "execution_count": 96,
   "id": "3ec973e1",
   "metadata": {},
   "outputs": [
    {
     "data": {
      "text/plain": [
       "'Equal'"
      ]
     },
     "execution_count": 96,
     "metadata": {},
     "output_type": "execute_result"
    }
   ],
   "source": [
    "compare_to_five(5)"
   ]
  },
  {
   "cell_type": "code",
   "execution_count": 97,
   "id": "2c5eb6e8",
   "metadata": {},
   "outputs": [
    {
     "data": {
      "text/plain": [
       "'Smaller'"
      ]
     },
     "execution_count": 97,
     "metadata": {},
     "output_type": "execute_result"
    }
   ],
   "source": [
    "compare_to_five(3)"
   ]
  },
  {
   "cell_type": "code",
   "execution_count": 98,
   "id": "be211901",
   "metadata": {},
   "outputs": [
    {
     "name": "stdout",
     "output_type": "stream",
     "text": [
      "Greater\n"
     ]
    }
   ],
   "source": [
    "print(compare_to_five(6))"
   ]
  },
  {
   "cell_type": "code",
   "execution_count": 100,
   "id": "d167af3a",
   "metadata": {},
   "outputs": [
    {
     "name": "stdout",
     "output_type": "stream",
     "text": [
      "Negative\n"
     ]
    }
   ],
   "source": [
    "print(compare_to_five(-2))"
   ]
  },
  {
   "cell_type": "code",
   "execution_count": 101,
   "id": "9aac5e8a",
   "metadata": {},
   "outputs": [],
   "source": [
    "# A note on Boolean values"
   ]
  },
  {
   "cell_type": "code",
   "execution_count": 102,
   "id": "8e202095",
   "metadata": {},
   "outputs": [
    {
     "name": "stdout",
     "output_type": "stream",
     "text": [
      "Incorrect\n"
     ]
    }
   ],
   "source": [
    "x = 2\n",
    "\n",
    "if x >4 :\n",
    "    print(\"correct\")\n",
    "else:\n",
    "    print(\"Incorrect\")"
   ]
  }
 ],
 "metadata": {
  "kernelspec": {
   "display_name": "Python 3 (ipykernel)",
   "language": "python",
   "name": "python3"
  },
  "language_info": {
   "codemirror_mode": {
    "name": "ipython",
    "version": 3
   },
   "file_extension": ".py",
   "mimetype": "text/x-python",
   "name": "python",
   "nbconvert_exporter": "python",
   "pygments_lexer": "ipython3",
   "version": "3.9.13"
  }
 },
 "nbformat": 4,
 "nbformat_minor": 5
}
