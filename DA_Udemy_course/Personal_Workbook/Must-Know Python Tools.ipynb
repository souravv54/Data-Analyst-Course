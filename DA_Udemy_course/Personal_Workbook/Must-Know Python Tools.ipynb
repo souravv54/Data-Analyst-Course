{
 "cells": [
  {
   "cell_type": "markdown",
   "id": "10633aff",
   "metadata": {},
   "source": [
    "## Iterating Over Range Objects"
   ]
  },
  {
   "cell_type": "code",
   "execution_count": 1,
   "id": "f26228eb",
   "metadata": {},
   "outputs": [],
   "source": [
    "# Sequences : Tuples and lists"
   ]
  },
  {
   "cell_type": "code",
   "execution_count": 2,
   "id": "b7d931aa",
   "metadata": {},
   "outputs": [],
   "source": [
    "t= (4,5,6,7)"
   ]
  },
  {
   "cell_type": "code",
   "execution_count": 3,
   "id": "ab3542c4",
   "metadata": {},
   "outputs": [],
   "source": [
    "l = [10.5,20.75,30.00]"
   ]
  },
  {
   "cell_type": "code",
   "execution_count": 4,
   "id": "81ad560d",
   "metadata": {},
   "outputs": [
    {
     "data": {
      "text/plain": [
       "[10.5, 20.75, 30.0]"
      ]
     },
     "execution_count": 4,
     "metadata": {},
     "output_type": "execute_result"
    }
   ],
   "source": [
    "l"
   ]
  },
  {
   "cell_type": "code",
   "execution_count": 5,
   "id": "0b110d44",
   "metadata": {},
   "outputs": [],
   "source": [
    "s = 'abcde'"
   ]
  },
  {
   "cell_type": "code",
   "execution_count": 6,
   "id": "4bb9c1b2",
   "metadata": {},
   "outputs": [
    {
     "data": {
      "text/plain": [
       "'abcde'"
      ]
     },
     "execution_count": 6,
     "metadata": {},
     "output_type": "execute_result"
    }
   ],
   "source": [
    "s"
   ]
  },
  {
   "cell_type": "code",
   "execution_count": 7,
   "id": "bb26a561",
   "metadata": {},
   "outputs": [
    {
     "name": "stdout",
     "output_type": "stream",
     "text": [
      "4 5 6 7 "
     ]
    }
   ],
   "source": [
    "for i in t:\n",
    "    print(i,end = \" \")"
   ]
  },
  {
   "cell_type": "code",
   "execution_count": 8,
   "id": "599909b3",
   "metadata": {},
   "outputs": [
    {
     "data": {
      "text/plain": [
       "range(0, 5)"
      ]
     },
     "execution_count": 8,
     "metadata": {},
     "output_type": "execute_result"
    }
   ],
   "source": [
    "range(5)"
   ]
  },
  {
   "cell_type": "code",
   "execution_count": 9,
   "id": "34b26025",
   "metadata": {},
   "outputs": [
    {
     "name": "stdout",
     "output_type": "stream",
     "text": [
      "0 1 2 3 4 "
     ]
    }
   ],
   "source": [
    "for i in range(5):\n",
    "    print(i,end = \" \")"
   ]
  },
  {
   "cell_type": "markdown",
   "id": "1c969108",
   "metadata": {},
   "source": [
    "## Nested for loops - An Intro"
   ]
  },
  {
   "cell_type": "code",
   "execution_count": 10,
   "id": "2338c68e",
   "metadata": {},
   "outputs": [
    {
     "name": "stdout",
     "output_type": "stream",
     "text": [
      "0\n",
      "1\n"
     ]
    }
   ],
   "source": [
    "for i in range(2):\n",
    "    print(i)"
   ]
  },
  {
   "cell_type": "code",
   "execution_count": 11,
   "id": "9510eeef",
   "metadata": {},
   "outputs": [
    {
     "name": "stdout",
     "output_type": "stream",
     "text": [
      "0\n",
      "1\n",
      "2\n",
      "3\n",
      "4\n"
     ]
    }
   ],
   "source": [
    "for j in range(5):\n",
    "    print(j)"
   ]
  },
  {
   "cell_type": "code",
   "execution_count": 12,
   "id": "cfc8362d",
   "metadata": {},
   "outputs": [
    {
     "name": "stdout",
     "output_type": "stream",
     "text": [
      "0 1 2 3 4 0 1 2 3 4 "
     ]
    }
   ],
   "source": [
    "# NESTED LOOP\n",
    "for i in range(2):\n",
    "    for j in range(5):\n",
    "        print(j,end = \" \")"
   ]
  },
  {
   "cell_type": "code",
   "execution_count": 13,
   "id": "fa141e74",
   "metadata": {},
   "outputs": [
    {
     "name": "stdout",
     "output_type": "stream",
     "text": [
      "[0, 0] [0, 1] [0, 2] [0, 3] [0, 4] [1, 0] [1, 1] [1, 2] [1, 3] [1, 4] "
     ]
    }
   ],
   "source": [
    "for i in range(2):\n",
    "    for j in range(5):\n",
    "        print([i,j],end = \" \")"
   ]
  },
  {
   "cell_type": "code",
   "execution_count": 14,
   "id": "3f115771",
   "metadata": {},
   "outputs": [],
   "source": [
    "#For above code : 'i' loop is the outer loop and 'j' is the inner loop"
   ]
  },
  {
   "cell_type": "code",
   "execution_count": 15,
   "id": "267a720e",
   "metadata": {},
   "outputs": [
    {
     "name": "stdout",
     "output_type": "stream",
     "text": [
      "['Product A', 0]\n",
      "['Product A', 1]\n",
      "['Product A', 2]\n",
      "['Product A', 3]\n",
      "['Product A', 4]\n",
      "['Product B', 0]\n",
      "['Product B', 1]\n",
      "['Product B', 2]\n",
      "['Product B', 3]\n",
      "['Product B', 4]\n"
     ]
    }
   ],
   "source": [
    "for i in ['Product A','Product B']:\n",
    "    for j in range(5):\n",
    "        print([i,j])"
   ]
  },
  {
   "cell_type": "code",
   "execution_count": 16,
   "id": "6b39cee3",
   "metadata": {},
   "outputs": [],
   "source": [
    "products = ['Product A', 'Product B']\n",
    "exp_sales = [10000,11000,12000,13000,14000]"
   ]
  },
  {
   "cell_type": "code",
   "execution_count": 17,
   "id": "72f93b03",
   "metadata": {},
   "outputs": [
    {
     "name": "stdout",
     "output_type": "stream",
     "text": [
      "['Product A', 10000]\n",
      "['Product A', 11000]\n",
      "['Product A', 12000]\n",
      "['Product A', 13000]\n",
      "['Product A', 14000]\n",
      "['Product B', 10000]\n",
      "['Product B', 11000]\n",
      "['Product B', 12000]\n",
      "['Product B', 13000]\n",
      "['Product B', 14000]\n"
     ]
    }
   ],
   "source": [
    "for i in products:\n",
    "    for j in exp_sales:\n",
    "        print([i,j])"
   ]
  },
  {
   "cell_type": "markdown",
   "id": "b48335fc",
   "metadata": {},
   "source": [
    "## Triple Nested For Loops"
   ]
  },
  {
   "cell_type": "code",
   "execution_count": 18,
   "id": "a8bd1dd6",
   "metadata": {},
   "outputs": [],
   "source": [
    "products = ['Product A', 'Product B']\n",
    "exp_sales = [10000,11000,12000,13000,14000]\n",
    "time_horizon = (1,3,12)"
   ]
  },
  {
   "cell_type": "code",
   "execution_count": 19,
   "id": "f4674505",
   "metadata": {},
   "outputs": [
    {
     "name": "stdout",
     "output_type": "stream",
     "text": [
      "['Product A', 10000] ['Product A', 30000] ['Product A', 120000] ['Product A', 11000] ['Product A', 33000] ['Product A', 132000] ['Product A', 12000] ['Product A', 36000] ['Product A', 144000] ['Product A', 13000] ['Product A', 39000] ['Product A', 156000] ['Product A', 14000] ['Product A', 42000] ['Product A', 168000] ['Product B', 10000] ['Product B', 30000] ['Product B', 120000] ['Product B', 11000] ['Product B', 33000] ['Product B', 132000] ['Product B', 12000] ['Product B', 36000] ['Product B', 144000] ['Product B', 13000] ['Product B', 39000] ['Product B', 156000] ['Product B', 14000] ['Product B', 42000] ['Product B', 168000] "
     ]
    }
   ],
   "source": [
    "for prod in products:\n",
    "    for sales in exp_sales:\n",
    "        for t_hor in time_horizon:\n",
    "            print([prod,sales*t_hor], end = \" \")"
   ]
  },
  {
   "cell_type": "code",
   "execution_count": 20,
   "id": "cab1fc1c",
   "metadata": {},
   "outputs": [
    {
     "name": "stdout",
     "output_type": "stream",
     "text": [
      "Expected sales for a period of 1 month(s) for Product A : $10000\n",
      "Expected sales for a period of 3 month(s) for Product A : $30000\n",
      "Expected sales for a period of 12 month(s) for Product A : $120000\n",
      "Expected sales for a period of 1 month(s) for Product A : $11000\n",
      "Expected sales for a period of 3 month(s) for Product A : $33000\n",
      "Expected sales for a period of 12 month(s) for Product A : $132000\n",
      "Expected sales for a period of 1 month(s) for Product A : $12000\n",
      "Expected sales for a period of 3 month(s) for Product A : $36000\n",
      "Expected sales for a period of 12 month(s) for Product A : $144000\n",
      "Expected sales for a period of 1 month(s) for Product A : $13000\n",
      "Expected sales for a period of 3 month(s) for Product A : $39000\n",
      "Expected sales for a period of 12 month(s) for Product A : $156000\n",
      "Expected sales for a period of 1 month(s) for Product A : $14000\n",
      "Expected sales for a period of 3 month(s) for Product A : $42000\n",
      "Expected sales for a period of 12 month(s) for Product A : $168000\n",
      "Expected sales for a period of 1 month(s) for Product B : $10000\n",
      "Expected sales for a period of 3 month(s) for Product B : $30000\n",
      "Expected sales for a period of 12 month(s) for Product B : $120000\n",
      "Expected sales for a period of 1 month(s) for Product B : $11000\n",
      "Expected sales for a period of 3 month(s) for Product B : $33000\n",
      "Expected sales for a period of 12 month(s) for Product B : $132000\n",
      "Expected sales for a period of 1 month(s) for Product B : $12000\n",
      "Expected sales for a period of 3 month(s) for Product B : $36000\n",
      "Expected sales for a period of 12 month(s) for Product B : $144000\n",
      "Expected sales for a period of 1 month(s) for Product B : $13000\n",
      "Expected sales for a period of 3 month(s) for Product B : $39000\n",
      "Expected sales for a period of 12 month(s) for Product B : $156000\n",
      "Expected sales for a period of 1 month(s) for Product B : $14000\n",
      "Expected sales for a period of 3 month(s) for Product B : $42000\n",
      "Expected sales for a period of 12 month(s) for Product B : $168000\n"
     ]
    }
   ],
   "source": [
    "for prod in products:\n",
    "    for sales in exp_sales:\n",
    "        for t_hor in time_horizon:\n",
    "            print('Expected sales for a period of {} month(s) for {} : ${sales}'.format(t_hor,prod,sales = sales*t_hor))"
   ]
  },
  {
   "cell_type": "code",
   "execution_count": 21,
   "id": "cc163096",
   "metadata": {},
   "outputs": [],
   "source": [
    "# NOTE : Writing nested loops is considered non-pythonic\n",
    "# Using list comprehensions is considered pythonic"
   ]
  },
  {
   "cell_type": "markdown",
   "id": "95d5694c",
   "metadata": {},
   "source": [
    "## List Comprehensions"
   ]
  },
  {
   "cell_type": "code",
   "execution_count": 22,
   "id": "25582ab6",
   "metadata": {},
   "outputs": [],
   "source": [
    "#Benifits : \n",
    "# 1. Easy to understand\n",
    "# 2. quick to write\n",
    "# 3. Support the option for setting conditionals either on the output or on the iterable or both"
   ]
  },
  {
   "cell_type": "code",
   "execution_count": 23,
   "id": "3f6ff2d5",
   "metadata": {},
   "outputs": [],
   "source": [
    "# A very powerful tool\n",
    "# a fantastic example of high quality of code\n",
    "# reuqire more memory and run more slowly --> Drawback"
   ]
  },
  {
   "cell_type": "code",
   "execution_count": 24,
   "id": "d37ec132",
   "metadata": {},
   "outputs": [
    {
     "data": {
      "text/plain": [
       "[1, 13, 4, 5, 63, 100]"
      ]
     },
     "execution_count": 24,
     "metadata": {},
     "output_type": "execute_result"
    }
   ],
   "source": [
    "numbers = [1,13,4,5,63,100]\n",
    "numbers"
   ]
  },
  {
   "cell_type": "code",
   "execution_count": 25,
   "id": "a55ca10d",
   "metadata": {},
   "outputs": [
    {
     "name": "stdout",
     "output_type": "stream",
     "text": [
      "[2, 26, 8, 10, 126, 200]\n"
     ]
    }
   ],
   "source": [
    "new_numbers = []\n",
    "\n",
    "for n in numbers:\n",
    "    new_numbers.append(n*2)\n",
    "    \n",
    "print(new_numbers)"
   ]
  },
  {
   "cell_type": "code",
   "execution_count": 26,
   "id": "912a2ef6",
   "metadata": {},
   "outputs": [
    {
     "name": "stdout",
     "output_type": "stream",
     "text": [
      "[2, 26, 8, 10, 126, 200]\n"
     ]
    }
   ],
   "source": [
    "# Change the above loops to list comprehension\n",
    "new_numbers = [n * 2 for n in numbers]\n",
    "print(new_numbers)"
   ]
  },
  {
   "cell_type": "code",
   "execution_count": 27,
   "id": "ba91bcea",
   "metadata": {},
   "outputs": [
    {
     "name": "stdout",
     "output_type": "stream",
     "text": [
      "0 1 2 3 4 1 2 3 4 5 "
     ]
    }
   ],
   "source": [
    "for i in range(2):\n",
    "    for j in range(5):\n",
    "        print(i+j,end = \" \")"
   ]
  },
  {
   "cell_type": "code",
   "execution_count": 28,
   "id": "3d4e093a",
   "metadata": {},
   "outputs": [
    {
     "data": {
      "text/plain": [
       "[0, 1, 2, 3, 4, 1, 2, 3, 4, 5]"
      ]
     },
     "execution_count": 28,
     "metadata": {},
     "output_type": "execute_result"
    }
   ],
   "source": [
    "new_list_comprehension_1 = [i+j for i in range(2) for j in range(5)]\n",
    "new_list_comprehension_1"
   ]
  },
  {
   "cell_type": "code",
   "execution_count": 29,
   "id": "7108ef8a",
   "metadata": {},
   "outputs": [
    {
     "data": {
      "text/plain": [
       "list"
      ]
     },
     "execution_count": 29,
     "metadata": {},
     "output_type": "execute_result"
    }
   ],
   "source": [
    "type(new_list_comprehension_1)"
   ]
  },
  {
   "cell_type": "code",
   "execution_count": 30,
   "id": "30b9279a",
   "metadata": {},
   "outputs": [
    {
     "name": "stdout",
     "output_type": "stream",
     "text": [
      "[0, 1, 2, 3, 4, 1, 2, 3, 4, 5]\n"
     ]
    }
   ],
   "source": [
    "print(new_list_comprehension_1)"
   ]
  },
  {
   "cell_type": "code",
   "execution_count": 31,
   "id": "9b507162",
   "metadata": {},
   "outputs": [
    {
     "data": {
      "text/plain": [
       "[[0, 1], [1, 2], [2, 3], [3, 4], [4, 5]]"
      ]
     },
     "execution_count": 31,
     "metadata": {},
     "output_type": "execute_result"
    }
   ],
   "source": [
    "new_list_comprehension_2 = [[i+j for i in range (2)] for j in range(5)]\n",
    "new_list_comprehension_2"
   ]
  },
  {
   "cell_type": "code",
   "execution_count": 32,
   "id": "4bb97890",
   "metadata": {},
   "outputs": [
    {
     "data": {
      "text/plain": [
       "[1, 2, 3, 4, 5, 6, 7, 8, 9, 10]"
      ]
     },
     "execution_count": 32,
     "metadata": {},
     "output_type": "execute_result"
    }
   ],
   "source": [
    "list(range(1,11))"
   ]
  },
  {
   "cell_type": "code",
   "execution_count": 33,
   "id": "62c5047d",
   "metadata": {},
   "outputs": [
    {
     "data": {
      "text/plain": [
       "[1, 27, 125, 343, 729]"
      ]
     },
     "execution_count": 33,
     "metadata": {},
     "output_type": "execute_result"
    }
   ],
   "source": [
    "[num ** 3 for num in range(1,11) if num%2 !=0]"
   ]
  },
  {
   "cell_type": "code",
   "execution_count": 34,
   "id": "432f9a9a",
   "metadata": {},
   "outputs": [
    {
     "name": "stdout",
     "output_type": "stream",
     "text": [
      "1 27 125 343 729 "
     ]
    }
   ],
   "source": [
    "for i in range(1,11):\n",
    "    if i%2 != 0:\n",
    "        print(i**3,end = \" \")"
   ]
  },
  {
   "cell_type": "code",
   "execution_count": 35,
   "id": "3ad746ee",
   "metadata": {},
   "outputs": [
    {
     "ename": "SyntaxError",
     "evalue": "invalid syntax (2109765165.py, line 1)",
     "output_type": "error",
     "traceback": [
      "\u001b[1;36m  File \u001b[1;32m\"C:\\Users\\Sourav Vishwakarma\\AppData\\Local\\Temp\\ipykernel_15344\\2109765165.py\"\u001b[1;36m, line \u001b[1;32m1\u001b[0m\n\u001b[1;33m    [num **3 if num %2 !=0 for num in range(1,11)]\u001b[0m\n\u001b[1;37m                           ^\u001b[0m\n\u001b[1;31mSyntaxError\u001b[0m\u001b[1;31m:\u001b[0m invalid syntax\n"
     ]
    }
   ],
   "source": [
    "[num **3 if num %2 !=0 for num in range(1,11)]"
   ]
  },
  {
   "cell_type": "code",
   "execution_count": 36,
   "id": "c9ecdff9",
   "metadata": {},
   "outputs": [],
   "source": [
    "# Note : The above error came because we must need to provide clear indication to python about what exactly\n",
    "# we want to be displayed in each potential outcome."
   ]
  },
  {
   "cell_type": "code",
   "execution_count": 37,
   "id": "877618eb",
   "metadata": {},
   "outputs": [
    {
     "data": {
      "text/plain": [
       "[1, 'Even', 27, 'Even', 125, 'Even', 343, 'Even', 729, 'Even']"
      ]
     },
     "execution_count": 37,
     "metadata": {},
     "output_type": "execute_result"
    }
   ],
   "source": [
    "[num **3 if num %2 !=0 else \"Even\" for num in range(1,11)]"
   ]
  },
  {
   "cell_type": "markdown",
   "id": "cd997002",
   "metadata": {},
   "source": [
    "## Lambda Function(Expressions) in python"
   ]
  },
  {
   "cell_type": "code",
   "execution_count": 38,
   "id": "3886bc3b",
   "metadata": {},
   "outputs": [],
   "source": [
    "# Features : \n",
    "# 1. Can have one or multiple parameters but contain a single expression\n",
    "# 2. Allow you to write just one line of code to incude a simple functionality in a more complex expression\n",
    "# 3. Can only be applied to the larger expression they have been written in"
   ]
  },
  {
   "cell_type": "code",
   "execution_count": 39,
   "id": "701c5c24",
   "metadata": {},
   "outputs": [],
   "source": [
    "def raise_to_the_power_of_2(x):\n",
    "    return x ** 2"
   ]
  },
  {
   "cell_type": "code",
   "execution_count": 40,
   "id": "60d137ac",
   "metadata": {},
   "outputs": [
    {
     "data": {
      "text/plain": [
       "9"
      ]
     },
     "execution_count": 40,
     "metadata": {},
     "output_type": "execute_result"
    }
   ],
   "source": [
    "raise_to_the_power_of_2(3)"
   ]
  },
  {
   "cell_type": "code",
   "execution_count": 41,
   "id": "c5a3e1d3",
   "metadata": {},
   "outputs": [
    {
     "data": {
      "text/plain": [
       "<function __main__.<lambda>(x)>"
      ]
     },
     "execution_count": 41,
     "metadata": {},
     "output_type": "execute_result"
    }
   ],
   "source": [
    "lambda x : x**2"
   ]
  },
  {
   "cell_type": "code",
   "execution_count": 42,
   "id": "b89065c4",
   "metadata": {},
   "outputs": [],
   "source": [
    "raise_to_the_power_of_2_lambda = lambda x : x**2"
   ]
  },
  {
   "cell_type": "code",
   "execution_count": 43,
   "id": "15960883",
   "metadata": {},
   "outputs": [
    {
     "data": {
      "text/plain": [
       "9"
      ]
     },
     "execution_count": 43,
     "metadata": {},
     "output_type": "execute_result"
    }
   ],
   "source": [
    "raise_to_the_power_of_2_lambda(3)"
   ]
  },
  {
   "cell_type": "code",
   "execution_count": 44,
   "id": "be3a652e",
   "metadata": {},
   "outputs": [
    {
     "data": {
      "text/plain": [
       "5.5"
      ]
     },
     "execution_count": 44,
     "metadata": {},
     "output_type": "execute_result"
    }
   ],
   "source": [
    "(lambda x : x/2) (11)"
   ]
  },
  {
   "cell_type": "code",
   "execution_count": 45,
   "id": "508e8aa8",
   "metadata": {},
   "outputs": [
    {
     "data": {
      "text/plain": [
       "53.792"
      ]
     },
     "execution_count": 45,
     "metadata": {},
     "output_type": "execute_result"
    }
   ],
   "source": [
    "(lambda x : (2 + 5 * x ** 4) ** 2/(x + 3) ** 3) (2)"
   ]
  },
  {
   "cell_type": "code",
   "execution_count": 46,
   "id": "ff58eed5",
   "metadata": {},
   "outputs": [
    {
     "data": {
      "text/plain": [
       "5"
      ]
     },
     "execution_count": 46,
     "metadata": {},
     "output_type": "execute_result"
    }
   ],
   "source": [
    "sum_xy = lambda x,y : x+y\n",
    "sum_xy(2,3)"
   ]
  },
  {
   "cell_type": "code",
   "execution_count": 47,
   "id": "78478e15",
   "metadata": {},
   "outputs": [],
   "source": [
    "sum_xy = lambda x,y : x+y(x)"
   ]
  },
  {
   "cell_type": "code",
   "execution_count": 48,
   "id": "c126d824",
   "metadata": {},
   "outputs": [
    {
     "ename": "TypeError",
     "evalue": "'int' object is not callable",
     "output_type": "error",
     "traceback": [
      "\u001b[1;31m---------------------------------------------------------------------------\u001b[0m",
      "\u001b[1;31mTypeError\u001b[0m                                 Traceback (most recent call last)",
      "\u001b[1;32m~\\AppData\\Local\\Temp\\ipykernel_15344\\666434160.py\u001b[0m in \u001b[0;36m<module>\u001b[1;34m\u001b[0m\n\u001b[1;32m----> 1\u001b[1;33m \u001b[0msum_xy\u001b[0m\u001b[1;33m(\u001b[0m\u001b[1;36m2\u001b[0m\u001b[1;33m,\u001b[0m\u001b[1;36m3\u001b[0m\u001b[1;33m)\u001b[0m\u001b[1;33m\u001b[0m\u001b[1;33m\u001b[0m\u001b[0m\n\u001b[0m",
      "\u001b[1;32m~\\AppData\\Local\\Temp\\ipykernel_15344\\2648742927.py\u001b[0m in \u001b[0;36m<lambda>\u001b[1;34m(x, y)\u001b[0m\n\u001b[1;32m----> 1\u001b[1;33m \u001b[0msum_xy\u001b[0m \u001b[1;33m=\u001b[0m \u001b[1;32mlambda\u001b[0m \u001b[0mx\u001b[0m\u001b[1;33m,\u001b[0m\u001b[0my\u001b[0m \u001b[1;33m:\u001b[0m \u001b[0mx\u001b[0m\u001b[1;33m+\u001b[0m\u001b[0my\u001b[0m\u001b[1;33m(\u001b[0m\u001b[0mx\u001b[0m\u001b[1;33m)\u001b[0m\u001b[1;33m\u001b[0m\u001b[1;33m\u001b[0m\u001b[0m\n\u001b[0m",
      "\u001b[1;31mTypeError\u001b[0m: 'int' object is not callable"
     ]
    }
   ],
   "source": [
    "sum_xy(2,3)"
   ]
  },
  {
   "cell_type": "code",
   "execution_count": 49,
   "id": "5f1a62d1",
   "metadata": {},
   "outputs": [
    {
     "ename": "TypeError",
     "evalue": "<lambda>() missing 1 required positional argument: 'y'",
     "output_type": "error",
     "traceback": [
      "\u001b[1;31m---------------------------------------------------------------------------\u001b[0m",
      "\u001b[1;31mTypeError\u001b[0m                                 Traceback (most recent call last)",
      "\u001b[1;32m~\\AppData\\Local\\Temp\\ipykernel_15344\\336163981.py\u001b[0m in \u001b[0;36m<module>\u001b[1;34m\u001b[0m\n\u001b[1;32m----> 1\u001b[1;33m \u001b[0msum_xy\u001b[0m\u001b[1;33m(\u001b[0m\u001b[1;36m2\u001b[0m\u001b[1;33m)\u001b[0m\u001b[1;33m\u001b[0m\u001b[1;33m\u001b[0m\u001b[0m\n\u001b[0m",
      "\u001b[1;31mTypeError\u001b[0m: <lambda>() missing 1 required positional argument: 'y'"
     ]
    }
   ],
   "source": [
    "sum_xy(2)"
   ]
  },
  {
   "cell_type": "code",
   "execution_count": 50,
   "id": "95320eb1",
   "metadata": {},
   "outputs": [
    {
     "data": {
      "text/plain": [
       "12"
      ]
     },
     "execution_count": 50,
     "metadata": {},
     "output_type": "execute_result"
    }
   ],
   "source": [
    "sum_xy (2 , lambda x : x * 5)"
   ]
  }
 ],
 "metadata": {
  "kernelspec": {
   "display_name": "Python 3 (ipykernel)",
   "language": "python",
   "name": "python3"
  },
  "language_info": {
   "codemirror_mode": {
    "name": "ipython",
    "version": 3
   },
   "file_extension": ".py",
   "mimetype": "text/x-python",
   "name": "python",
   "nbconvert_exporter": "python",
   "pygments_lexer": "ipython3",
   "version": "3.9.13"
  }
 },
 "nbformat": 4,
 "nbformat_minor": 5
}
