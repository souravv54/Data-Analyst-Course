{
 "cells": [
  {
   "cell_type": "markdown",
   "id": "785b5980",
   "metadata": {},
   "source": [
    "## An Introduction"
   ]
  },
  {
   "cell_type": "code",
   "execution_count": 1,
   "id": "922e0dd6",
   "metadata": {},
   "outputs": [],
   "source": [
    "#Matrix in Python - Collection of numbers present in ordered rows and columns"
   ]
  },
  {
   "cell_type": "markdown",
   "id": "a1ae26c2",
   "metadata": {},
   "source": [
    "## Arrays in Python - the simplest way to work with matrices"
   ]
  },
  {
   "cell_type": "code",
   "execution_count": 2,
   "id": "c81b208c",
   "metadata": {},
   "outputs": [],
   "source": [
    "import numpy as np"
   ]
  },
  {
   "cell_type": "code",
   "execution_count": 3,
   "id": "764ec29d",
   "metadata": {},
   "outputs": [],
   "source": [
    "#Declare a Scalar"
   ]
  },
  {
   "cell_type": "code",
   "execution_count": 4,
   "id": "a034b61c",
   "metadata": {},
   "outputs": [],
   "source": [
    "s= 5"
   ]
  },
  {
   "cell_type": "code",
   "execution_count": 5,
   "id": "53ae332e",
   "metadata": {},
   "outputs": [
    {
     "data": {
      "text/plain": [
       "5"
      ]
     },
     "execution_count": 5,
     "metadata": {},
     "output_type": "execute_result"
    }
   ],
   "source": [
    "s"
   ]
  },
  {
   "cell_type": "code",
   "execution_count": 6,
   "id": "82675b55",
   "metadata": {},
   "outputs": [],
   "source": [
    "#Declare a vector"
   ]
  },
  {
   "cell_type": "code",
   "execution_count": 7,
   "id": "5386d90d",
   "metadata": {},
   "outputs": [
    {
     "data": {
      "text/plain": [
       "array([ 5, -2,  4])"
      ]
     },
     "execution_count": 7,
     "metadata": {},
     "output_type": "execute_result"
    }
   ],
   "source": [
    "v = np.array([5,-2,4])\n",
    "v"
   ]
  },
  {
   "cell_type": "code",
   "execution_count": 8,
   "id": "3a8149c6",
   "metadata": {},
   "outputs": [],
   "source": [
    "#Declare a matrix"
   ]
  },
  {
   "cell_type": "code",
   "execution_count": 9,
   "id": "3700d818",
   "metadata": {},
   "outputs": [
    {
     "data": {
      "text/plain": [
       "array([[ 5, 12,  6],\n",
       "       [-3,  0, 14]])"
      ]
     },
     "execution_count": 9,
     "metadata": {},
     "output_type": "execute_result"
    }
   ],
   "source": [
    "m = np.array([[5,12,6],[-3,0,14]])\n",
    "m"
   ]
  },
  {
   "cell_type": "code",
   "execution_count": 10,
   "id": "1f773cdd",
   "metadata": {},
   "outputs": [],
   "source": [
    "#Data Types"
   ]
  },
  {
   "cell_type": "code",
   "execution_count": 11,
   "id": "d4cee4d0",
   "metadata": {},
   "outputs": [
    {
     "data": {
      "text/plain": [
       "int"
      ]
     },
     "execution_count": 11,
     "metadata": {},
     "output_type": "execute_result"
    }
   ],
   "source": [
    "type(s)"
   ]
  },
  {
   "cell_type": "code",
   "execution_count": 12,
   "id": "1f9beb58",
   "metadata": {},
   "outputs": [
    {
     "data": {
      "text/plain": [
       "numpy.ndarray"
      ]
     },
     "execution_count": 12,
     "metadata": {},
     "output_type": "execute_result"
    }
   ],
   "source": [
    "type(v)"
   ]
  },
  {
   "cell_type": "code",
   "execution_count": 13,
   "id": "41670d84",
   "metadata": {},
   "outputs": [
    {
     "data": {
      "text/plain": [
       "numpy.ndarray"
      ]
     },
     "execution_count": 13,
     "metadata": {},
     "output_type": "execute_result"
    }
   ],
   "source": [
    "type(m)"
   ]
  },
  {
   "cell_type": "code",
   "execution_count": 14,
   "id": "886650fb",
   "metadata": {},
   "outputs": [
    {
     "data": {
      "text/plain": [
       "array(5)"
      ]
     },
     "execution_count": 14,
     "metadata": {},
     "output_type": "execute_result"
    }
   ],
   "source": [
    "s_array = np.array(5)\n",
    "s_array"
   ]
  },
  {
   "cell_type": "code",
   "execution_count": 15,
   "id": "328e1f63",
   "metadata": {},
   "outputs": [
    {
     "data": {
      "text/plain": [
       "numpy.ndarray"
      ]
     },
     "execution_count": 15,
     "metadata": {},
     "output_type": "execute_result"
    }
   ],
   "source": [
    "type(s_array)"
   ]
  },
  {
   "cell_type": "code",
   "execution_count": 16,
   "id": "7303d8f7",
   "metadata": {},
   "outputs": [],
   "source": [
    "#Data Shapes"
   ]
  },
  {
   "cell_type": "code",
   "execution_count": 17,
   "id": "c283f6fd",
   "metadata": {},
   "outputs": [
    {
     "data": {
      "text/plain": [
       "(2, 3)"
      ]
     },
     "execution_count": 17,
     "metadata": {},
     "output_type": "execute_result"
    }
   ],
   "source": [
    "m.shape"
   ]
  },
  {
   "cell_type": "code",
   "execution_count": 18,
   "id": "2e289fd5",
   "metadata": {},
   "outputs": [
    {
     "data": {
      "text/plain": [
       "(3,)"
      ]
     },
     "execution_count": 18,
     "metadata": {},
     "output_type": "execute_result"
    }
   ],
   "source": [
    "v.shape"
   ]
  },
  {
   "cell_type": "code",
   "execution_count": 19,
   "id": "1efe0248",
   "metadata": {},
   "outputs": [
    {
     "data": {
      "text/plain": [
       "()"
      ]
     },
     "execution_count": 19,
     "metadata": {},
     "output_type": "execute_result"
    }
   ],
   "source": [
    "s_array.shape"
   ]
  },
  {
   "cell_type": "code",
   "execution_count": 20,
   "id": "2a963a2a",
   "metadata": {},
   "outputs": [],
   "source": [
    "# To create a row and column vector we can use the reshape function which gives a new shape without changing the data"
   ]
  },
  {
   "cell_type": "code",
   "execution_count": 21,
   "id": "0db186ff",
   "metadata": {},
   "outputs": [
    {
     "data": {
      "text/plain": [
       "array([[ 5, -2,  4]])"
      ]
     },
     "execution_count": 21,
     "metadata": {},
     "output_type": "execute_result"
    }
   ],
   "source": [
    "v.reshape(1,3)"
   ]
  },
  {
   "cell_type": "code",
   "execution_count": 22,
   "id": "362b8091",
   "metadata": {},
   "outputs": [
    {
     "data": {
      "text/plain": [
       "array([[ 5],\n",
       "       [-2],\n",
       "       [ 4]])"
      ]
     },
     "execution_count": 22,
     "metadata": {},
     "output_type": "execute_result"
    }
   ],
   "source": [
    "v.reshape(3,1)"
   ]
  },
  {
   "cell_type": "code",
   "execution_count": 23,
   "id": "84170c59",
   "metadata": {},
   "outputs": [
    {
     "data": {
      "text/plain": [
       "()"
      ]
     },
     "execution_count": 23,
     "metadata": {},
     "output_type": "execute_result"
    }
   ],
   "source": [
    "s_array.shape"
   ]
  },
  {
   "cell_type": "markdown",
   "id": "a7da02e8",
   "metadata": {},
   "source": [
    "## What is Tensors"
   ]
  },
  {
   "cell_type": "code",
   "execution_count": 24,
   "id": "adcc594f",
   "metadata": {},
   "outputs": [],
   "source": [
    "#Tensors are simply a generalization of the concepts we have seen so far"
   ]
  },
  {
   "cell_type": "code",
   "execution_count": 25,
   "id": "d1808ae8",
   "metadata": {},
   "outputs": [],
   "source": [
    "# Tensors can be stored in ndarrays\n"
   ]
  },
  {
   "cell_type": "code",
   "execution_count": 26,
   "id": "667cf325",
   "metadata": {},
   "outputs": [
    {
     "data": {
      "text/plain": [
       "array([[ 5, 12,  6],\n",
       "       [-3,  0, 14]])"
      ]
     },
     "execution_count": 26,
     "metadata": {},
     "output_type": "execute_result"
    }
   ],
   "source": [
    "m1 = np.array([[5,12,6],[-3,0,14]])\n",
    "m1"
   ]
  },
  {
   "cell_type": "code",
   "execution_count": 27,
   "id": "2f0464db",
   "metadata": {},
   "outputs": [
    {
     "data": {
      "text/plain": [
       "array([[ 9,  8,  7],\n",
       "       [ 1,  3, -5]])"
      ]
     },
     "execution_count": 27,
     "metadata": {},
     "output_type": "execute_result"
    }
   ],
   "source": [
    "m2 = np.array([[9,8,7],[1,3,-5]])\n",
    "m2"
   ]
  },
  {
   "cell_type": "code",
   "execution_count": 28,
   "id": "8e9c1c92",
   "metadata": {},
   "outputs": [],
   "source": [
    "t = np.array([m1,m2])"
   ]
  },
  {
   "cell_type": "code",
   "execution_count": 29,
   "id": "4a119852",
   "metadata": {},
   "outputs": [
    {
     "data": {
      "text/plain": [
       "array([[[ 5, 12,  6],\n",
       "        [-3,  0, 14]],\n",
       "\n",
       "       [[ 9,  8,  7],\n",
       "        [ 1,  3, -5]]])"
      ]
     },
     "execution_count": 29,
     "metadata": {},
     "output_type": "execute_result"
    }
   ],
   "source": [
    "t"
   ]
  },
  {
   "cell_type": "code",
   "execution_count": 30,
   "id": "865bbfa7",
   "metadata": {},
   "outputs": [],
   "source": [
    "#Checking the shape"
   ]
  },
  {
   "cell_type": "code",
   "execution_count": 31,
   "id": "144fda22",
   "metadata": {},
   "outputs": [
    {
     "data": {
      "text/plain": [
       "numpy.ndarray"
      ]
     },
     "execution_count": 31,
     "metadata": {},
     "output_type": "execute_result"
    }
   ],
   "source": [
    "type(t)"
   ]
  },
  {
   "cell_type": "code",
   "execution_count": 32,
   "id": "3ecc4b78",
   "metadata": {},
   "outputs": [
    {
     "data": {
      "text/plain": [
       "(2, 2, 3)"
      ]
     },
     "execution_count": 32,
     "metadata": {},
     "output_type": "execute_result"
    }
   ],
   "source": [
    "t.shape"
   ]
  },
  {
   "cell_type": "markdown",
   "id": "b57bae88",
   "metadata": {},
   "source": [
    "## Addition and Subtraction in Matrix"
   ]
  },
  {
   "cell_type": "code",
   "execution_count": 33,
   "id": "6b44de0a",
   "metadata": {},
   "outputs": [],
   "source": [
    "#Addition/Subtraction - condiiton : matrices have the same dimensions"
   ]
  },
  {
   "cell_type": "code",
   "execution_count": 34,
   "id": "6e226945",
   "metadata": {},
   "outputs": [
    {
     "data": {
      "text/plain": [
       "array([[14, 20, 13],\n",
       "       [-2,  3,  9]])"
      ]
     },
     "execution_count": 34,
     "metadata": {},
     "output_type": "execute_result"
    }
   ],
   "source": [
    "m1+m2"
   ]
  },
  {
   "cell_type": "code",
   "execution_count": 36,
   "id": "82a22220",
   "metadata": {},
   "outputs": [
    {
     "data": {
      "text/plain": [
       "array([[-4,  4, -1],\n",
       "       [-4, -3, 19]])"
      ]
     },
     "execution_count": 36,
     "metadata": {},
     "output_type": "execute_result"
    }
   ],
   "source": [
    "m1-m2"
   ]
  },
  {
   "cell_type": "code",
   "execution_count": 37,
   "id": "afe5d4fc",
   "metadata": {},
   "outputs": [],
   "source": [
    "# Same we can do for float values as well"
   ]
  },
  {
   "cell_type": "code",
   "execution_count": 40,
   "id": "77ad399a",
   "metadata": {},
   "outputs": [
    {
     "data": {
      "text/plain": [
       "array([[  22.33,   -4.73],\n",
       "       [-203.14, 1200.02],\n",
       "       [   4.22,  234.1 ]])"
      ]
     },
     "execution_count": 40,
     "metadata": {},
     "output_type": "execute_result"
    }
   ],
   "source": [
    "m3 = np.array([[22.33,-4.73],[-203.14, 1200.02],[4.22,234.10]])\n",
    "m3"
   ]
  },
  {
   "cell_type": "code",
   "execution_count": 41,
   "id": "dd9da1a2",
   "metadata": {},
   "outputs": [
    {
     "data": {
      "text/plain": [
       "array([[ 133.13,  448.29],\n",
       "       [-340.21,    1.06],\n",
       "       [  30.41,  424.99]])"
      ]
     },
     "execution_count": 41,
     "metadata": {},
     "output_type": "execute_result"
    }
   ],
   "source": [
    "m4 = np.array([[133.13,448.29],[-340.21,1.06],[30.41,424.99]])\n",
    "m4"
   ]
  },
  {
   "cell_type": "code",
   "execution_count": 42,
   "id": "ca8c43be",
   "metadata": {},
   "outputs": [
    {
     "data": {
      "text/plain": [
       "array([[-110.8 , -453.02],\n",
       "       [ 137.07, 1198.96],\n",
       "       [ -26.19, -190.89]])"
      ]
     },
     "execution_count": 42,
     "metadata": {},
     "output_type": "execute_result"
    }
   ],
   "source": [
    "m3-m4"
   ]
  },
  {
   "cell_type": "code",
   "execution_count": 43,
   "id": "185aa06d",
   "metadata": {},
   "outputs": [],
   "source": [
    "#Adding Vectors - keep the length of vector same for both vectors to add or subtract"
   ]
  },
  {
   "cell_type": "code",
   "execution_count": 45,
   "id": "d4f5f52f",
   "metadata": {},
   "outputs": [
    {
     "data": {
      "text/plain": [
       "array([1, 2, 3, 4, 5])"
      ]
     },
     "execution_count": 45,
     "metadata": {},
     "output_type": "execute_result"
    }
   ],
   "source": [
    "v1 = np.array([1,2,3,4,5])\n",
    "v1"
   ]
  },
  {
   "cell_type": "code",
   "execution_count": 46,
   "id": "78d66777",
   "metadata": {},
   "outputs": [
    {
     "data": {
      "text/plain": [
       "array([9, 8, 7, 6, 5])"
      ]
     },
     "execution_count": 46,
     "metadata": {},
     "output_type": "execute_result"
    }
   ],
   "source": [
    "v2 = np.array([9,8,7,6,5])\n",
    "v2"
   ]
  },
  {
   "cell_type": "code",
   "execution_count": 47,
   "id": "b0051a58",
   "metadata": {},
   "outputs": [
    {
     "data": {
      "text/plain": [
       "array([10, 10, 10, 10, 10])"
      ]
     },
     "execution_count": 47,
     "metadata": {},
     "output_type": "execute_result"
    }
   ],
   "source": [
    "v1+v2"
   ]
  },
  {
   "cell_type": "code",
   "execution_count": 48,
   "id": "23135fc7",
   "metadata": {},
   "outputs": [
    {
     "data": {
      "text/plain": [
       "array([-8, -6, -4, -2,  0])"
      ]
     },
     "execution_count": 48,
     "metadata": {},
     "output_type": "execute_result"
    }
   ],
   "source": [
    "v1-v2"
   ]
  },
  {
   "cell_type": "code",
   "execution_count": 49,
   "id": "94642473",
   "metadata": {},
   "outputs": [],
   "source": [
    "#ERRORS when adding matrices"
   ]
  },
  {
   "cell_type": "code",
   "execution_count": 50,
   "id": "a25d427d",
   "metadata": {},
   "outputs": [
    {
     "ename": "ValueError",
     "evalue": "operands could not be broadcast together with shapes (2,3) (3,2) ",
     "output_type": "error",
     "traceback": [
      "\u001b[1;31m---------------------------------------------------------------------------\u001b[0m",
      "\u001b[1;31mValueError\u001b[0m                                Traceback (most recent call last)",
      "\u001b[1;32m~\\AppData\\Local\\Temp\\ipykernel_13732\\2000918479.py\u001b[0m in \u001b[0;36m<module>\u001b[1;34m\u001b[0m\n\u001b[1;32m----> 1\u001b[1;33m \u001b[0mm1\u001b[0m\u001b[1;33m+\u001b[0m\u001b[0mm3\u001b[0m\u001b[1;33m\u001b[0m\u001b[1;33m\u001b[0m\u001b[0m\n\u001b[0m",
      "\u001b[1;31mValueError\u001b[0m: operands could not be broadcast together with shapes (2,3) (3,2) "
     ]
    }
   ],
   "source": [
    "m1+m3"
   ]
  },
  {
   "cell_type": "code",
   "execution_count": 51,
   "id": "1f9603f5",
   "metadata": {},
   "outputs": [],
   "source": [
    "#Exceptions (Adding with scalar)"
   ]
  },
  {
   "cell_type": "code",
   "execution_count": 52,
   "id": "0af6419a",
   "metadata": {},
   "outputs": [
    {
     "data": {
      "text/plain": [
       "array([[ 6, 13,  7],\n",
       "       [-2,  1, 15]])"
      ]
     },
     "execution_count": 52,
     "metadata": {},
     "output_type": "execute_result"
    }
   ],
   "source": [
    "m1+1"
   ]
  },
  {
   "cell_type": "code",
   "execution_count": 53,
   "id": "49544a3e",
   "metadata": {},
   "outputs": [
    {
     "data": {
      "text/plain": [
       "array([3, 4, 5, 6, 7])"
      ]
     },
     "execution_count": 53,
     "metadata": {},
     "output_type": "execute_result"
    }
   ],
   "source": [
    "v1+2"
   ]
  },
  {
   "cell_type": "markdown",
   "id": "35190aa9",
   "metadata": {},
   "source": [
    "## Transpose of Matrix"
   ]
  },
  {
   "cell_type": "code",
   "execution_count": 55,
   "id": "3adc0d3c",
   "metadata": {},
   "outputs": [],
   "source": [
    "#Transposing vectors:\n",
    "# The values are not changing or transforming, only their position is\n",
    "#Transposing the same vector twice yields the initial vector(object)\n",
    "# A 3x1 matrix transposed is a a 1x3 matrix\n",
    "# Same applies to matrix 3x2 become 2x3 matrix"
   ]
  },
  {
   "cell_type": "code",
   "execution_count": 56,
   "id": "71201d10",
   "metadata": {},
   "outputs": [],
   "source": [
    "A = np.array([[5,12,6],[-3,0,14]])"
   ]
  },
  {
   "cell_type": "code",
   "execution_count": 57,
   "id": "ed9cb635",
   "metadata": {},
   "outputs": [
    {
     "data": {
      "text/plain": [
       "array([[ 5, 12,  6],\n",
       "       [-3,  0, 14]])"
      ]
     },
     "execution_count": 57,
     "metadata": {},
     "output_type": "execute_result"
    }
   ],
   "source": [
    "A"
   ]
  },
  {
   "cell_type": "code",
   "execution_count": 58,
   "id": "e069290b",
   "metadata": {},
   "outputs": [
    {
     "data": {
      "text/plain": [
       "array([[ 5, -3],\n",
       "       [12,  0],\n",
       "       [ 6, 14]])"
      ]
     },
     "execution_count": 58,
     "metadata": {},
     "output_type": "execute_result"
    }
   ],
   "source": [
    "A.T"
   ]
  },
  {
   "cell_type": "code",
   "execution_count": 59,
   "id": "bfff7865",
   "metadata": {},
   "outputs": [
    {
     "data": {
      "text/plain": [
       "array([[ 5, -3],\n",
       "       [-2,  4]])"
      ]
     },
     "execution_count": 59,
     "metadata": {},
     "output_type": "execute_result"
    }
   ],
   "source": [
    "B = np.array([[5,-3],[-2,4]])\n",
    "B"
   ]
  },
  {
   "cell_type": "code",
   "execution_count": 60,
   "id": "2e77fd37",
   "metadata": {},
   "outputs": [
    {
     "data": {
      "text/plain": [
       "array([[ 5, -2],\n",
       "       [-3,  4]])"
      ]
     },
     "execution_count": 60,
     "metadata": {},
     "output_type": "execute_result"
    }
   ],
   "source": [
    "B.T"
   ]
  },
  {
   "cell_type": "code",
   "execution_count": 61,
   "id": "e18bc2db",
   "metadata": {},
   "outputs": [],
   "source": [
    "x = np.array([1,2,3,4])"
   ]
  },
  {
   "cell_type": "code",
   "execution_count": 62,
   "id": "245301fd",
   "metadata": {},
   "outputs": [
    {
     "data": {
      "text/plain": [
       "array([1, 2, 3, 4])"
      ]
     },
     "execution_count": 62,
     "metadata": {},
     "output_type": "execute_result"
    }
   ],
   "source": [
    "x.T\n"
   ]
  },
  {
   "cell_type": "code",
   "execution_count": 63,
   "id": "4480e400",
   "metadata": {},
   "outputs": [
    {
     "data": {
      "text/plain": [
       "array([1, 2, 3, 4])"
      ]
     },
     "execution_count": 63,
     "metadata": {},
     "output_type": "execute_result"
    }
   ],
   "source": [
    "x"
   ]
  },
  {
   "cell_type": "code",
   "execution_count": 64,
   "id": "499d0987",
   "metadata": {},
   "outputs": [
    {
     "data": {
      "text/plain": [
       "(4,)"
      ]
     },
     "execution_count": 64,
     "metadata": {},
     "output_type": "execute_result"
    }
   ],
   "source": [
    "x.shape"
   ]
  },
  {
   "cell_type": "code",
   "execution_count": 66,
   "id": "e3c14a6d",
   "metadata": {},
   "outputs": [
    {
     "data": {
      "text/plain": [
       "array([[1],\n",
       "       [2],\n",
       "       [3],\n",
       "       [4]])"
      ]
     },
     "execution_count": 66,
     "metadata": {},
     "output_type": "execute_result"
    }
   ],
   "source": [
    "x.reshape(4,1)"
   ]
  },
  {
   "cell_type": "markdown",
   "id": "06945e6e",
   "metadata": {},
   "source": [
    "## Dot Products of Vectors"
   ]
  },
  {
   "cell_type": "code",
   "execution_count": 68,
   "id": "7ca95028",
   "metadata": {},
   "outputs": [],
   "source": [
    "# Dot product of 2 vectors is a scalar\n",
    "# Dot product also called as scalar product\n",
    "# Dot product means SUM of the corresponding product element"
   ]
  },
  {
   "cell_type": "code",
   "execution_count": 69,
   "id": "387f11ea",
   "metadata": {},
   "outputs": [],
   "source": [
    "x= np.array([2,8,-7])\n",
    "y = np.array([1,-7,3])"
   ]
  },
  {
   "cell_type": "code",
   "execution_count": 70,
   "id": "cfa031cb",
   "metadata": {},
   "outputs": [
    {
     "data": {
      "text/plain": [
       "-75"
      ]
     },
     "execution_count": 70,
     "metadata": {},
     "output_type": "execute_result"
    }
   ],
   "source": [
    "np.dot(x,y)"
   ]
  },
  {
   "cell_type": "code",
   "execution_count": 71,
   "id": "67580618",
   "metadata": {},
   "outputs": [],
   "source": [
    "# Multiply scalar x vector"
   ]
  },
  {
   "cell_type": "code",
   "execution_count": 72,
   "id": "2d8a184d",
   "metadata": {},
   "outputs": [
    {
     "data": {
      "text/plain": [
       "array([ 2,  8, -7])"
      ]
     },
     "execution_count": 72,
     "metadata": {},
     "output_type": "execute_result"
    }
   ],
   "source": [
    "x\n"
   ]
  },
  {
   "cell_type": "code",
   "execution_count": 73,
   "id": "3f23609b",
   "metadata": {},
   "outputs": [
    {
     "data": {
      "text/plain": [
       "array([ 10,  40, -35])"
      ]
     },
     "execution_count": 73,
     "metadata": {},
     "output_type": "execute_result"
    }
   ],
   "source": [
    "x*5"
   ]
  },
  {
   "cell_type": "markdown",
   "id": "d03a2a74",
   "metadata": {},
   "source": [
    "## Dot products of Matrices"
   ]
  },
  {
   "cell_type": "code",
   "execution_count": 75,
   "id": "0240a694",
   "metadata": {},
   "outputs": [
    {
     "data": {
      "text/plain": [
       "array([[ 5, 12,  6],\n",
       "       [-3,  0, 14]])"
      ]
     },
     "execution_count": 75,
     "metadata": {},
     "output_type": "execute_result"
    }
   ],
   "source": [
    "A"
   ]
  },
  {
   "cell_type": "code",
   "execution_count": 77,
   "id": "46c2fe62",
   "metadata": {},
   "outputs": [],
   "source": [
    "# We can only multiply an mxn with an nxk matrix\n",
    "# if we multiply mxn matrix with nxk matrix, result will be in mxk matrix"
   ]
  },
  {
   "cell_type": "code",
   "execution_count": 78,
   "id": "7e068dbe",
   "metadata": {},
   "outputs": [
    {
     "data": {
      "text/plain": [
       "array([[ 5, -3],\n",
       "       [-2,  4]])"
      ]
     },
     "execution_count": 78,
     "metadata": {},
     "output_type": "execute_result"
    }
   ],
   "source": [
    "B"
   ]
  },
  {
   "cell_type": "code",
   "execution_count": 80,
   "id": "53b55ea4",
   "metadata": {},
   "outputs": [],
   "source": [
    "C = np.array([[2,-1],[8,0],[3,0]])"
   ]
  },
  {
   "cell_type": "code",
   "execution_count": 81,
   "id": "838da79c",
   "metadata": {},
   "outputs": [
    {
     "data": {
      "text/plain": [
       "array([[ 2, -1],\n",
       "       [ 8,  0],\n",
       "       [ 3,  0]])"
      ]
     },
     "execution_count": 81,
     "metadata": {},
     "output_type": "execute_result"
    }
   ],
   "source": [
    "C"
   ]
  },
  {
   "cell_type": "code",
   "execution_count": 82,
   "id": "1c5bd5b8",
   "metadata": {},
   "outputs": [
    {
     "data": {
      "text/plain": [
       "array([[124,  -5],\n",
       "       [ 36,   3]])"
      ]
     },
     "execution_count": 82,
     "metadata": {},
     "output_type": "execute_result"
    }
   ],
   "source": [
    "np.dot(A,C)"
   ]
  },
  {
   "cell_type": "code",
   "execution_count": 85,
   "id": "84fdfdf4",
   "metadata": {},
   "outputs": [],
   "source": [
    "# Applications is data science: \n",
    "# Vectorized code\n",
    "# Image recognition\n",
    "# Dimensionality Reduction"
   ]
  }
 ],
 "metadata": {
  "kernelspec": {
   "display_name": "Python 3 (ipykernel)",
   "language": "python",
   "name": "python3"
  },
  "language_info": {
   "codemirror_mode": {
    "name": "ipython",
    "version": 3
   },
   "file_extension": ".py",
   "mimetype": "text/x-python",
   "name": "python",
   "nbconvert_exporter": "python",
   "pygments_lexer": "ipython3",
   "version": "3.9.13"
  }
 },
 "nbformat": 4,
 "nbformat_minor": 5
}
