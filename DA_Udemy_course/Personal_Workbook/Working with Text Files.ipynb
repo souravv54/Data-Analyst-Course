{
 "cells": [
  {
   "cell_type": "markdown",
   "id": "2e9ba0a0",
   "metadata": {},
   "source": [
    "# An Introduction"
   ]
  },
  {
   "cell_type": "code",
   "execution_count": 1,
   "id": "cdaa7e38",
   "metadata": {},
   "outputs": [],
   "source": [
    "# A file is any item that can be created,Modify,stored, or deteled by the user OR operating system."
   ]
  },
  {
   "cell_type": "code",
   "execution_count": 2,
   "id": "4e4a7fc1",
   "metadata": {},
   "outputs": [],
   "source": [
    "# Python only Handles 2 categories of files : \n",
    "# Text files - having text, numbers,symbols and they don't contain Meta data.\n",
    "# Binary files - Written in 0 and 1(Machine language), doesn't contain line terminators."
   ]
  },
  {
   "cell_type": "markdown",
   "id": "40028c47",
   "metadata": {},
   "source": [
    "## File VS File object, Read vs Parse"
   ]
  },
  {
   "cell_type": "code",
   "execution_count": 3,
   "id": "9fe9d0c1",
   "metadata": {},
   "outputs": [],
   "source": [
    "#File - any item that can be created,Modify,stored, or deteled by the user OR operating system.\n",
    "#File object - A python object that contains data imported from a FILE."
   ]
  },
  {
   "cell_type": "code",
   "execution_count": 4,
   "id": "d5359554",
   "metadata": {},
   "outputs": [],
   "source": [
    "# Flow of working with text files\n",
    "# IMP : Take the text file --> put into python --> create file object --> clean, preprocess and analyse the data from text."
   ]
  },
  {
   "cell_type": "code",
   "execution_count": 5,
   "id": "f4eb57e0",
   "metadata": {},
   "outputs": [],
   "source": [
    "# Reading - Simply transferring it's text into the computer memory.\n",
    "# Parsing - Trying to understand the purpose of this python object"
   ]
  },
  {
   "cell_type": "markdown",
   "id": "06c26cbd",
   "metadata": {},
   "source": [
    "## Structured vs Semi-Structured vs Unstructured Data"
   ]
  },
  {
   "cell_type": "code",
   "execution_count": 6,
   "id": "2029728c",
   "metadata": {},
   "outputs": [],
   "source": [
    "# Structured Data :\n",
    "# usually called as traditional Data as well which is in tabular form\n",
    "# It can be stored in databases\n",
    "# Easy and Quick access to a specific data value\n",
    "# Example : Excel spreadsheet, SQL database, Pandas DataFrame"
   ]
  },
  {
   "cell_type": "code",
   "execution_count": 7,
   "id": "de3db1b5",
   "metadata": {},
   "outputs": [],
   "source": [
    "# Unstructured Data :\n",
    "# Information that is  un-organised in a way that makes finding a specific piece of it is actually hard\n",
    "# Example : Photos, Videos, Web pages, presentation"
   ]
  },
  {
   "cell_type": "code",
   "execution_count": 8,
   "id": "0d52b89b",
   "metadata": {},
   "outputs": [],
   "source": [
    "# Semi - Structured Data :\n",
    "# Using different patterns for storing and organizing the data for easier access and analysis.\n",
    "# Example : CSV, JSON, XML,HTML"
   ]
  },
  {
   "cell_type": "code",
   "execution_count": 9,
   "id": "666c2b66",
   "metadata": {},
   "outputs": [],
   "source": [
    "# In Data Analysis, We will only focused on Traditional Data only."
   ]
  },
  {
   "cell_type": "markdown",
   "id": "8319afb3",
   "metadata": {},
   "source": [
    "## Data connectivity through text files"
   ]
  },
  {
   "cell_type": "code",
   "execution_count": 10,
   "id": "c1f6a478",
   "metadata": {},
   "outputs": [],
   "source": [
    "# Most widely used text file formats :\n",
    "# JSON, XML, CSV, TXT, XLSX"
   ]
  },
  {
   "cell_type": "code",
   "execution_count": 11,
   "id": "bdcc7f34",
   "metadata": {},
   "outputs": [],
   "source": [
    "# It's fundamental to know what a text file appearance and functionality is for data cleaning and Pre-processing "
   ]
  },
  {
   "cell_type": "code",
   "execution_count": 12,
   "id": "9d8368f3",
   "metadata": {},
   "outputs": [],
   "source": [
    "# Usual Formats: .csv, .json, .xlsx and in this course we will deal mostly with CSV and JSON files"
   ]
  },
  {
   "cell_type": "markdown",
   "id": "58b54bed",
   "metadata": {},
   "source": [
    "## Principles of importing data in python"
   ]
  },
  {
   "cell_type": "code",
   "execution_count": 13,
   "id": "e313b156",
   "metadata": {},
   "outputs": [],
   "source": [
    "# A plain text file needs a seperator which helps to identify the different data sets like a comma or semicolon\n",
    "# EOL(End of line) is also called Newline character OR line ending  like : \\n and , \n",
    "# EOF(end of file) : A signal or condition which indicates NO more characters in that text file."
   ]
  },
  {
   "cell_type": "markdown",
   "id": "b033fa8a",
   "metadata": {},
   "source": [
    "## More on text files (*.txt VS *.csv)"
   ]
  },
  {
   "cell_type": "code",
   "execution_count": 14,
   "id": "54711dce",
   "metadata": {},
   "outputs": [],
   "source": [
    "# Plain text:\n",
    "# Contain non-formatted data\n",
    "# Each value is stored on a sepeate line and having NO seperators.\n",
    "# Example : .txt file"
   ]
  },
  {
   "cell_type": "code",
   "execution_count": 15,
   "id": "b0fff7ef",
   "metadata": {},
   "outputs": [],
   "source": [
    "# Flat files :\n",
    "# Contain non-formatted data\n",
    "# Resembles a plain text file containing seperators\n",
    "# Seperators help form a structure that corresponds to single data table.\n",
    "# Example : CSV file"
   ]
  },
  {
   "cell_type": "markdown",
   "id": "922353c5",
   "metadata": {},
   "source": [
    "## Common Naming convention used in programming "
   ]
  },
  {
   "cell_type": "code",
   "execution_count": 16,
   "id": "aa938728",
   "metadata": {},
   "outputs": [],
   "source": [
    "# Naming convention : A sign of good or bad coding style"
   ]
  },
  {
   "cell_type": "code",
   "execution_count": 17,
   "id": "538c4860",
   "metadata": {},
   "outputs": [],
   "source": [
    "#CamelCase :\n",
    "#Upper Camel Case - \n",
    "#Multiple words that are attached in sensible order\n",
    "#The first letter of each of these words are CAPITAL.\n",
    "#Use to name your classes or column names\n",
    "#Example : LoanID\n",
    "\n",
    "#Lower Camel Case - \n",
    "# The first letter of only first word is lowercase\n",
    "#Example : loanID\n",
    "\n",
    "#Lowercase letters are seperated by underscores . Example : prices_per_category \n",
    "#Don't = Class names, Constants\n",
    "# Do = Funtions, Variables\n",
    "\n",
    "# While creating a file and saving the file , use hypen ex : Kebab-case.csv\n",
    "# NOTE : Don't use whitespaces when naming files or programming entities"
   ]
  },
  {
   "cell_type": "markdown",
   "id": "cc7a6248",
   "metadata": {},
   "source": [
    "## Importing text files in Python (open())"
   ]
  },
  {
   "cell_type": "code",
   "execution_count": 18,
   "id": "6037b14d",
   "metadata": {},
   "outputs": [],
   "source": [
    "#Importing the text file into a file object in python"
   ]
  },
  {
   "cell_type": "code",
   "execution_count": 19,
   "id": "b240d052",
   "metadata": {},
   "outputs": [],
   "source": [
    "filename = \"source.txt\""
   ]
  },
  {
   "cell_type": "code",
   "execution_count": 20,
   "id": "21ab3fb5",
   "metadata": {},
   "outputs": [],
   "source": [
    "file = open(filename,mode='r')"
   ]
  },
  {
   "cell_type": "code",
   "execution_count": 21,
   "id": "004ac3df",
   "metadata": {},
   "outputs": [
    {
     "data": {
      "text/plain": [
       "<_io.TextIOWrapper name='source.txt' mode='r' encoding='cp1252'>"
      ]
     },
     "execution_count": 21,
     "metadata": {},
     "output_type": "execute_result"
    }
   ],
   "source": [
    "file"
   ]
  },
  {
   "cell_type": "code",
   "execution_count": 22,
   "id": "19fb8cdb",
   "metadata": {},
   "outputs": [
    {
     "data": {
      "text/plain": [
       "'This is not so simple anymore!'"
      ]
     },
     "execution_count": 22,
     "metadata": {},
     "output_type": "execute_result"
    }
   ],
   "source": [
    "file.read()"
   ]
  },
  {
   "cell_type": "code",
   "execution_count": 23,
   "id": "c4083a6e",
   "metadata": {},
   "outputs": [
    {
     "data": {
      "text/plain": [
       "''"
      ]
     },
     "execution_count": 23,
     "metadata": {},
     "output_type": "execute_result"
    }
   ],
   "source": [
    "# If we execute the same statement again , it will not read the same value \n",
    "file.read()"
   ]
  },
  {
   "cell_type": "code",
   "execution_count": 24,
   "id": "b55bb39c",
   "metadata": {},
   "outputs": [
    {
     "data": {
      "text/plain": [
       "'This is not so simple anymore!'"
      ]
     },
     "execution_count": 24,
     "metadata": {},
     "output_type": "execute_result"
    }
   ],
   "source": [
    "# Rectification :\n",
    "file = open(filename,mode='r')\n",
    "text = file.read()\n",
    "text"
   ]
  },
  {
   "cell_type": "code",
   "execution_count": 25,
   "id": "ca232a69",
   "metadata": {},
   "outputs": [
    {
     "name": "stdout",
     "output_type": "stream",
     "text": [
      "This is not so simple anymore!\n"
     ]
    }
   ],
   "source": [
    "print(text)"
   ]
  },
  {
   "cell_type": "code",
   "execution_count": 26,
   "id": "2e12e729",
   "metadata": {},
   "outputs": [],
   "source": [
    "# How to close the file, if we don't close the file then might be loosing it's state"
   ]
  },
  {
   "cell_type": "code",
   "execution_count": 27,
   "id": "2efff703",
   "metadata": {},
   "outputs": [
    {
     "data": {
      "text/plain": [
       "False"
      ]
     },
     "execution_count": 27,
     "metadata": {},
     "output_type": "execute_result"
    }
   ],
   "source": [
    "# Validation check\n",
    "file.closed"
   ]
  },
  {
   "cell_type": "code",
   "execution_count": 28,
   "id": "ff023cba",
   "metadata": {},
   "outputs": [],
   "source": [
    "#Object helps in closing a file\n",
    "file.close()"
   ]
  },
  {
   "cell_type": "code",
   "execution_count": 29,
   "id": "750f941c",
   "metadata": {},
   "outputs": [
    {
     "data": {
      "text/plain": [
       "True"
      ]
     },
     "execution_count": 29,
     "metadata": {},
     "output_type": "execute_result"
    }
   ],
   "source": [
    "file.closed"
   ]
  },
  {
   "cell_type": "code",
   "execution_count": 30,
   "id": "ada8620c",
   "metadata": {},
   "outputs": [
    {
     "name": "stdout",
     "output_type": "stream",
     "text": [
      "This is not so simple anymore!\n"
     ]
    }
   ],
   "source": [
    "# The sting we have created and the content of a file are two seperate things \n",
    "print(text)"
   ]
  },
  {
   "cell_type": "markdown",
   "id": "da31b988",
   "metadata": {},
   "source": [
    "## Importing text files in Python (with open())"
   ]
  },
  {
   "cell_type": "code",
   "execution_count": 31,
   "id": "8f7651cf",
   "metadata": {},
   "outputs": [],
   "source": [
    "# Professionals mostly use with statement instead of using open function alone"
   ]
  },
  {
   "cell_type": "code",
   "execution_count": 32,
   "id": "787489c6",
   "metadata": {},
   "outputs": [],
   "source": [
    "# Old way of fashion to open a file :\n",
    "file = open(filename,mode='r')\n",
    "text = file.read()\n",
    "file.close()"
   ]
  },
  {
   "cell_type": "code",
   "execution_count": 33,
   "id": "7da75595",
   "metadata": {},
   "outputs": [],
   "source": [
    "# Using with clause to open a file :\n",
    "with open(filename,mode = 'r') as out_file:\n",
    "    out_file.read()\n",
    "    \n",
    "# Benifit : After the execution, files get closes automatically and connection with file get terminated."
   ]
  },
  {
   "cell_type": "code",
   "execution_count": 34,
   "id": "687ada56",
   "metadata": {},
   "outputs": [
    {
     "name": "stdout",
     "output_type": "stream",
     "text": [
      "This is not so simple anymore!\n"
     ]
    }
   ],
   "source": [
    "print(text)"
   ]
  },
  {
   "cell_type": "code",
   "execution_count": 35,
   "id": "fa90ccdd",
   "metadata": {},
   "outputs": [
    {
     "name": "stdout",
     "output_type": "stream",
     "text": [
      "<_io.TextIOWrapper name='source.txt' mode='r' encoding='cp1252'>\n"
     ]
    }
   ],
   "source": [
    "print(out_file)"
   ]
  },
  {
   "cell_type": "code",
   "execution_count": 36,
   "id": "8adc841a",
   "metadata": {},
   "outputs": [],
   "source": [
    "with open('source.txt',mode = 'w') as out_file:\n",
    "    out_file.write(\"This is not so simple anymore!\")"
   ]
  },
  {
   "cell_type": "code",
   "execution_count": 37,
   "id": "6b40fb7b",
   "metadata": {},
   "outputs": [
    {
     "name": "stdout",
     "output_type": "stream",
     "text": [
      "<_io.TextIOWrapper name='source.txt' mode='w' encoding='cp1252'>\n"
     ]
    }
   ],
   "source": [
    "print(out_file)"
   ]
  },
  {
   "cell_type": "code",
   "execution_count": 38,
   "id": "959ff812",
   "metadata": {},
   "outputs": [],
   "source": [
    "file = open(filename, mode ='r')\n",
    "text = file.read()\n",
    "file.close()"
   ]
  },
  {
   "cell_type": "code",
   "execution_count": 39,
   "id": "795ce7ea",
   "metadata": {},
   "outputs": [
    {
     "name": "stdout",
     "output_type": "stream",
     "text": [
      "This is not so simple anymore!\n"
     ]
    }
   ],
   "source": [
    "print(text)"
   ]
  },
  {
   "cell_type": "code",
   "execution_count": 40,
   "id": "3f7573e2",
   "metadata": {},
   "outputs": [
    {
     "name": "stdout",
     "output_type": "stream",
     "text": [
      "This is not so simple anymore!\n"
     ]
    }
   ],
   "source": [
    "with open(filename,mode = 'r') as out_file:\n",
    "    new_text = out_file.read()\n",
    "print(new_text)"
   ]
  }
 ],
 "metadata": {
  "kernelspec": {
   "display_name": "Python 3 (ipykernel)",
   "language": "python",
   "name": "python3"
  },
  "language_info": {
   "codemirror_mode": {
    "name": "ipython",
    "version": 3
   },
   "file_extension": ".py",
   "mimetype": "text/x-python",
   "name": "python",
   "nbconvert_exporter": "python",
   "pygments_lexer": "ipython3",
   "version": "3.9.13"
  }
 },
 "nbformat": 4,
 "nbformat_minor": 5
}
