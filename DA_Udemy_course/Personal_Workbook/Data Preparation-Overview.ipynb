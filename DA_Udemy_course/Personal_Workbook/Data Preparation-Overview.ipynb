{
 "cells": [
  {
   "cell_type": "markdown",
   "id": "20f70aa7",
   "metadata": {},
   "source": [
    "# Data Gathering and Data collection"
   ]
  },
  {
   "cell_type": "code",
   "execution_count": 1,
   "id": "9ee1fa66",
   "metadata": {},
   "outputs": [],
   "source": [
    "# Types of Data classification : \n",
    "# Primary Data : Data you have created, ex : Sales operation, inventory\n",
    "# Access to primary data is actaully rare\n",
    "#The data may have been collected only for the last couple of years.\n",
    "\n",
    "# Secondary Data : A existing data that somebody else has gathered\n",
    "# It is much more common to have access to\n",
    "# Someone on the internet posseses the information you seek\n",
    "# It might not be free or it could be spread out over a couple of different datasets"
   ]
  },
  {
   "cell_type": "code",
   "execution_count": 2,
   "id": "93b89992",
   "metadata": {},
   "outputs": [],
   "source": [
    "# How to obtain data online, if the data is not present over CSV or JSON(NON downloadable package)?\n",
    "# There are total two methods :1.Web scrapping 2. APIs"
   ]
  },
  {
   "cell_type": "code",
   "execution_count": 3,
   "id": "7d9e73a3",
   "metadata": {},
   "outputs": [],
   "source": [
    "#Web Scrapping : Extracting information programatically from websites\n",
    "# What google does all the time to determine the type and content of a webpage\n",
    "# Requesting the webpage from a server\n",
    "# Extracting the relevant data from the HTML document that is send to you"
   ]
  },
  {
   "cell_type": "code",
   "execution_count": 4,
   "id": "c65cd8ba",
   "metadata": {},
   "outputs": [],
   "source": [
    "# Disadvantages of Web-scrapping :\n",
    "# 1. Not easily scalable(depends on specific structure of HTML) and reliable(small changes break existing scappers)\n",
    "# 2. legality as Bots can overload the servers and futhers complications"
   ]
  },
  {
   "cell_type": "code",
   "execution_count": 5,
   "id": "79635d48",
   "metadata": {},
   "outputs": [],
   "source": [
    "# APIs:\n",
    "# The bridges of the digital world\n",
    "# Designed for programmatical data exchange\n",
    "# The workflow and all related systems are streamlined and easy to use\n",
    "# They can provide data in many areas and formats"
   ]
  },
  {
   "cell_type": "markdown",
   "id": "96ea2d21",
   "metadata": {},
   "source": [
    "# Data Cleaning and Data Preprocessing "
   ]
  },
  {
   "cell_type": "code",
   "execution_count": 6,
   "id": "26b6cc57",
   "metadata": {},
   "outputs": [],
   "source": [
    "# Data cleaning/cleansing:\n",
    "# Apply certain analytical and programming techniques to convert an incomprehensible\n",
    "# dataset into a meaningful and quality format we can use for further processing.\n",
    "\n",
    "#This step aims to fix the problems that will inevitably occur with data gathering\n",
    "\n",
    "# After this, We can perform statistical and mathematical computations easily."
   ]
  },
  {
   "cell_type": "code",
   "execution_count": 7,
   "id": "dc874689",
   "metadata": {},
   "outputs": [],
   "source": [
    "# Data Preprocessing:\n",
    "# Re-categorization of the data\n",
    "# Imputing missing values\n",
    "# Shuffling\n",
    "\n",
    "# Pandas to clean the data\n",
    "# Numpy to pre-process the data"
   ]
  },
  {
   "cell_type": "code",
   "execution_count": 8,
   "id": "6108ffa3",
   "metadata": {},
   "outputs": [],
   "source": [
    "# The ideal Analytical flow :\n",
    "# Data Gathering --> Data Cleaning --> Data preprocessing --> Data insights through visualization"
   ]
  }
 ],
 "metadata": {
  "kernelspec": {
   "display_name": "Python 3 (ipykernel)",
   "language": "python",
   "name": "python3"
  },
  "language_info": {
   "codemirror_mode": {
    "name": "ipython",
    "version": 3
   },
   "file_extension": ".py",
   "mimetype": "text/x-python",
   "name": "python",
   "nbconvert_exporter": "python",
   "pygments_lexer": "ipython3",
   "version": "3.9.13"
  }
 },
 "nbformat": 4,
 "nbformat_minor": 5
}
