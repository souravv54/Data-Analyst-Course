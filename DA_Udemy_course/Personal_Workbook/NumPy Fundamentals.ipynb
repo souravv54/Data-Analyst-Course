{
 "cells": [
  {
   "cell_type": "markdown",
   "id": "c1e091e3",
   "metadata": {},
   "source": [
    "## Indexing in NumPy"
   ]
  },
  {
   "cell_type": "code",
   "execution_count": 1,
   "id": "25b9c5b8",
   "metadata": {},
   "outputs": [],
   "source": [
    "import numpy as np"
   ]
  },
  {
   "cell_type": "code",
   "execution_count": 2,
   "id": "d4704717",
   "metadata": {},
   "outputs": [
    {
     "data": {
      "text/plain": [
       "array([[1, 2, 3],\n",
       "       [4, 5, 6]])"
      ]
     },
     "execution_count": 2,
     "metadata": {},
     "output_type": "execute_result"
    }
   ],
   "source": [
    "array_a = np.array([[1,2,3],[4,5,6]])\n",
    "array_a"
   ]
  },
  {
   "cell_type": "code",
   "execution_count": 3,
   "id": "170886a2",
   "metadata": {},
   "outputs": [],
   "source": [
    "# We use indices to refer to the individual elements within an array\n",
    "# Coordinates that help us navigate through the array\n",
    "# Integers  array_a[0] --> 1st position = index 0"
   ]
  },
  {
   "cell_type": "code",
   "execution_count": 4,
   "id": "6ca9775c",
   "metadata": {},
   "outputs": [
    {
     "data": {
      "text/plain": [
       "array([1, 2, 3])"
      ]
     },
     "execution_count": 4,
     "metadata": {},
     "output_type": "execute_result"
    }
   ],
   "source": [
    "array_a[0]"
   ]
  },
  {
   "cell_type": "code",
   "execution_count": 5,
   "id": "8d3b45e3",
   "metadata": {},
   "outputs": [
    {
     "data": {
      "text/plain": [
       "3"
      ]
     },
     "execution_count": 5,
     "metadata": {},
     "output_type": "execute_result"
    }
   ],
   "source": [
    "# To Fech each value\n",
    "array_a[0][2]"
   ]
  },
  {
   "cell_type": "code",
   "execution_count": 6,
   "id": "d0ca5a2c",
   "metadata": {},
   "outputs": [
    {
     "data": {
      "text/plain": [
       "3"
      ]
     },
     "execution_count": 6,
     "metadata": {},
     "output_type": "execute_result"
    }
   ],
   "source": [
    "# Another way which is widely used\n",
    "array_a[0,2]"
   ]
  },
  {
   "cell_type": "code",
   "execution_count": 7,
   "id": "3e97b610",
   "metadata": {},
   "outputs": [
    {
     "data": {
      "text/plain": [
       "array([2, 5])"
      ]
     },
     "execution_count": 7,
     "metadata": {},
     "output_type": "execute_result"
    }
   ],
   "source": [
    "array_a[:,1]"
   ]
  },
  {
   "cell_type": "code",
   "execution_count": 8,
   "id": "cef16452",
   "metadata": {},
   "outputs": [
    {
     "data": {
      "text/plain": [
       "array([1, 2, 3])"
      ]
     },
     "execution_count": 8,
     "metadata": {},
     "output_type": "execute_result"
    }
   ],
   "source": [
    "# Negative indices means traversing the array backwards\n",
    "array_b = np.array([1,2,3])\n",
    "array_b"
   ]
  },
  {
   "cell_type": "code",
   "execution_count": 9,
   "id": "525c8518",
   "metadata": {},
   "outputs": [
    {
     "data": {
      "text/plain": [
       "3"
      ]
     },
     "execution_count": 9,
     "metadata": {},
     "output_type": "execute_result"
    }
   ],
   "source": [
    "array_b[-1]"
   ]
  },
  {
   "cell_type": "code",
   "execution_count": 10,
   "id": "c8579864",
   "metadata": {},
   "outputs": [
    {
     "data": {
      "text/plain": [
       "array([[1, 2, 3],\n",
       "       [4, 5, 6]])"
      ]
     },
     "execution_count": 10,
     "metadata": {},
     "output_type": "execute_result"
    }
   ],
   "source": [
    "array_a"
   ]
  },
  {
   "cell_type": "code",
   "execution_count": 11,
   "id": "a6c646a5",
   "metadata": {},
   "outputs": [
    {
     "data": {
      "text/plain": [
       "array([4, 5, 6])"
      ]
     },
     "execution_count": 11,
     "metadata": {},
     "output_type": "execute_result"
    }
   ],
   "source": [
    "array_a[-1]"
   ]
  },
  {
   "cell_type": "code",
   "execution_count": 12,
   "id": "daaf64a7",
   "metadata": {},
   "outputs": [
    {
     "data": {
      "text/plain": [
       "array([3, 6])"
      ]
     },
     "execution_count": 12,
     "metadata": {},
     "output_type": "execute_result"
    }
   ],
   "source": [
    "array_a[:,-1]"
   ]
  },
  {
   "cell_type": "markdown",
   "id": "ad87e393",
   "metadata": {},
   "source": [
    "## Assigning values in NumPy"
   ]
  },
  {
   "cell_type": "code",
   "execution_count": 13,
   "id": "67a93019",
   "metadata": {},
   "outputs": [
    {
     "data": {
      "text/plain": [
       "array([[1, 2, 3],\n",
       "       [4, 5, 6]])"
      ]
     },
     "execution_count": 13,
     "metadata": {},
     "output_type": "execute_result"
    }
   ],
   "source": [
    "array_a = np.array([[1,2,3],[4,5,6]])\n",
    "array_a"
   ]
  },
  {
   "cell_type": "code",
   "execution_count": 14,
   "id": "e2e0d93b",
   "metadata": {},
   "outputs": [
    {
     "data": {
      "text/plain": [
       "array([[1, 2, 9],\n",
       "       [4, 5, 6]])"
      ]
     },
     "execution_count": 14,
     "metadata": {},
     "output_type": "execute_result"
    }
   ],
   "source": [
    "array_a[0,2] = 9\n",
    "array_a"
   ]
  },
  {
   "cell_type": "code",
   "execution_count": 15,
   "id": "532edbf4",
   "metadata": {},
   "outputs": [
    {
     "data": {
      "text/plain": [
       "array([[9, 9, 9],\n",
       "       [4, 5, 6]])"
      ]
     },
     "execution_count": 15,
     "metadata": {},
     "output_type": "execute_result"
    }
   ],
   "source": [
    "array_a[0] = 9\n",
    "array_a"
   ]
  },
  {
   "cell_type": "code",
   "execution_count": 16,
   "id": "132af6b8",
   "metadata": {},
   "outputs": [
    {
     "data": {
      "text/plain": [
       "array([[9, 9, 9],\n",
       "       [9, 5, 6]])"
      ]
     },
     "execution_count": 16,
     "metadata": {},
     "output_type": "execute_result"
    }
   ],
   "source": [
    "array_a[:,0] = 9\n",
    "array_a"
   ]
  },
  {
   "cell_type": "code",
   "execution_count": 17,
   "id": "9bc46b2f",
   "metadata": {},
   "outputs": [
    {
     "data": {
      "text/plain": [
       "array([[8, 7, 6],\n",
       "       [9, 5, 6]])"
      ]
     },
     "execution_count": 17,
     "metadata": {},
     "output_type": "execute_result"
    }
   ],
   "source": [
    "list_a = [8,7,6]\n",
    "array_a[0] = list_a\n",
    "array_a"
   ]
  },
  {
   "cell_type": "code",
   "execution_count": 18,
   "id": "520b2ea1",
   "metadata": {},
   "outputs": [
    {
     "data": {
      "text/plain": [
       "numpy.ndarray"
      ]
     },
     "execution_count": 18,
     "metadata": {},
     "output_type": "execute_result"
    }
   ],
   "source": [
    "type(array_a[0])"
   ]
  },
  {
   "cell_type": "code",
   "execution_count": 19,
   "id": "ca010a51",
   "metadata": {},
   "outputs": [
    {
     "data": {
      "text/plain": [
       "array([[9, 9, 9],\n",
       "       [9, 9, 9]])"
      ]
     },
     "execution_count": 19,
     "metadata": {},
     "output_type": "execute_result"
    }
   ],
   "source": [
    "# Change all the values using single value   , NOTE : [:] is required to change all elements\n",
    "array_a[:] = 9\n",
    "array_a"
   ]
  },
  {
   "cell_type": "markdown",
   "id": "6c456ade",
   "metadata": {},
   "source": [
    "## Elementwise Properties of Arrays"
   ]
  },
  {
   "cell_type": "code",
   "execution_count": 20,
   "id": "3d413351",
   "metadata": {},
   "outputs": [
    {
     "data": {
      "text/plain": [
       "array([7, 8, 9])"
      ]
     },
     "execution_count": 20,
     "metadata": {},
     "output_type": "execute_result"
    }
   ],
   "source": [
    "array_a = np.array([7,8,9])\n",
    "array_a"
   ]
  },
  {
   "cell_type": "code",
   "execution_count": 21,
   "id": "d600cd8a",
   "metadata": {},
   "outputs": [
    {
     "data": {
      "text/plain": [
       "array([[1, 2, 3],\n",
       "       [4, 5, 6]])"
      ]
     },
     "execution_count": 21,
     "metadata": {},
     "output_type": "execute_result"
    }
   ],
   "source": [
    "array_b = np.array([[1,2,3],[4,5,6]])\n",
    "array_b"
   ]
  },
  {
   "cell_type": "code",
   "execution_count": 22,
   "id": "33979b7c",
   "metadata": {},
   "outputs": [
    {
     "data": {
      "text/plain": [
       "array([ 9, 10, 11])"
      ]
     },
     "execution_count": 22,
     "metadata": {},
     "output_type": "execute_result"
    }
   ],
   "source": [
    "array_a + 2"
   ]
  },
  {
   "cell_type": "code",
   "execution_count": 23,
   "id": "298724ee",
   "metadata": {},
   "outputs": [
    {
     "data": {
      "text/plain": [
       "array([[3, 4, 5],\n",
       "       [6, 7, 8]])"
      ]
     },
     "execution_count": 23,
     "metadata": {},
     "output_type": "execute_result"
    }
   ],
   "source": [
    "array_b + 2"
   ]
  },
  {
   "cell_type": "code",
   "execution_count": 24,
   "id": "5323df5c",
   "metadata": {},
   "outputs": [],
   "source": [
    "# Lists Vs Arrays \n",
    "# Lists - The main purpose for lists is to store the data\n",
    "# Array - The main purpose of arrays is to compute mathematical operations"
   ]
  },
  {
   "cell_type": "code",
   "execution_count": 25,
   "id": "9539760c",
   "metadata": {},
   "outputs": [
    {
     "data": {
      "text/plain": [
       "array([ 8, 10, 12])"
      ]
     },
     "execution_count": 25,
     "metadata": {},
     "output_type": "execute_result"
    }
   ],
   "source": [
    "array_a + array_b[0]"
   ]
  },
  {
   "cell_type": "code",
   "execution_count": 26,
   "id": "7d19036b",
   "metadata": {},
   "outputs": [
    {
     "data": {
      "text/plain": [
       "10"
      ]
     },
     "execution_count": 26,
     "metadata": {},
     "output_type": "execute_result"
    }
   ],
   "source": [
    "# Elementwise addition\n",
    "array_a[1] + array_b[0,1]"
   ]
  },
  {
   "cell_type": "code",
   "execution_count": 27,
   "id": "5b4896b5",
   "metadata": {},
   "outputs": [],
   "source": [
    "# Conditions : length of the 1-D array must match the \"length\" of the 2-D array to compute Mathematical operations"
   ]
  },
  {
   "cell_type": "code",
   "execution_count": 28,
   "id": "55b6db2b",
   "metadata": {},
   "outputs": [
    {
     "data": {
      "text/plain": [
       "array([[ 7, 16, 27],\n",
       "       [28, 40, 54]])"
      ]
     },
     "execution_count": 28,
     "metadata": {},
     "output_type": "execute_result"
    }
   ],
   "source": [
    "array_a * array_b"
   ]
  },
  {
   "cell_type": "markdown",
   "id": "5a6edc2e",
   "metadata": {},
   "source": [
    "## Data Types supported in NumPy`"
   ]
  },
  {
   "cell_type": "code",
   "execution_count": 29,
   "id": "731636da",
   "metadata": {},
   "outputs": [
    {
     "data": {
      "text/plain": [
       "array([[1., 2., 3.],\n",
       "       [4., 5., 6.]], dtype=float32)"
      ]
     },
     "execution_count": 29,
     "metadata": {},
     "output_type": "execute_result"
    }
   ],
   "source": [
    "array_a = np.array([[1,2,3],[4,5,6]], dtype = \"float32\")\n",
    "array_a"
   ]
  },
  {
   "cell_type": "code",
   "execution_count": 30,
   "id": "48f1ae30",
   "metadata": {},
   "outputs": [],
   "source": [
    "# np.data_type = \"data_type\"  ex. dtype = \"float32\" OR dtype = np.float32"
   ]
  },
  {
   "cell_type": "code",
   "execution_count": 31,
   "id": "62d03b01",
   "metadata": {},
   "outputs": [
    {
     "data": {
      "text/plain": [
       "array([[1.+0.j, 2.+0.j, 3.+0.j],\n",
       "       [4.+0.j, 5.+0.j, 6.+0.j]], dtype=complex64)"
      ]
     },
     "execution_count": 31,
     "metadata": {},
     "output_type": "execute_result"
    }
   ],
   "source": [
    "array_a = np.array([[1,2,3],[4,5,6]], dtype = \"complex64\")\n",
    "array_a"
   ]
  },
  {
   "cell_type": "code",
   "execution_count": 32,
   "id": "ac2a7854",
   "metadata": {},
   "outputs": [
    {
     "data": {
      "text/plain": [
       "array([[ True,  True, False],\n",
       "       [ True,  True,  True]])"
      ]
     },
     "execution_count": 32,
     "metadata": {},
     "output_type": "execute_result"
    }
   ],
   "source": [
    "#BOOLEAN\n",
    "array_a = np.array([[1,2,0],[4,5,6]], dtype = \"bool\")\n",
    "array_a"
   ]
  },
  {
   "cell_type": "code",
   "execution_count": 33,
   "id": "cee2539c",
   "metadata": {},
   "outputs": [
    {
     "data": {
      "text/plain": [
       "array([['1', '2', '3'],\n",
       "       ['4', '5', '6']], dtype='<U1')"
      ]
     },
     "execution_count": 33,
     "metadata": {},
     "output_type": "execute_result"
    }
   ],
   "source": [
    "array_a = np.array([[1,2,3],[4,5,6]], dtype = \"str\")\n",
    "array_a"
   ]
  },
  {
   "cell_type": "markdown",
   "id": "85c69a7e",
   "metadata": {},
   "source": [
    "## Characteristics of NumPy Functions"
   ]
  },
  {
   "cell_type": "code",
   "execution_count": 34,
   "id": "30efb231",
   "metadata": {},
   "outputs": [],
   "source": [
    "#Universal Functions : \n",
    "# Work with NDarrays on an element by element bases\n",
    "# An extension of the elementwise operation\n",
    "# mathematical operations, trignometric functions, comparison functions\n",
    "# Ex. Broadcasting , Typecasting, computing over a given axis"
   ]
  },
  {
   "cell_type": "code",
   "execution_count": 35,
   "id": "5fafe877",
   "metadata": {},
   "outputs": [
    {
     "data": {
      "text/plain": [
       "array([1, 2, 3])"
      ]
     },
     "execution_count": 35,
     "metadata": {},
     "output_type": "execute_result"
    }
   ],
   "source": [
    "array_a = np.array([1,2,3])\n",
    "array_a"
   ]
  },
  {
   "cell_type": "code",
   "execution_count": 36,
   "id": "ac3bd252",
   "metadata": {},
   "outputs": [
    {
     "data": {
      "text/plain": [
       "array([[1],\n",
       "       [2]])"
      ]
     },
     "execution_count": 36,
     "metadata": {},
     "output_type": "execute_result"
    }
   ],
   "source": [
    "array_b = np.array([[1],[2]])\n",
    "array_b"
   ]
  },
  {
   "cell_type": "code",
   "execution_count": 37,
   "id": "d82b4dd4",
   "metadata": {},
   "outputs": [
    {
     "data": {
      "text/plain": [
       "array([[1, 2, 3],\n",
       "       [4, 5, 6]])"
      ]
     },
     "execution_count": 37,
     "metadata": {},
     "output_type": "execute_result"
    }
   ],
   "source": [
    "matrix_C = np.array([[1,2,3],[4,5,6]])\n",
    "matrix_C"
   ]
  },
  {
   "cell_type": "code",
   "execution_count": 38,
   "id": "3d85cb67",
   "metadata": {},
   "outputs": [
    {
     "data": {
      "text/plain": [
       "array([[2, 3, 4],\n",
       "       [6, 7, 8]])"
      ]
     },
     "execution_count": 38,
     "metadata": {},
     "output_type": "execute_result"
    }
   ],
   "source": [
    "# Broadcasting\n",
    "np.add(array_b, matrix_C)\n",
    "\n",
    "## Adding up values, even though the arrays don't have matching shapes. \n",
    "# The function compiles if the sizes of the two variable are broadcastable"
   ]
  },
  {
   "cell_type": "code",
   "execution_count": 39,
   "id": "9c3aefa2",
   "metadata": {},
   "outputs": [],
   "source": [
    "# RULES of Boradcasting :\n",
    "# 1. The array have the same shape\n",
    "# 2. The array have same dimensions, and the length of each dimension either common or 1\n",
    "# 3. The arrays that have too few dimensions can have their shapes alloted with a dimension 1, to satisfy 2nd rule."
   ]
  },
  {
   "cell_type": "code",
   "execution_count": 40,
   "id": "14208324",
   "metadata": {},
   "outputs": [],
   "source": [
    "#Typecasting\n",
    "# Taking evey element of an array and changing it to a specified datatype.\n",
    "# Example : Changing the Whole number to decimal"
   ]
  },
  {
   "cell_type": "code",
   "execution_count": 41,
   "id": "1bcc7772",
   "metadata": {},
   "outputs": [
    {
     "data": {
      "text/plain": [
       "array([[2., 3., 4.],\n",
       "       [6., 7., 8.]])"
      ]
     },
     "execution_count": 41,
     "metadata": {},
     "output_type": "execute_result"
    }
   ],
   "source": [
    "np.add(array_b, matrix_C, dtype = np.float64)"
   ]
  },
  {
   "cell_type": "code",
   "execution_count": 42,
   "id": "5f889e70",
   "metadata": {},
   "outputs": [],
   "source": [
    "# Running over an Axis\n",
    "# Numpy breaks down NDarray into smaller arrays of (N-1) - Many Dimensions\n",
    "# Applies the function to each one\n",
    "# We can use this feature to run a function along each row and column"
   ]
  },
  {
   "cell_type": "code",
   "execution_count": 43,
   "id": "ced10185",
   "metadata": {},
   "outputs": [
    {
     "data": {
      "text/plain": [
       "array([2.5, 3.5, 4.5])"
      ]
     },
     "execution_count": 43,
     "metadata": {},
     "output_type": "execute_result"
    }
   ],
   "source": [
    "np.mean(matrix_C, axis = 0) # --> axis = 0 means the mean for each COLUMN of the array"
   ]
  },
  {
   "cell_type": "code",
   "execution_count": 44,
   "id": "9da322da",
   "metadata": {},
   "outputs": [
    {
     "data": {
      "text/plain": [
       "array([[1, 2, 3],\n",
       "       [4, 5, 6]])"
      ]
     },
     "execution_count": 44,
     "metadata": {},
     "output_type": "execute_result"
    }
   ],
   "source": [
    "matrix_C  # --> (1+4)/2 = 2.5 and so on"
   ]
  },
  {
   "cell_type": "code",
   "execution_count": 45,
   "id": "f2045d14",
   "metadata": {},
   "outputs": [
    {
     "data": {
      "text/plain": [
       "array([2., 5.])"
      ]
     },
     "execution_count": 45,
     "metadata": {},
     "output_type": "execute_result"
    }
   ],
   "source": [
    "np.mean(matrix_C, axis = 1) # --> axis = 1 means the mean for each ROW of the array"
   ]
  },
  {
   "cell_type": "code",
   "execution_count": 46,
   "id": "0df3892a",
   "metadata": {},
   "outputs": [
    {
     "data": {
      "text/plain": [
       "array([[1, 2, 3],\n",
       "       [4, 5, 6]])"
      ]
     },
     "execution_count": 46,
     "metadata": {},
     "output_type": "execute_result"
    }
   ],
   "source": [
    "matrix_C  # --> (1+2+3)/3 = 2.0 and so on"
   ]
  }
 ],
 "metadata": {
  "kernelspec": {
   "display_name": "Python 3 (ipykernel)",
   "language": "python",
   "name": "python3"
  },
  "language_info": {
   "codemirror_mode": {
    "name": "ipython",
    "version": 3
   },
   "file_extension": ".py",
   "mimetype": "text/x-python",
   "name": "python",
   "nbconvert_exporter": "python",
   "pygments_lexer": "ipython3",
   "version": "3.9.13"
  }
 },
 "nbformat": 4,
 "nbformat_minor": 5
}
