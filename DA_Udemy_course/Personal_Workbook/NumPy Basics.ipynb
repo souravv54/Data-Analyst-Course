{
 "cells": [
  {
   "cell_type": "markdown",
   "id": "b5450ba6",
   "metadata": {},
   "source": [
    "## An Introduction"
   ]
  },
  {
   "cell_type": "code",
   "execution_count": 1,
   "id": "6b9aa9a2",
   "metadata": {},
   "outputs": [],
   "source": [
    "#NumPy also known as Numeric Python\n",
    "#Created to takle computational problems"
   ]
  },
  {
   "cell_type": "code",
   "execution_count": 2,
   "id": "0314623e",
   "metadata": {},
   "outputs": [],
   "source": [
    "#Numpy is a package in python\n",
    "#A collection of pre-written funtions,classes and methods\n",
    "#which are capable of handling and maupulatiing data and calculating results."
   ]
  },
  {
   "cell_type": "code",
   "execution_count": 3,
   "id": "3c691c60",
   "metadata": {},
   "outputs": [],
   "source": [
    "#Main Feature - Arrays which helps in storing elements and refer to their values\n",
    "#Incredibily computationally stable and efficient\n",
    "#Works in low language as well"
   ]
  },
  {
   "cell_type": "code",
   "execution_count": 4,
   "id": "70178576",
   "metadata": {},
   "outputs": [],
   "source": [
    "#When?\n",
    "# compute a lot of values for analysis\n",
    "# deal with vectors and matrices\n",
    "# Import and pre-process data into python directly\n",
    "# Generate random tests"
   ]
  },
  {
   "cell_type": "code",
   "execution_count": 5,
   "id": "3dd0ca87",
   "metadata": {},
   "outputs": [],
   "source": [
    "#How?\n",
    "#N-D array class = Python list\n",
    "#Functions: np.function_name(ndarray)\n",
    "#Method: ndarray.method_name()"
   ]
  },
  {
   "cell_type": "markdown",
   "id": "cb940537",
   "metadata": {},
   "source": [
    "## Install/update NumPy"
   ]
  },
  {
   "cell_type": "code",
   "execution_count": 13,
   "id": "c7d80ef8",
   "metadata": {},
   "outputs": [],
   "source": [
    "#pip install numpy -- in anaconda cmd\n",
    "#for update:\n",
    "#pip install numpy --upgrade\n",
    "import numpy as np"
   ]
  },
  {
   "cell_type": "markdown",
   "id": "4690b3c1",
   "metadata": {},
   "source": [
    "## Ndarray"
   ]
  },
  {
   "cell_type": "code",
   "execution_count": 10,
   "id": "e0b7e49a",
   "metadata": {},
   "outputs": [],
   "source": [
    "#N-D array means N-Dimensional Array\n"
   ]
  },
  {
   "cell_type": "code",
   "execution_count": 14,
   "id": "8517da49",
   "metadata": {},
   "outputs": [],
   "source": [
    "array_a = np.array([1,2,3])"
   ]
  },
  {
   "cell_type": "code",
   "execution_count": 16,
   "id": "2466649c",
   "metadata": {},
   "outputs": [
    {
     "data": {
      "text/plain": [
       "array([1, 2, 3])"
      ]
     },
     "execution_count": 16,
     "metadata": {},
     "output_type": "execute_result"
    }
   ],
   "source": [
    "array_a"
   ]
  },
  {
   "cell_type": "code",
   "execution_count": 18,
   "id": "1ffd4eff",
   "metadata": {},
   "outputs": [
    {
     "data": {
      "text/plain": [
       "2.0"
      ]
     },
     "execution_count": 18,
     "metadata": {},
     "output_type": "execute_result"
    }
   ],
   "source": [
    "np.mean(array_a, axis = 0)"
   ]
  },
  {
   "cell_type": "code",
   "execution_count": null,
   "id": "69f9993d",
   "metadata": {},
   "outputs": [],
   "source": []
  }
 ],
 "metadata": {
  "kernelspec": {
   "display_name": "Python 3 (ipykernel)",
   "language": "python",
   "name": "python3"
  },
  "language_info": {
   "codemirror_mode": {
    "name": "ipython",
    "version": 3
   },
   "file_extension": ".py",
   "mimetype": "text/x-python",
   "name": "python",
   "nbconvert_exporter": "python",
   "pygments_lexer": "ipython3",
   "version": "3.9.13"
  }
 },
 "nbformat": 4,
 "nbformat_minor": 5
}
