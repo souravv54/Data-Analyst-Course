{
 "cells": [
  {
   "cell_type": "markdown",
   "id": "90355b3c",
   "metadata": {},
   "source": [
    "# PYTHON BASICS - 2"
   ]
  },
  {
   "cell_type": "code",
   "execution_count": 1,
   "id": "bf691cbc",
   "metadata": {},
   "outputs": [],
   "source": [
    "#Defining a Function in Python"
   ]
  },
  {
   "cell_type": "code",
   "execution_count": 2,
   "id": "dd668f32",
   "metadata": {},
   "outputs": [],
   "source": [
    "# Def is a keyword to define a function\n",
    "def simple():\n",
    "    print(\"This is my first function\")"
   ]
  },
  {
   "cell_type": "code",
   "execution_count": 3,
   "id": "2fb50768",
   "metadata": {},
   "outputs": [
    {
     "name": "stdout",
     "output_type": "stream",
     "text": [
      "This is my first function\n"
     ]
    }
   ],
   "source": [
    "simple()"
   ]
  },
  {
   "cell_type": "code",
   "execution_count": 4,
   "id": "9afdb6db",
   "metadata": {},
   "outputs": [],
   "source": [
    "# Create a function using parameter"
   ]
  },
  {
   "cell_type": "code",
   "execution_count": 5,
   "id": "61c5840c",
   "metadata": {},
   "outputs": [],
   "source": [
    "def plus_ten(a):\n",
    "    return a + 10"
   ]
  },
  {
   "cell_type": "code",
   "execution_count": 6,
   "id": "d045de9f",
   "metadata": {},
   "outputs": [
    {
     "data": {
      "text/plain": [
       "15"
      ]
     },
     "execution_count": 6,
     "metadata": {},
     "output_type": "execute_result"
    }
   ],
   "source": [
    "plus_ten(5)"
   ]
  },
  {
   "cell_type": "code",
   "execution_count": 7,
   "id": "73c81d3e",
   "metadata": {},
   "outputs": [],
   "source": [
    "# def Fucntion_name (parameters):\n",
    "# but call\n",
    "# plus_ten (arguements) <-- to call a function"
   ]
  },
  {
   "cell_type": "code",
   "execution_count": 8,
   "id": "72582b3a",
   "metadata": {},
   "outputs": [],
   "source": [
    "# Functions - Another way to define a function"
   ]
  },
  {
   "cell_type": "code",
   "execution_count": 9,
   "id": "042ad573",
   "metadata": {},
   "outputs": [],
   "source": [
    "def plus_ten(a):\n",
    "    result = a + 10\n",
    "    return result"
   ]
  },
  {
   "cell_type": "code",
   "execution_count": 10,
   "id": "2e025b08",
   "metadata": {},
   "outputs": [
    {
     "data": {
      "text/plain": [
       "12"
      ]
     },
     "execution_count": 10,
     "metadata": {},
     "output_type": "execute_result"
    }
   ],
   "source": [
    "plus_ten(2)"
   ]
  },
  {
   "cell_type": "code",
   "execution_count": 11,
   "id": "439d7137",
   "metadata": {},
   "outputs": [],
   "source": [
    "def plus_ten(a):\n",
    "    result = a + 10\n",
    "    return \"Outcome\"\n",
    "    return result"
   ]
  },
  {
   "cell_type": "code",
   "execution_count": 12,
   "id": "1cd7fb9b",
   "metadata": {},
   "outputs": [
    {
     "data": {
      "text/plain": [
       "'Outcome'"
      ]
     },
     "execution_count": 12,
     "metadata": {},
     "output_type": "execute_result"
    }
   ],
   "source": [
    "plus_ten(2)"
   ]
  },
  {
   "cell_type": "code",
   "execution_count": 13,
   "id": "8b3ed5b8",
   "metadata": {},
   "outputs": [],
   "source": [
    "def plus_ten(a):\n",
    "    result = a + 10\n",
    "    print( \"Outcome\")\n",
    "    return result"
   ]
  },
  {
   "cell_type": "code",
   "execution_count": 14,
   "id": "a23a1a08",
   "metadata": {},
   "outputs": [
    {
     "name": "stdout",
     "output_type": "stream",
     "text": [
      "Outcome\n"
     ]
    },
    {
     "data": {
      "text/plain": [
       "12"
      ]
     },
     "execution_count": 14,
     "metadata": {},
     "output_type": "execute_result"
    }
   ],
   "source": [
    "plus_ten(2)"
   ]
  },
  {
   "cell_type": "code",
   "execution_count": 15,
   "id": "a3c50f3f",
   "metadata": {},
   "outputs": [],
   "source": [
    "# Using a funtion in  another function"
   ]
  },
  {
   "cell_type": "code",
   "execution_count": 16,
   "id": "a1e1e2e1",
   "metadata": {},
   "outputs": [],
   "source": [
    "def wage(w_hours):\n",
    "    return w_hours * 25\n",
    "\n",
    "def with_bonus(w_hours):\n",
    "    return wage(w_hours)+ 50"
   ]
  },
  {
   "cell_type": "code",
   "execution_count": 17,
   "id": "e2ea6433",
   "metadata": {},
   "outputs": [
    {
     "data": {
      "text/plain": [
       "(200, 250)"
      ]
     },
     "execution_count": 17,
     "metadata": {},
     "output_type": "execute_result"
    }
   ],
   "source": [
    "wage(8), with_bonus(8)"
   ]
  },
  {
   "cell_type": "code",
   "execution_count": 18,
   "id": "a7360fc6",
   "metadata": {},
   "outputs": [
    {
     "data": {
      "text/plain": [
       "550"
      ]
     },
     "execution_count": 18,
     "metadata": {},
     "output_type": "execute_result"
    }
   ],
   "source": [
    "with_bonus(20)"
   ]
  },
  {
   "cell_type": "code",
   "execution_count": 19,
   "id": "b5ca395b",
   "metadata": {},
   "outputs": [],
   "source": [
    "# Combine conditional statements and functions"
   ]
  },
  {
   "cell_type": "code",
   "execution_count": 20,
   "id": "1107201e",
   "metadata": {},
   "outputs": [],
   "source": [
    "def add_10(m):\n",
    "    if m >=100:\n",
    "        m = m + 10\n",
    "        return m\n",
    "    else:\n",
    "        print (\"Save More\")"
   ]
  },
  {
   "cell_type": "code",
   "execution_count": 21,
   "id": "ca4d041f",
   "metadata": {},
   "outputs": [
    {
     "name": "stdout",
     "output_type": "stream",
     "text": [
      "Save More\n"
     ]
    }
   ],
   "source": [
    "add_10(50)"
   ]
  },
  {
   "cell_type": "code",
   "execution_count": 22,
   "id": "f1ce00cb",
   "metadata": {},
   "outputs": [
    {
     "data": {
      "text/plain": [
       "112"
      ]
     },
     "execution_count": 22,
     "metadata": {},
     "output_type": "execute_result"
    }
   ],
   "source": [
    "add_10(102)"
   ]
  },
  {
   "cell_type": "code",
   "execution_count": 23,
   "id": "b398f45e",
   "metadata": {},
   "outputs": [],
   "source": [
    "# Functions - Creating functions containing few arguements"
   ]
  },
  {
   "cell_type": "code",
   "execution_count": 24,
   "id": "2875f7c8",
   "metadata": {},
   "outputs": [],
   "source": [
    "def sub_bc(a,b,c):\n",
    "    result = a -b *c\n",
    "    print ('Parameter a is equals', a)\n",
    "    print ('Parameter b is equals', b)\n",
    "    print ('Parameter c is equals', c)\n",
    "    return result"
   ]
  },
  {
   "cell_type": "code",
   "execution_count": 25,
   "id": "8a8deb14",
   "metadata": {},
   "outputs": [
    {
     "name": "stdout",
     "output_type": "stream",
     "text": [
      "Parameter a is equals 1\n",
      "Parameter b is equals 2\n",
      "Parameter c is equals 3\n"
     ]
    },
    {
     "data": {
      "text/plain": [
       "-5"
      ]
     },
     "execution_count": 25,
     "metadata": {},
     "output_type": "execute_result"
    }
   ],
   "source": [
    "sub_bc (1,2,3)"
   ]
  },
  {
   "cell_type": "code",
   "execution_count": 26,
   "id": "dac7c87f",
   "metadata": {},
   "outputs": [
    {
     "name": "stdout",
     "output_type": "stream",
     "text": [
      "Parameter a is equals 10\n",
      "Parameter b is equals 3\n",
      "Parameter c is equals 2\n"
     ]
    },
    {
     "data": {
      "text/plain": [
       "4"
      ]
     },
     "execution_count": 26,
     "metadata": {},
     "output_type": "execute_result"
    }
   ],
   "source": [
    "sub_bc(10,3,2)"
   ]
  },
  {
   "cell_type": "code",
   "execution_count": 27,
   "id": "4db0a71d",
   "metadata": {},
   "outputs": [],
   "source": [
    "# Notable Built in Functions in python\n",
    "\n",
    "# Built in function can be applied directly\n",
    "# ex : type()obtains the type of variable you use as a arguement\n"
   ]
  },
  {
   "cell_type": "code",
   "execution_count": 28,
   "id": "27dce120",
   "metadata": {},
   "outputs": [
    {
     "data": {
      "text/plain": [
       "int"
      ]
     },
     "execution_count": 28,
     "metadata": {},
     "output_type": "execute_result"
    }
   ],
   "source": [
    "type(10)"
   ]
  },
  {
   "cell_type": "code",
   "execution_count": 29,
   "id": "c19434f7",
   "metadata": {},
   "outputs": [
    {
     "data": {
      "text/plain": [
       "5"
      ]
     },
     "execution_count": 29,
     "metadata": {},
     "output_type": "execute_result"
    }
   ],
   "source": [
    "int(5.0)"
   ]
  },
  {
   "cell_type": "code",
   "execution_count": 30,
   "id": "c53a4162",
   "metadata": {},
   "outputs": [
    {
     "data": {
      "text/plain": [
       "'500'"
      ]
     },
     "execution_count": 30,
     "metadata": {},
     "output_type": "execute_result"
    }
   ],
   "source": [
    "str(500)"
   ]
  },
  {
   "cell_type": "code",
   "execution_count": 31,
   "id": "b5ab3e36",
   "metadata": {},
   "outputs": [
    {
     "data": {
      "text/plain": [
       "3.0"
      ]
     },
     "execution_count": 31,
     "metadata": {},
     "output_type": "execute_result"
    }
   ],
   "source": [
    "float(3)"
   ]
  },
  {
   "cell_type": "code",
   "execution_count": 32,
   "id": "7a9332a5",
   "metadata": {},
   "outputs": [
    {
     "data": {
      "text/plain": [
       "30"
      ]
     },
     "execution_count": 32,
     "metadata": {},
     "output_type": "execute_result"
    }
   ],
   "source": [
    "max(10,20,30)"
   ]
  },
  {
   "cell_type": "code",
   "execution_count": 33,
   "id": "f9c99b89",
   "metadata": {},
   "outputs": [
    {
     "data": {
      "text/plain": [
       "2"
      ]
     },
     "execution_count": 33,
     "metadata": {},
     "output_type": "execute_result"
    }
   ],
   "source": [
    "min(2,5,10)"
   ]
  },
  {
   "cell_type": "code",
   "execution_count": 34,
   "id": "fbaf20cb",
   "metadata": {},
   "outputs": [],
   "source": [
    "z = -20"
   ]
  },
  {
   "cell_type": "code",
   "execution_count": 35,
   "id": "c3169c96",
   "metadata": {},
   "outputs": [
    {
     "data": {
      "text/plain": [
       "20"
      ]
     },
     "execution_count": 35,
     "metadata": {},
     "output_type": "execute_result"
    }
   ],
   "source": [
    "abs(z)"
   ]
  },
  {
   "cell_type": "code",
   "execution_count": 36,
   "id": "14d6b3ae",
   "metadata": {},
   "outputs": [],
   "source": [
    "list_1 = [1,2,3,4,5]"
   ]
  },
  {
   "cell_type": "code",
   "execution_count": 37,
   "id": "fe3b80a2",
   "metadata": {},
   "outputs": [
    {
     "data": {
      "text/plain": [
       "15"
      ]
     },
     "execution_count": 37,
     "metadata": {},
     "output_type": "execute_result"
    }
   ],
   "source": [
    "sum (list_1)"
   ]
  },
  {
   "cell_type": "code",
   "execution_count": 38,
   "id": "3d2d063a",
   "metadata": {},
   "outputs": [
    {
     "data": {
      "text/plain": [
       "3.56"
      ]
     },
     "execution_count": 38,
     "metadata": {},
     "output_type": "execute_result"
    }
   ],
   "source": [
    "round(3.555,2)"
   ]
  },
  {
   "cell_type": "code",
   "execution_count": 39,
   "id": "7eee27d6",
   "metadata": {},
   "outputs": [
    {
     "data": {
      "text/plain": [
       "4"
      ]
     },
     "execution_count": 39,
     "metadata": {},
     "output_type": "execute_result"
    }
   ],
   "source": [
    "round(3.5567)"
   ]
  },
  {
   "cell_type": "code",
   "execution_count": 40,
   "id": "e25d5856",
   "metadata": {},
   "outputs": [
    {
     "data": {
      "text/plain": [
       "16"
      ]
     },
     "execution_count": 40,
     "metadata": {},
     "output_type": "execute_result"
    }
   ],
   "source": [
    "pow(2,4)"
   ]
  },
  {
   "cell_type": "code",
   "execution_count": 41,
   "id": "51156081",
   "metadata": {},
   "outputs": [
    {
     "data": {
      "text/plain": [
       "11"
      ]
     },
     "execution_count": 41,
     "metadata": {},
     "output_type": "execute_result"
    }
   ],
   "source": [
    "len('Mathematics')"
   ]
  },
  {
   "cell_type": "code",
   "execution_count": 42,
   "id": "8f4e3ead",
   "metadata": {},
   "outputs": [],
   "source": [
    "# Sequences - Lists\n",
    "# List is a type of sequence of data points"
   ]
  },
  {
   "cell_type": "code",
   "execution_count": 43,
   "id": "d5092ab3",
   "metadata": {},
   "outputs": [],
   "source": [
    "Participants = ['John','leila','Georgory','cate']"
   ]
  },
  {
   "cell_type": "code",
   "execution_count": 44,
   "id": "a5b66e34",
   "metadata": {},
   "outputs": [
    {
     "data": {
      "text/plain": [
       "['John', 'leila', 'Georgory', 'cate']"
      ]
     },
     "execution_count": 44,
     "metadata": {},
     "output_type": "execute_result"
    }
   ],
   "source": [
    "Participants"
   ]
  },
  {
   "cell_type": "code",
   "execution_count": 45,
   "id": "2310d383",
   "metadata": {},
   "outputs": [
    {
     "name": "stdout",
     "output_type": "stream",
     "text": [
      "leila\n"
     ]
    }
   ],
   "source": [
    "print (Participants[1])"
   ]
  },
  {
   "cell_type": "code",
   "execution_count": 46,
   "id": "d0e2cd09",
   "metadata": {},
   "outputs": [
    {
     "data": {
      "text/plain": [
       "'cate'"
      ]
     },
     "execution_count": 46,
     "metadata": {},
     "output_type": "execute_result"
    }
   ],
   "source": [
    "Participants[-1]"
   ]
  },
  {
   "cell_type": "code",
   "execution_count": 47,
   "id": "cfcf0dea",
   "metadata": {},
   "outputs": [
    {
     "data": {
      "text/plain": [
       "'Georgory'"
      ]
     },
     "execution_count": 47,
     "metadata": {},
     "output_type": "execute_result"
    }
   ],
   "source": [
    "Participants[-2]"
   ]
  },
  {
   "cell_type": "code",
   "execution_count": 48,
   "id": "124a4ebf",
   "metadata": {},
   "outputs": [],
   "source": [
    "Participants[3] = \"Maria\""
   ]
  },
  {
   "cell_type": "code",
   "execution_count": 49,
   "id": "3b68f419",
   "metadata": {},
   "outputs": [
    {
     "data": {
      "text/plain": [
       "['John', 'leila', 'Georgory', 'Maria']"
      ]
     },
     "execution_count": 49,
     "metadata": {},
     "output_type": "execute_result"
    }
   ],
   "source": [
    "Participants\n"
   ]
  },
  {
   "cell_type": "code",
   "execution_count": 50,
   "id": "d83b39a1",
   "metadata": {},
   "outputs": [],
   "source": [
    "# Del keyword is use to delete an item from the list"
   ]
  },
  {
   "cell_type": "code",
   "execution_count": 51,
   "id": "9695d833",
   "metadata": {},
   "outputs": [],
   "source": [
    "del Participants[2]"
   ]
  },
  {
   "cell_type": "code",
   "execution_count": 52,
   "id": "3c430c35",
   "metadata": {},
   "outputs": [
    {
     "data": {
      "text/plain": [
       "['John', 'leila', 'Maria']"
      ]
     },
     "execution_count": 52,
     "metadata": {},
     "output_type": "execute_result"
    }
   ],
   "source": [
    "Participants"
   ]
  },
  {
   "cell_type": "code",
   "execution_count": 53,
   "id": "88b79632",
   "metadata": {},
   "outputs": [],
   "source": [
    "# Sequences - Using Methods"
   ]
  },
  {
   "cell_type": "code",
   "execution_count": 54,
   "id": "d76ec6a1",
   "metadata": {},
   "outputs": [
    {
     "data": {
      "text/plain": [
       "['John', 'leila', 'Maria', 'Dwayne']"
      ]
     },
     "execution_count": 54,
     "metadata": {},
     "output_type": "execute_result"
    }
   ],
   "source": [
    "# The .append() method <-- use to add in list\n",
    "\n",
    "Participants.append(\"Dwayne\")\n",
    "Participants"
   ]
  },
  {
   "cell_type": "code",
   "execution_count": 55,
   "id": "98a0dd85",
   "metadata": {},
   "outputs": [
    {
     "data": {
      "text/plain": [
       "['John', 'leila', 'Maria', 'Dwayne', 'George', 'Catherine']"
      ]
     },
     "execution_count": 55,
     "metadata": {},
     "output_type": "execute_result"
    }
   ],
   "source": [
    "# The .extend() method \n",
    "\n",
    "Participants.extend(['George','Catherine'])\n",
    "Participants"
   ]
  },
  {
   "cell_type": "code",
   "execution_count": 56,
   "id": "e72a5e10",
   "metadata": {},
   "outputs": [
    {
     "name": "stdout",
     "output_type": "stream",
     "text": [
      "The first participant is John.\n"
     ]
    }
   ],
   "source": [
    "print ('The first participant is ' + Participants[0] + '.')"
   ]
  },
  {
   "cell_type": "code",
   "execution_count": 57,
   "id": "2311435c",
   "metadata": {},
   "outputs": [
    {
     "data": {
      "text/plain": [
       "6"
      ]
     },
     "execution_count": 57,
     "metadata": {},
     "output_type": "execute_result"
    }
   ],
   "source": [
    "len(Participants)"
   ]
  },
  {
   "cell_type": "code",
   "execution_count": 58,
   "id": "d85ceaae",
   "metadata": {},
   "outputs": [],
   "source": [
    "#List Slicing\n",
    "# Object_name[start : end +1]\n",
    "# Default index value is 0"
   ]
  },
  {
   "cell_type": "code",
   "execution_count": 59,
   "id": "2ba7d00f",
   "metadata": {},
   "outputs": [
    {
     "data": {
      "text/plain": [
       "['John', 'leila', 'Maria', 'Dwayne', 'George', 'Catherine']"
      ]
     },
     "execution_count": 59,
     "metadata": {},
     "output_type": "execute_result"
    }
   ],
   "source": [
    "Participants"
   ]
  },
  {
   "cell_type": "code",
   "execution_count": 60,
   "id": "ef537ad3",
   "metadata": {},
   "outputs": [
    {
     "data": {
      "text/plain": [
       "['leila', 'Maria']"
      ]
     },
     "execution_count": 60,
     "metadata": {},
     "output_type": "execute_result"
    }
   ],
   "source": [
    "Participants[1:3]"
   ]
  },
  {
   "cell_type": "code",
   "execution_count": 61,
   "id": "6123915a",
   "metadata": {},
   "outputs": [
    {
     "data": {
      "text/plain": [
       "['John', 'leila']"
      ]
     },
     "execution_count": 61,
     "metadata": {},
     "output_type": "execute_result"
    }
   ],
   "source": [
    "Participants[:2]"
   ]
  },
  {
   "cell_type": "code",
   "execution_count": 62,
   "id": "f47abbd1",
   "metadata": {},
   "outputs": [
    {
     "data": {
      "text/plain": [
       "['George', 'Catherine']"
      ]
     },
     "execution_count": 62,
     "metadata": {},
     "output_type": "execute_result"
    }
   ],
   "source": [
    "Participants[4:]\n"
   ]
  },
  {
   "cell_type": "code",
   "execution_count": 63,
   "id": "6769b03a",
   "metadata": {},
   "outputs": [
    {
     "data": {
      "text/plain": [
       "2"
      ]
     },
     "execution_count": 63,
     "metadata": {},
     "output_type": "execute_result"
    }
   ],
   "source": [
    "Participants.index(\"Maria\") # To know about the index"
   ]
  },
  {
   "cell_type": "code",
   "execution_count": 64,
   "id": "c9a24284",
   "metadata": {},
   "outputs": [],
   "source": [
    "New = ['Johsua','Andy']"
   ]
  },
  {
   "cell_type": "code",
   "execution_count": 65,
   "id": "5e75798c",
   "metadata": {},
   "outputs": [],
   "source": [
    "Bigger_list = [Participants,New]"
   ]
  },
  {
   "cell_type": "code",
   "execution_count": 66,
   "id": "12bce872",
   "metadata": {},
   "outputs": [
    {
     "data": {
      "text/plain": [
       "[['John', 'leila', 'Maria', 'Dwayne', 'George', 'Catherine'],\n",
       " ['Johsua', 'Andy']]"
      ]
     },
     "execution_count": 66,
     "metadata": {},
     "output_type": "execute_result"
    }
   ],
   "source": [
    "Bigger_list"
   ]
  },
  {
   "cell_type": "code",
   "execution_count": 67,
   "id": "96a27fc0",
   "metadata": {},
   "outputs": [
    {
     "name": "stdout",
     "output_type": "stream",
     "text": [
      "[['John', 'leila', 'Maria', 'Dwayne', 'George', 'Catherine'], ['Johsua', 'Andy']]\n"
     ]
    }
   ],
   "source": [
    "print(Bigger_list)"
   ]
  },
  {
   "cell_type": "code",
   "execution_count": 68,
   "id": "6eba5624",
   "metadata": {},
   "outputs": [
    {
     "data": {
      "text/plain": [
       "['Catherine', 'Dwayne', 'George', 'John', 'Maria', 'leila']"
      ]
     },
     "execution_count": 68,
     "metadata": {},
     "output_type": "execute_result"
    }
   ],
   "source": [
    "Participants.sort()\n",
    "Participants"
   ]
  },
  {
   "cell_type": "code",
   "execution_count": 69,
   "id": "dd404586",
   "metadata": {},
   "outputs": [],
   "source": [
    "Participants.sort(reverse = True)"
   ]
  },
  {
   "cell_type": "code",
   "execution_count": 70,
   "id": "5d1d5d1c",
   "metadata": {},
   "outputs": [
    {
     "data": {
      "text/plain": [
       "['leila', 'Maria', 'John', 'George', 'Dwayne', 'Catherine']"
      ]
     },
     "execution_count": 70,
     "metadata": {},
     "output_type": "execute_result"
    }
   ],
   "source": [
    "Participants"
   ]
  },
  {
   "cell_type": "code",
   "execution_count": 71,
   "id": "0e63ebd4",
   "metadata": {},
   "outputs": [],
   "source": [
    "# Tuples\n",
    "# Tuples are a type of data sequences but they are IMMUTABLE(cannot be changes or modified)\n",
    "# Tuples elements are placed between the parentheses NOT the bracket like lists"
   ]
  },
  {
   "cell_type": "code",
   "execution_count": 72,
   "id": "d397026a",
   "metadata": {},
   "outputs": [
    {
     "data": {
      "text/plain": [
       "(40, 41, 42)"
      ]
     },
     "execution_count": 72,
     "metadata": {},
     "output_type": "execute_result"
    }
   ],
   "source": [
    "x = (40,41,42)\n",
    "x\n"
   ]
  },
  {
   "cell_type": "code",
   "execution_count": 73,
   "id": "b7de9916",
   "metadata": {},
   "outputs": [
    {
     "data": {
      "text/plain": [
       "(50, 51, 52)"
      ]
     },
     "execution_count": 73,
     "metadata": {},
     "output_type": "execute_result"
    }
   ],
   "source": [
    "y = (50,51,52)\n",
    "y"
   ]
  },
  {
   "cell_type": "code",
   "execution_count": 74,
   "id": "f27278c4",
   "metadata": {},
   "outputs": [
    {
     "data": {
      "text/plain": [
       "40"
      ]
     },
     "execution_count": 74,
     "metadata": {},
     "output_type": "execute_result"
    }
   ],
   "source": [
    "x[0]"
   ]
  },
  {
   "cell_type": "code",
   "execution_count": 75,
   "id": "9c11bc93",
   "metadata": {},
   "outputs": [],
   "source": [
    "list_1 = [x,y]"
   ]
  },
  {
   "cell_type": "code",
   "execution_count": 76,
   "id": "9842a502",
   "metadata": {},
   "outputs": [
    {
     "data": {
      "text/plain": [
       "[(40, 41, 42), (50, 51, 52)]"
      ]
     },
     "execution_count": 76,
     "metadata": {},
     "output_type": "execute_result"
    }
   ],
   "source": [
    "list_1"
   ]
  },
  {
   "cell_type": "code",
   "execution_count": 77,
   "id": "30f4d38e",
   "metadata": {},
   "outputs": [
    {
     "name": "stdout",
     "output_type": "stream",
     "text": [
      "Area and Parameter:\n"
     ]
    },
    {
     "data": {
      "text/plain": [
       "(9, 12)"
      ]
     },
     "execution_count": 77,
     "metadata": {},
     "output_type": "execute_result"
    }
   ],
   "source": [
    "# Functions can provide tuples as return values\n",
    "def squre_info(x):\n",
    "    A = x**2\n",
    "    P = 4*x\n",
    "    print (\"Area and Parameter:\")\n",
    "    return A,P\n",
    "\n",
    "squre_info(3)"
   ]
  },
  {
   "cell_type": "code",
   "execution_count": 78,
   "id": "3d03dfd1",
   "metadata": {},
   "outputs": [],
   "source": [
    "# Dictionaires\n",
    "# Dictionaries represent another way of storing data\n",
    "# Use technique key value pair\n",
    "# Use curly braces {}"
   ]
  },
  {
   "cell_type": "code",
   "execution_count": 79,
   "id": "7d521623",
   "metadata": {},
   "outputs": [
    {
     "data": {
      "text/plain": [
       "{'K1': 'cat', 'K2': 'dog', 'K3': 'mouse', 'K4': 'fish'}"
      ]
     },
     "execution_count": 79,
     "metadata": {},
     "output_type": "execute_result"
    }
   ],
   "source": [
    "dict = {'K1' : \"cat\", 'K2':\"dog\", 'K3' : \"mouse\", 'K4' : \"fish\"}\n",
    "dict"
   ]
  },
  {
   "cell_type": "code",
   "execution_count": 80,
   "id": "b562c524",
   "metadata": {},
   "outputs": [
    {
     "data": {
      "text/plain": [
       "'cat'"
      ]
     },
     "execution_count": 80,
     "metadata": {},
     "output_type": "execute_result"
    }
   ],
   "source": [
    "dict['K1']"
   ]
  },
  {
   "cell_type": "code",
   "execution_count": 81,
   "id": "2d199fea",
   "metadata": {},
   "outputs": [
    {
     "data": {
      "text/plain": [
       "'mouse'"
      ]
     },
     "execution_count": 81,
     "metadata": {},
     "output_type": "execute_result"
    }
   ],
   "source": [
    "dict['K3']"
   ]
  },
  {
   "cell_type": "code",
   "execution_count": 82,
   "id": "72037544",
   "metadata": {},
   "outputs": [
    {
     "data": {
      "text/plain": [
       "{'K1': 'cat', 'K2': 'dog', 'K3': 'mouse', 'K4': 'fish', 'K5': 'parrot'}"
      ]
     },
     "execution_count": 82,
     "metadata": {},
     "output_type": "execute_result"
    }
   ],
   "source": [
    "dict['K5'] = 'parrot'\n",
    "dict"
   ]
  },
  {
   "cell_type": "code",
   "execution_count": 83,
   "id": "f9b05349",
   "metadata": {},
   "outputs": [],
   "source": [
    "dict['K2'] = 'squrrel'"
   ]
  },
  {
   "cell_type": "code",
   "execution_count": 84,
   "id": "ebf5a6c4",
   "metadata": {},
   "outputs": [
    {
     "data": {
      "text/plain": [
       "{'K1': 'cat', 'K2': 'squrrel', 'K3': 'mouse', 'K4': 'fish', 'K5': 'parrot'}"
      ]
     },
     "execution_count": 84,
     "metadata": {},
     "output_type": "execute_result"
    }
   ],
   "source": [
    "dict"
   ]
  },
  {
   "cell_type": "code",
   "execution_count": 85,
   "id": "0c7853b2",
   "metadata": {},
   "outputs": [],
   "source": [
    "Team = {}\n",
    "Team ['Point guard'] = 'Dirk'\n",
    "Team ['Small Forward'] = 'Sean'\n",
    "Team ['Center'] = 'Hector'\n",
    "Team ['Power forward'] = 'Alexender'"
   ]
  },
  {
   "cell_type": "code",
   "execution_count": 86,
   "id": "ea7a71b9",
   "metadata": {},
   "outputs": [
    {
     "data": {
      "text/plain": [
       "{'Point guard': 'Dirk',\n",
       " 'Small Forward': 'Sean',\n",
       " 'Center': 'Hector',\n",
       " 'Power forward': 'Alexender'}"
      ]
     },
     "execution_count": 86,
     "metadata": {},
     "output_type": "execute_result"
    }
   ],
   "source": [
    "Team"
   ]
  },
  {
   "cell_type": "code",
   "execution_count": 87,
   "id": "f5db64a5",
   "metadata": {},
   "outputs": [
    {
     "name": "stdout",
     "output_type": "stream",
     "text": [
      "Hector\n"
     ]
    }
   ],
   "source": [
    "print(Team['Center'])"
   ]
  },
  {
   "cell_type": "code",
   "execution_count": 88,
   "id": "c6aefac9",
   "metadata": {},
   "outputs": [
    {
     "name": "stdout",
     "output_type": "stream",
     "text": [
      "None\n"
     ]
    }
   ],
   "source": [
    "# NOTE : None is the default value when element is not present in the dictonary , ONLY WHEN USING GET KEYWORD\n",
    "\n",
    "print(Team.get('Coach'))"
   ]
  },
  {
   "cell_type": "code",
   "execution_count": 1,
   "id": "d2f201dd",
   "metadata": {},
   "outputs": [],
   "source": [
    "# Iterations - Loops\n",
    "# For Loops\n",
    "# Iteration is the ability to execute a certain code repeatedly"
   ]
  },
  {
   "cell_type": "code",
   "execution_count": 2,
   "id": "9fefaa5f",
   "metadata": {},
   "outputs": [],
   "source": [
    "even = [0,2,4,6,8,10,12,14,16,18,20]"
   ]
  },
  {
   "cell_type": "code",
   "execution_count": 4,
   "id": "22a1ae12",
   "metadata": {},
   "outputs": [
    {
     "name": "stdout",
     "output_type": "stream",
     "text": [
      "0 2 4 6 8 10 12 14 16 18 20 "
     ]
    }
   ],
   "source": [
    "for n in even:\n",
    "    print(n, end = ' ')"
   ]
  },
  {
   "cell_type": "code",
   "execution_count": 5,
   "id": "3f294818",
   "metadata": {},
   "outputs": [],
   "source": [
    "# While loop"
   ]
  },
  {
   "cell_type": "code",
   "execution_count": 13,
   "id": "8467daec",
   "metadata": {},
   "outputs": [
    {
     "name": "stdout",
     "output_type": "stream",
     "text": [
      "0 2 4 6 8 10 12 14 16 18 20 "
     ]
    }
   ],
   "source": [
    "x = 0\n",
    "while x<=20:\n",
    "\n",
    "    print (x, end = ' ')\n",
    "    x = x+2"
   ]
  },
  {
   "cell_type": "code",
   "execution_count": 16,
   "id": "f0f3dc17",
   "metadata": {},
   "outputs": [],
   "source": [
    "#Iteration - Create list with the range() function\n",
    "# Syntax - range(start,stop,step) create a sequence of integers\n",
    "# Start = first value\n",
    "# Stop = last value +1\n",
    "# Step = the distance between two consecutive values"
   ]
  },
  {
   "cell_type": "code",
   "execution_count": 17,
   "id": "306c8499",
   "metadata": {},
   "outputs": [
    {
     "data": {
      "text/plain": [
       "range(0, 10)"
      ]
     },
     "execution_count": 17,
     "metadata": {},
     "output_type": "execute_result"
    }
   ],
   "source": [
    "range(10)"
   ]
  },
  {
   "cell_type": "code",
   "execution_count": 18,
   "id": "e90303ff",
   "metadata": {},
   "outputs": [
    {
     "data": {
      "text/plain": [
       "[0, 1, 2, 3, 4, 5, 6, 7, 8, 9]"
      ]
     },
     "execution_count": 18,
     "metadata": {},
     "output_type": "execute_result"
    }
   ],
   "source": [
    "list(range(10))"
   ]
  },
  {
   "cell_type": "code",
   "execution_count": 19,
   "id": "2a8190ce",
   "metadata": {},
   "outputs": [
    {
     "data": {
      "text/plain": [
       "range(3, 7)"
      ]
     },
     "execution_count": 19,
     "metadata": {},
     "output_type": "execute_result"
    }
   ],
   "source": [
    "range(3,7)"
   ]
  },
  {
   "cell_type": "code",
   "execution_count": 21,
   "id": "4baaa667",
   "metadata": {},
   "outputs": [
    {
     "data": {
      "text/plain": [
       "[3, 4, 5, 6]"
      ]
     },
     "execution_count": 21,
     "metadata": {},
     "output_type": "execute_result"
    }
   ],
   "source": [
    "list(range(3,7))"
   ]
  },
  {
   "cell_type": "code",
   "execution_count": 22,
   "id": "487307d5",
   "metadata": {},
   "outputs": [
    {
     "data": {
      "text/plain": [
       "range(1, 20, 2)"
      ]
     },
     "execution_count": 22,
     "metadata": {},
     "output_type": "execute_result"
    }
   ],
   "source": [
    "range(1,20,2)"
   ]
  },
  {
   "cell_type": "code",
   "execution_count": 23,
   "id": "d8472dbe",
   "metadata": {},
   "outputs": [
    {
     "data": {
      "text/plain": [
       "[1, 3, 5, 7, 9, 11, 13, 15, 17, 19]"
      ]
     },
     "execution_count": 23,
     "metadata": {},
     "output_type": "execute_result"
    }
   ],
   "source": [
    "list(range(1,20,2))"
   ]
  },
  {
   "cell_type": "code",
   "execution_count": 24,
   "id": "47fa2337",
   "metadata": {},
   "outputs": [],
   "source": [
    "#Use conditional statements and loop together"
   ]
  },
  {
   "cell_type": "code",
   "execution_count": 25,
   "id": "53190737",
   "metadata": {},
   "outputs": [
    {
     "name": "stdout",
     "output_type": "stream",
     "text": [
      "1 2 4 8 16 32 64 128 256 512 "
     ]
    }
   ],
   "source": [
    "for n in range(10):\n",
    "    print(2**n, end = \" \")"
   ]
  },
  {
   "cell_type": "code",
   "execution_count": 26,
   "id": "e583a885",
   "metadata": {},
   "outputs": [],
   "source": [
    "# Iteration - Conditional statement, Functions and loops"
   ]
  },
  {
   "cell_type": "code",
   "execution_count": 27,
   "id": "22ff67ed",
   "metadata": {},
   "outputs": [],
   "source": [
    "def count(num):\n",
    "    total = 0\n",
    "    for x in num:\n",
    "        if x <20:\n",
    "            total +=1\n",
    "    return total"
   ]
  },
  {
   "cell_type": "code",
   "execution_count": 28,
   "id": "ceead36d",
   "metadata": {},
   "outputs": [],
   "source": [
    "list_1 = [1,3,5,7,21,35,65,77]"
   ]
  },
  {
   "cell_type": "code",
   "execution_count": 29,
   "id": "3f132447",
   "metadata": {},
   "outputs": [
    {
     "data": {
      "text/plain": [
       "4"
      ]
     },
     "execution_count": 29,
     "metadata": {},
     "output_type": "execute_result"
    }
   ],
   "source": [
    "count(list_1)"
   ]
  },
  {
   "cell_type": "code",
   "execution_count": 30,
   "id": "9d84bd41",
   "metadata": {},
   "outputs": [],
   "source": [
    "# Iteration over Dictionaries"
   ]
  },
  {
   "cell_type": "code",
   "execution_count": 32,
   "id": "eae01c17",
   "metadata": {},
   "outputs": [],
   "source": [
    "prices = {\n",
    "\"spegitti\" :4,\n",
    "\"lasagna\" : 5,\n",
    "\"hamburger\" : 2}\n",
    "\n",
    "Quantity = {\n",
    "\"spegitti\" :6,\n",
    "\"lasagna\" : 10,\n",
    "\"hamburger\" : 0}\n",
    "\n",
    "money_spent = 0\n",
    "\n",
    "for i in prices:\n",
    "    money_spent = money_spent + (prices[i]*Quantity[i])"
   ]
  },
  {
   "cell_type": "code",
   "execution_count": 33,
   "id": "39ddf0fa",
   "metadata": {},
   "outputs": [
    {
     "name": "stdout",
     "output_type": "stream",
     "text": [
      "74\n"
     ]
    }
   ],
   "source": [
    "print(money_spent)"
   ]
  }
 ],
 "metadata": {
  "kernelspec": {
   "display_name": "Python 3 (ipykernel)",
   "language": "python",
   "name": "python3"
  },
  "language_info": {
   "codemirror_mode": {
    "name": "ipython",
    "version": 3
   },
   "file_extension": ".py",
   "mimetype": "text/x-python",
   "name": "python",
   "nbconvert_exporter": "python",
   "pygments_lexer": "ipython3",
   "version": "3.9.13"
  }
 },
 "nbformat": 4,
 "nbformat_minor": 5
}
