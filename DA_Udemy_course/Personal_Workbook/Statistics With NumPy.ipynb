{
 "cells": [
  {
   "cell_type": "markdown",
   "id": "888d4962",
   "metadata": {},
   "source": [
    "## Using Statistical Functions in NumPy"
   ]
  },
  {
   "cell_type": "code",
   "execution_count": 1,
   "id": "ce89f3b1",
   "metadata": {},
   "outputs": [],
   "source": [
    "# Numpy Native statistical functions and methods\n",
    "# Fundamental Functions(like min and max)\n",
    "# Statistical order functions\n",
    "# Averages and variance\n",
    "# Covariance and correlation\n",
    "# Histograms"
   ]
  },
  {
   "cell_type": "code",
   "execution_count": 2,
   "id": "7ff7b246",
   "metadata": {},
   "outputs": [],
   "source": [
    "import numpy as np"
   ]
  },
  {
   "cell_type": "code",
   "execution_count": 3,
   "id": "02e36ddd",
   "metadata": {},
   "outputs": [
    {
     "data": {
      "text/plain": [
       "array([[1, 0, 0, 3, 1],\n",
       "       [3, 6, 6, 2, 9],\n",
       "       [4, 5, 3, 8, 0]])"
      ]
     },
     "execution_count": 3,
     "metadata": {},
     "output_type": "execute_result"
    }
   ],
   "source": [
    "matrix_A = np.array([[1,0,0,3,1],[3,6,6,2,9],[4,5,3,8,0]])\n",
    "matrix_A"
   ]
  },
  {
   "cell_type": "code",
   "execution_count": 4,
   "id": "70832aa1",
   "metadata": {},
   "outputs": [
    {
     "data": {
      "text/plain": [
       "3.4"
      ]
     },
     "execution_count": 4,
     "metadata": {},
     "output_type": "execute_result"
    }
   ],
   "source": [
    "# np.mean()\n",
    "np.mean(matrix_A)\n",
    "# The mean value for the flattened array by ignoring the shape of the array (1-D array) \n",
    "# Adding the elements/Total number of elements"
   ]
  },
  {
   "cell_type": "code",
   "execution_count": 5,
   "id": "dd9672b3",
   "metadata": {},
   "outputs": [
    {
     "data": {
      "text/plain": [
       "1.0"
      ]
     },
     "execution_count": 5,
     "metadata": {},
     "output_type": "execute_result"
    }
   ],
   "source": [
    "np.mean(matrix_A[0])\n",
    "# The default datatype of output of np.mean() is actually float64"
   ]
  },
  {
   "cell_type": "code",
   "execution_count": 6,
   "id": "f6e764e7",
   "metadata": {},
   "outputs": [
    {
     "data": {
      "text/plain": [
       "numpy.float64"
      ]
     },
     "execution_count": 6,
     "metadata": {},
     "output_type": "execute_result"
    }
   ],
   "source": [
    "type(np.mean(matrix_A[0]))"
   ]
  },
  {
   "cell_type": "code",
   "execution_count": 7,
   "id": "0e9c9bc8",
   "metadata": {},
   "outputs": [
    {
     "data": {
      "text/plain": [
       "2.6666666666666665"
      ]
     },
     "execution_count": 7,
     "metadata": {},
     "output_type": "execute_result"
    }
   ],
   "source": [
    "np.mean(matrix_A[:,0])"
   ]
  },
  {
   "cell_type": "code",
   "execution_count": 8,
   "id": "92922f92",
   "metadata": {},
   "outputs": [
    {
     "data": {
      "text/plain": [
       "array([2.66666667, 3.66666667, 3.        , 4.33333333, 3.33333333])"
      ]
     },
     "execution_count": 8,
     "metadata": {},
     "output_type": "execute_result"
    }
   ],
   "source": [
    "np.mean(matrix_A, axis = 0)  # 0 represents the column"
   ]
  },
  {
   "cell_type": "code",
   "execution_count": 9,
   "id": "48a1a1b3",
   "metadata": {},
   "outputs": [
    {
     "data": {
      "text/plain": [
       "array([1. , 5.2, 4. ])"
      ]
     },
     "execution_count": 9,
     "metadata": {},
     "output_type": "execute_result"
    }
   ],
   "source": [
    "np.mean(matrix_A, axis = 1)  # 1 represents the rows"
   ]
  },
  {
   "cell_type": "code",
   "execution_count": 10,
   "id": "b6b5f5c6",
   "metadata": {},
   "outputs": [
    {
     "data": {
      "text/plain": [
       "3.4"
      ]
     },
     "execution_count": 10,
     "metadata": {},
     "output_type": "execute_result"
    }
   ],
   "source": [
    "matrix_A.mean()\n",
    "\n",
    "# An equivalent method exists, but why we prefer using the functions?\n",
    "# Reason is ABUNDANCE ,There are more statistical NumPy functions than methods\n",
    "# NOT ALL functions have equivalent methods that perform same task"
   ]
  },
  {
   "cell_type": "code",
   "execution_count": 11,
   "id": "44e2eb73",
   "metadata": {},
   "outputs": [
    {
     "data": {
      "text/plain": [
       "array([[1.        , 0.        , 0.        , 1.73205081, 1.        ],\n",
       "       [1.73205081, 2.44948974, 2.44948974, 1.41421356, 3.        ],\n",
       "       [2.        , 2.23606798, 1.73205081, 2.82842712, 0.        ]])"
      ]
     },
     "execution_count": 11,
     "metadata": {},
     "output_type": "execute_result"
    }
   ],
   "source": [
    "np.sqrt(matrix_A)"
   ]
  },
  {
   "cell_type": "code",
   "execution_count": 12,
   "id": "e10d9127",
   "metadata": {},
   "outputs": [
    {
     "ename": "AttributeError",
     "evalue": "'numpy.ndarray' object has no attribute 'sqrt'",
     "output_type": "error",
     "traceback": [
      "\u001b[1;31m---------------------------------------------------------------------------\u001b[0m",
      "\u001b[1;31mAttributeError\u001b[0m                            Traceback (most recent call last)",
      "\u001b[1;32m~\\AppData\\Local\\Temp\\ipykernel_16708\\472069318.py\u001b[0m in \u001b[0;36m<module>\u001b[1;34m\u001b[0m\n\u001b[1;32m----> 1\u001b[1;33m \u001b[0mmatrix_A\u001b[0m\u001b[1;33m.\u001b[0m\u001b[0msqrt\u001b[0m\u001b[1;33m(\u001b[0m\u001b[1;33m)\u001b[0m\u001b[1;33m\u001b[0m\u001b[1;33m\u001b[0m\u001b[0m\n\u001b[0m\u001b[0;32m      2\u001b[0m \u001b[1;33m\u001b[0m\u001b[0m\n\u001b[0;32m      3\u001b[0m \u001b[1;31m# Results in an attribute error, since not every function has an equivalent method.\u001b[0m\u001b[1;33m\u001b[0m\u001b[1;33m\u001b[0m\u001b[0m\n",
      "\u001b[1;31mAttributeError\u001b[0m: 'numpy.ndarray' object has no attribute 'sqrt'"
     ]
    }
   ],
   "source": [
    "matrix_A.sqrt() \n",
    "\n",
    "# Results in an attribute error, since not every function has an equivalent method. "
   ]
  },
  {
   "cell_type": "code",
   "execution_count": 13,
   "id": "8a8e87f7",
   "metadata": {},
   "outputs": [
    {
     "data": {
      "text/plain": [
       "array([1, 5, 4], dtype=int64)"
      ]
     },
     "execution_count": 13,
     "metadata": {},
     "output_type": "execute_result"
    }
   ],
   "source": [
    "np.mean(matrix_A, axis = 1, dtype = np.int64)\n",
    "\n",
    "## We can cast the values to a specific type as well. "
   ]
  },
  {
   "cell_type": "markdown",
   "id": "d4186cb8",
   "metadata": {},
   "source": [
    "## Minimal and Maximal values in NumPy"
   ]
  },
  {
   "cell_type": "code",
   "execution_count": 14,
   "id": "9e348bed",
   "metadata": {},
   "outputs": [
    {
     "data": {
      "text/plain": [
       "array([[1, 0, 0, 3, 1],\n",
       "       [3, 6, 6, 2, 9],\n",
       "       [4, 5, 3, 8, 0]])"
      ]
     },
     "execution_count": 14,
     "metadata": {},
     "output_type": "execute_result"
    }
   ],
   "source": [
    "matrix_A = np.array([[1,0,0,3,1],[3,6,6,2,9],[4,5,3,8,0]])\n",
    "matrix_A"
   ]
  },
  {
   "cell_type": "code",
   "execution_count": 15,
   "id": "c9b2b0c0",
   "metadata": {},
   "outputs": [
    {
     "data": {
      "text/plain": [
       "0"
      ]
     },
     "execution_count": 15,
     "metadata": {},
     "output_type": "execute_result"
    }
   ],
   "source": [
    "# np.min() - find the lowest value\n",
    "np.min(matrix_A)"
   ]
  },
  {
   "cell_type": "code",
   "execution_count": 16,
   "id": "b00979c8",
   "metadata": {},
   "outputs": [
    {
     "data": {
      "text/plain": [
       "0"
      ]
     },
     "execution_count": 16,
     "metadata": {},
     "output_type": "execute_result"
    }
   ],
   "source": [
    "# np.amin() - A stands for Array , Specified designed for working with arrays\n",
    "np.amin(matrix_A)\n",
    "# np.amin() and np.min() are completely equivalent"
   ]
  },
  {
   "cell_type": "code",
   "execution_count": 17,
   "id": "7fae0cdc",
   "metadata": {},
   "outputs": [],
   "source": [
    "#np.minimun() - Requires atleast 2 input arrays\n",
    "# Generates an array which holds the elementwise minimal values\n",
    "# Compares the values at the same position in each of the arrays before taking the lowest one"
   ]
  },
  {
   "cell_type": "code",
   "execution_count": 18,
   "id": "1067aa97",
   "metadata": {},
   "outputs": [
    {
     "data": {
      "text/plain": [
       "array([1, 0, 0, 3, 0])"
      ]
     },
     "execution_count": 18,
     "metadata": {},
     "output_type": "execute_result"
    }
   ],
   "source": [
    "np.minimum(matrix_A[0],matrix_A[2])"
   ]
  },
  {
   "cell_type": "code",
   "execution_count": 19,
   "id": "ee2dfb3d",
   "metadata": {},
   "outputs": [
    {
     "data": {
      "text/plain": [
       "array([1, 0, 0, 2, 0])"
      ]
     },
     "execution_count": 19,
     "metadata": {},
     "output_type": "execute_result"
    }
   ],
   "source": [
    "np.minimum.reduce(matrix_A)\n",
    "\n",
    "## A way to make minimum() equivalent to min()"
   ]
  },
  {
   "cell_type": "code",
   "execution_count": 20,
   "id": "dcbed843",
   "metadata": {},
   "outputs": [
    {
     "data": {
      "text/plain": [
       "array([1, 0, 0, 2, 0])"
      ]
     },
     "execution_count": 20,
     "metadata": {},
     "output_type": "execute_result"
    }
   ],
   "source": [
    "np.min(matrix_A, axis = 0)"
   ]
  },
  {
   "cell_type": "code",
   "execution_count": 21,
   "id": "77a27aa6",
   "metadata": {},
   "outputs": [
    {
     "data": {
      "text/plain": [
       "9"
      ]
     },
     "execution_count": 21,
     "metadata": {},
     "output_type": "execute_result"
    }
   ],
   "source": [
    "np.max(matrix_A)"
   ]
  },
  {
   "cell_type": "code",
   "execution_count": 22,
   "id": "06aa59d0",
   "metadata": {},
   "outputs": [
    {
     "data": {
      "text/plain": [
       "array([4, 6, 6, 8, 9])"
      ]
     },
     "execution_count": 22,
     "metadata": {},
     "output_type": "execute_result"
    }
   ],
   "source": [
    "np.maximum.reduce (matrix_A)"
   ]
  },
  {
   "cell_type": "code",
   "execution_count": 23,
   "id": "cd859b1f",
   "metadata": {},
   "outputs": [
    {
     "data": {
      "text/plain": [
       "array([4, 6, 6, 8, 9])"
      ]
     },
     "execution_count": 23,
     "metadata": {},
     "output_type": "execute_result"
    }
   ],
   "source": [
    "np.max(matrix_A, axis = 0)"
   ]
  },
  {
   "cell_type": "markdown",
   "id": "8c5d0268",
   "metadata": {},
   "source": [
    "## Statistical order functions in NumPy"
   ]
  },
  {
   "cell_type": "code",
   "execution_count": 24,
   "id": "3d84fb8d",
   "metadata": {},
   "outputs": [
    {
     "data": {
      "text/plain": [
       "array([[1, 0, 0, 3, 1],\n",
       "       [3, 6, 6, 2, 9],\n",
       "       [4, 5, 3, 8, 0]])"
      ]
     },
     "execution_count": 24,
     "metadata": {},
     "output_type": "execute_result"
    }
   ],
   "source": [
    "matrix_A = np.array([[1,0,0,3,1],[3,6,6,2,9],[4,5,3,8,0]])\n",
    "matrix_A"
   ]
  },
  {
   "cell_type": "code",
   "execution_count": 25,
   "id": "835e598f",
   "metadata": {},
   "outputs": [
    {
     "data": {
      "text/plain": [
       "9"
      ]
     },
     "execution_count": 25,
     "metadata": {},
     "output_type": "execute_result"
    }
   ],
   "source": [
    "# ptp = peak to peak\n",
    "np.ptp(matrix_A)\n",
    "## Returns difference between max and min (peak-to-peak) over the flattened array. "
   ]
  },
  {
   "cell_type": "code",
   "execution_count": 26,
   "id": "78795044",
   "metadata": {},
   "outputs": [
    {
     "data": {
      "text/plain": [
       "array([3, 6, 6, 6, 9])"
      ]
     },
     "execution_count": 26,
     "metadata": {},
     "output_type": "execute_result"
    }
   ],
   "source": [
    "np.ptp(matrix_A, axis = 0)\n",
    "\n",
    "## Returns difference between max and min (peak-to-peak) for every column. "
   ]
  },
  {
   "cell_type": "code",
   "execution_count": 27,
   "id": "d879b416",
   "metadata": {},
   "outputs": [
    {
     "data": {
      "text/plain": [
       "array([3, 7, 8])"
      ]
     },
     "execution_count": 27,
     "metadata": {},
     "output_type": "execute_result"
    }
   ],
   "source": [
    "np.ptp(matrix_A, axis = 1)\n",
    "\n",
    "## Returns difference between max and min (peak-to-peak) for every row. "
   ]
  },
  {
   "cell_type": "code",
   "execution_count": 28,
   "id": "46c6e1eb",
   "metadata": {},
   "outputs": [
    {
     "data": {
      "text/plain": [
       "array([0, 0, 0, 1, 1, 2, 3, 3, 3, 4, 5, 6, 6, 8, 9])"
      ]
     },
     "execution_count": 28,
     "metadata": {},
     "output_type": "execute_result"
    }
   ],
   "source": [
    "np.sort(matrix_A, axis = None)\n",
    "\n",
    "# A sorted version of the flattened matrix_A (1-D array)"
   ]
  },
  {
   "cell_type": "code",
   "execution_count": 29,
   "id": "90d19674",
   "metadata": {},
   "outputs": [
    {
     "data": {
      "text/plain": [
       "4.799999999999999"
      ]
     },
     "execution_count": 29,
     "metadata": {},
     "output_type": "execute_result"
    }
   ],
   "source": [
    "np.percentile(matrix_A, 70)\n",
    "# N-th Percentile = A value which is greater than n% of the dataset. "
   ]
  },
  {
   "cell_type": "code",
   "execution_count": 30,
   "id": "0d8e3032",
   "metadata": {},
   "outputs": [
    {
     "data": {
      "text/plain": [
       "9.0"
      ]
     },
     "execution_count": 30,
     "metadata": {},
     "output_type": "execute_result"
    }
   ],
   "source": [
    "np.percentile(matrix_A, 100)\n",
    "\n",
    "# 100-th percentile = max\n",
    "# 50-th percentile = median\n",
    "# 0-th percentile = min"
   ]
  },
  {
   "cell_type": "code",
   "execution_count": 31,
   "id": "fd861b19",
   "metadata": {},
   "outputs": [
    {
     "data": {
      "text/plain": [
       "5"
      ]
     },
     "execution_count": 31,
     "metadata": {},
     "output_type": "execute_result"
    }
   ],
   "source": [
    "np.percentile(matrix_A,70,interpolation=\"nearest\")"
   ]
  },
  {
   "cell_type": "code",
   "execution_count": 32,
   "id": "a15459fd",
   "metadata": {},
   "outputs": [
    {
     "data": {
      "text/plain": [
       "numpy.float64"
      ]
     },
     "execution_count": 32,
     "metadata": {},
     "output_type": "execute_result"
    }
   ],
   "source": [
    "type(np.percentile(matrix_A, 70))"
   ]
  },
  {
   "cell_type": "code",
   "execution_count": 33,
   "id": "963c29be",
   "metadata": {},
   "outputs": [],
   "source": [
    "# Quantile - A value that is greater than the corresponding part of the dataset\n",
    "# 70th percentile = 0.7 quantile"
   ]
  },
  {
   "cell_type": "code",
   "execution_count": 34,
   "id": "94ebd0ff",
   "metadata": {},
   "outputs": [
    {
     "data": {
      "text/plain": [
       "5"
      ]
     },
     "execution_count": 34,
     "metadata": {},
     "output_type": "execute_result"
    }
   ],
   "source": [
    "np.quantile(matrix_A, 0.70, interpolation = \"nearest\")\n",
    "\n",
    "# Quantile -> Similar to percentile, but works with parts of the dataset, rather than percentages. \n",
    "# Hence, the N-th Quantile = 100*N-th Percentile of the same dataset. "
   ]
  },
  {
   "cell_type": "markdown",
   "id": "caecc35a",
   "metadata": {},
   "source": [
    "## Averages and Variances"
   ]
  },
  {
   "cell_type": "code",
   "execution_count": 35,
   "id": "a8112d0a",
   "metadata": {},
   "outputs": [],
   "source": [
    "# np.median() - Takes input array and return median value\n",
    "# Returns the median for the flattened array. \n",
    "# Median -> The middle value of a sorted version of the dataset. "
   ]
  },
  {
   "cell_type": "code",
   "execution_count": 36,
   "id": "4d074b9e",
   "metadata": {},
   "outputs": [
    {
     "data": {
      "text/plain": [
       "array([[1, 0, 0, 3, 1],\n",
       "       [3, 6, 6, 2, 9],\n",
       "       [4, 5, 3, 8, 0]])"
      ]
     },
     "execution_count": 36,
     "metadata": {},
     "output_type": "execute_result"
    }
   ],
   "source": [
    "matrix_A = np.array([[1,0,0,3,1],[3,6,6,2,9],[4,5,3,8,0]])\n",
    "matrix_A"
   ]
  },
  {
   "cell_type": "code",
   "execution_count": 37,
   "id": "d3ce1b26",
   "metadata": {},
   "outputs": [
    {
     "data": {
      "text/plain": [
       "3.0"
      ]
     },
     "execution_count": 37,
     "metadata": {},
     "output_type": "execute_result"
    }
   ],
   "source": [
    "np.median(matrix_A)"
   ]
  },
  {
   "cell_type": "code",
   "execution_count": 38,
   "id": "679ae752",
   "metadata": {},
   "outputs": [
    {
     "data": {
      "text/plain": [
       "array([0, 0, 0, 1, 1, 2, 3, 3, 3, 4, 5, 6, 6, 8, 9])"
      ]
     },
     "execution_count": 38,
     "metadata": {},
     "output_type": "execute_result"
    }
   ],
   "source": [
    "np.sort(matrix_A, axis = None)"
   ]
  },
  {
   "cell_type": "code",
   "execution_count": 39,
   "id": "2d918648",
   "metadata": {},
   "outputs": [
    {
     "data": {
      "text/plain": [
       "3.4"
      ]
     },
     "execution_count": 39,
     "metadata": {},
     "output_type": "execute_result"
    }
   ],
   "source": [
    "np.mean(matrix_A)\n",
    "\n",
    "# The arithmetic average of the flattened array. "
   ]
  },
  {
   "cell_type": "code",
   "execution_count": 40,
   "id": "937ca683",
   "metadata": {},
   "outputs": [
    {
     "data": {
      "text/plain": [
       "3.4"
      ]
     },
     "execution_count": 40,
     "metadata": {},
     "output_type": "execute_result"
    }
   ],
   "source": [
    "np.average(matrix_A)\n",
    "\n",
    "# The average of the flattened array. \n",
    "# Difference from Mean - Can compute the wieghted average of a dataset"
   ]
  },
  {
   "cell_type": "code",
   "execution_count": 41,
   "id": "474bd883",
   "metadata": {},
   "outputs": [
    {
     "data": {
      "text/plain": [
       "array([[0.75915734, 0.7662218 , 0.6291028 , 0.20336599, 0.66501486],\n",
       "       [0.06559111, 0.71326309, 0.10812106, 0.87969046, 0.49405844],\n",
       "       [0.82472673, 0.45652944, 0.07367232, 0.69628564, 0.36690736]])"
      ]
     },
     "execution_count": 41,
     "metadata": {},
     "output_type": "execute_result"
    }
   ],
   "source": [
    "from numpy.random import Generator as gen\n",
    "from numpy.random import PCG64 as pcg\n",
    "\n",
    "array_RG = gen(pcg(365))\n",
    "\n",
    "array_weights = array_RG.random(size = (3,5))\n",
    "array_weights\n",
    "\n",
    "# Generating some random weights for each entry of matrix_A (for the sake of the example)"
   ]
  },
  {
   "cell_type": "code",
   "execution_count": 42,
   "id": "d3207ffb",
   "metadata": {},
   "outputs": [
    {
     "data": {
      "text/plain": [
       "3.2120290871899306"
      ]
     },
     "execution_count": 42,
     "metadata": {},
     "output_type": "execute_result"
    }
   ],
   "source": [
    "np.average(matrix_A, weights = array_weights)\n",
    "\n",
    "# The weighted average of the flattened array. "
   ]
  },
  {
   "cell_type": "code",
   "execution_count": 43,
   "id": "a44085a6",
   "metadata": {},
   "outputs": [
    {
     "data": {
      "text/plain": [
       "7.84"
      ]
     },
     "execution_count": 43,
     "metadata": {},
     "output_type": "execute_result"
    }
   ],
   "source": [
    "np.var(matrix_A)\n",
    "\n",
    "# The variance of the array. "
   ]
  },
  {
   "cell_type": "code",
   "execution_count": 44,
   "id": "9b299691",
   "metadata": {},
   "outputs": [
    {
     "data": {
      "text/plain": [
       "2.8"
      ]
     },
     "execution_count": 44,
     "metadata": {},
     "output_type": "execute_result"
    }
   ],
   "source": [
    "np.std(matrix_A)\n",
    "\n",
    "# The standard deviation of the array. "
   ]
  },
  {
   "cell_type": "code",
   "execution_count": 45,
   "id": "24f20f33",
   "metadata": {},
   "outputs": [
    {
     "data": {
      "text/plain": [
       "7.839999999999999"
      ]
     },
     "execution_count": 45,
     "metadata": {},
     "output_type": "execute_result"
    }
   ],
   "source": [
    "2.8**2   # Variance = Standard Deviation^2"
   ]
  },
  {
   "cell_type": "markdown",
   "id": "a3b5c6dc",
   "metadata": {},
   "source": [
    "## Covariance and Co-relation in NumPy"
   ]
  },
  {
   "cell_type": "code",
   "execution_count": 46,
   "id": "b5abf613",
   "metadata": {},
   "outputs": [
    {
     "data": {
      "text/plain": [
       "array([[1, 0, 0, 3, 1],\n",
       "       [3, 6, 6, 2, 9],\n",
       "       [4, 5, 3, 8, 0]])"
      ]
     },
     "execution_count": 46,
     "metadata": {},
     "output_type": "execute_result"
    }
   ],
   "source": [
    "matrix_A = np.array([[1,0,0,3,1],[3,6,6,2,9],[4,5,3,8,0]])\n",
    "matrix_A"
   ]
  },
  {
   "cell_type": "code",
   "execution_count": 47,
   "id": "f555d031",
   "metadata": {},
   "outputs": [
    {
     "data": {
      "text/plain": [
       "array([[ 1.5, -2. ,  2. ],\n",
       "       [-2. ,  7.7, -7. ],\n",
       "       [ 2. , -7. ,  8.5]])"
      ]
     },
     "execution_count": 47,
     "metadata": {},
     "output_type": "execute_result"
    }
   ],
   "source": [
    "np.cov(matrix_A)\n",
    "\n",
    "# Cov(A,B)= Cov(B,A)\n",
    "# The covariance of every row (array) of matrix_A and every other row of the variable. "
   ]
  },
  {
   "cell_type": "code",
   "execution_count": 48,
   "id": "f39e8c9b",
   "metadata": {},
   "outputs": [],
   "source": [
    "# Co-Relation cofficient - Expected a symmetrical matrix\n",
    "# Corrcoef = correlation cofficient\n",
    "# Finds the relationships between every two rows of the array"
   ]
  },
  {
   "cell_type": "code",
   "execution_count": 49,
   "id": "802be240",
   "metadata": {},
   "outputs": [
    {
     "data": {
      "text/plain": [
       "array([[ 1.        , -0.58848989,  0.56011203],\n",
       "       [-0.58848989,  1.        , -0.8652532 ],\n",
       "       [ 0.56011203, -0.8652532 ,  1.        ]])"
      ]
     },
     "execution_count": 49,
     "metadata": {},
     "output_type": "execute_result"
    }
   ],
   "source": [
    "np.corrcoef(matrix_A)\n",
    "\n",
    "# Co-relation of (X,X) = 1\n",
    "# The correlation coefficient of every row (array) of matrix_A and every other row of the variable. "
   ]
  },
  {
   "cell_type": "markdown",
   "id": "cbce8ab6",
   "metadata": {},
   "source": [
    "## Histograms in NumPy"
   ]
  },
  {
   "cell_type": "code",
   "execution_count": 50,
   "id": "0e0042e5",
   "metadata": {},
   "outputs": [
    {
     "data": {
      "text/plain": [
       "array([[1, 0, 0, 3, 1],\n",
       "       [3, 6, 6, 2, 9],\n",
       "       [4, 5, 3, 8, 0]])"
      ]
     },
     "execution_count": 50,
     "metadata": {},
     "output_type": "execute_result"
    }
   ],
   "source": [
    "matrix_A = np.array([[1,0,0,3,1],[3,6,6,2,9],[4,5,3,8,0]])\n",
    "matrix_A"
   ]
  },
  {
   "cell_type": "code",
   "execution_count": 51,
   "id": "32aed3d1",
   "metadata": {},
   "outputs": [],
   "source": [
    "# A Way to examine a dataset by dissecting its density\n",
    "# How many values from a dataset fall within some pre-determined range"
   ]
  },
  {
   "cell_type": "code",
   "execution_count": 52,
   "id": "d2bd8f3f",
   "metadata": {},
   "outputs": [
    {
     "data": {
      "text/plain": [
       "array([0, 0, 0, 1, 1, 2, 3, 3, 3, 4, 5, 6, 6, 8, 9])"
      ]
     },
     "execution_count": 52,
     "metadata": {},
     "output_type": "execute_result"
    }
   ],
   "source": [
    "np.sort(matrix_A, axis = None)"
   ]
  },
  {
   "cell_type": "code",
   "execution_count": 53,
   "id": "880f9905",
   "metadata": {},
   "outputs": [
    {
     "data": {
      "text/plain": [
       "(array([3, 2, 1, 3, 1, 1, 2, 0, 1, 1], dtype=int64),\n",
       " array([0. , 0.9, 1.8, 2.7, 3.6, 4.5, 5.4, 6.3, 7.2, 8.1, 9. ]))"
      ]
     },
     "execution_count": 53,
     "metadata": {},
     "output_type": "execute_result"
    }
   ],
   "source": [
    "np.histogram(matrix_A)  # No. of bin edges = no. of bins + 1"
   ]
  },
  {
   "cell_type": "code",
   "execution_count": 54,
   "id": "d8943af9",
   "metadata": {},
   "outputs": [],
   "source": [
    "# Bins are closed -open intervals [a,b) \n",
    "# if a value equals the lower edge of a bin, then it counts towards the bin\n",
    "# if it equals the upper edge, it doesn't"
   ]
  },
  {
   "cell_type": "code",
   "execution_count": 55,
   "id": "d0dcf74d",
   "metadata": {},
   "outputs": [
    {
     "data": {
      "text/plain": [
       "(array([6, 4, 3, 2], dtype=int64), array([0.  , 2.25, 4.5 , 6.75, 9.  ]))"
      ]
     },
     "execution_count": 55,
     "metadata": {},
     "output_type": "execute_result"
    }
   ],
   "source": [
    "np.histogram(matrix_A, bins= 4) "
   ]
  },
  {
   "cell_type": "code",
   "execution_count": 56,
   "id": "dc0a37f2",
   "metadata": {},
   "outputs": [
    {
     "data": {
      "text/plain": [
       "(array([3, 3, 2, 2], dtype=int64), array([1. , 2.5, 4. , 5.5, 7. ]))"
      ]
     },
     "execution_count": 56,
     "metadata": {},
     "output_type": "execute_result"
    }
   ],
   "source": [
    "np.histogram(matrix_A, bins = 4, range = (1,7))\n",
    "\n",
    "# Computes the bin edges and how many points fall in each bin. \n",
    "# The 1-st array contains the number of points. The 2-nd array contains the bin edges. "
   ]
  },
  {
   "cell_type": "code",
   "execution_count": 57,
   "id": "92ca7751",
   "metadata": {},
   "outputs": [
    {
     "data": {
      "image/png": "[encoded data removed]",
      "text/plain": [
       "<Figure size 640x480 with 1 Axes>"
      ]
     },
     "metadata": {},
     "output_type": "display_data"
    }
   ],
   "source": [
    "import matplotlib.pyplot as plt\n",
    "plt.hist(matrix_A.flat, bins = np.histogram(matrix_A)[1])\n",
    "plt.show()\n",
    "\n",
    "# NumPy has no plotting capabilities, so we're using matplotlib's help. \n",
    "# .flat -> The flattened version of the array"
   ]
  },
  {
   "cell_type": "code",
   "execution_count": 58,
   "id": "faa294db",
   "metadata": {},
   "outputs": [
    {
     "data": {
      "text/plain": [
       "array([[1, 0, 0, 3, 1],\n",
       "       [3, 6, 6, 2, 9],\n",
       "       [4, 5, 3, 8, 0]])"
      ]
     },
     "execution_count": 58,
     "metadata": {},
     "output_type": "execute_result"
    }
   ],
   "source": [
    "matrix_A"
   ]
  },
  {
   "cell_type": "markdown",
   "id": "16cb1190",
   "metadata": {},
   "source": [
    " 2-D histograms"
   ]
  },
  {
   "cell_type": "code",
   "execution_count": 59,
   "id": "8fb19a24",
   "metadata": {},
   "outputs": [
    {
     "data": {
      "text/plain": [
       "(array([[0., 0., 2., 0.],\n",
       "        [1., 0., 0., 1.],\n",
       "        [0., 0., 0., 0.],\n",
       "        [1., 0., 0., 0.]]),\n",
       " array([0.  , 0.75, 1.5 , 2.25, 3.  ]),\n",
       " array([2.  , 3.75, 5.5 , 7.25, 9.  ]))"
      ]
     },
     "execution_count": 59,
     "metadata": {},
     "output_type": "execute_result"
    }
   ],
   "source": [
    "np.histogram2d(matrix_A[0],matrix_A[1], bins =4) # 1st one is density array and other two are bin arrays"
   ]
  },
  {
   "cell_type": "code",
   "execution_count": 60,
   "id": "3a89bb7f",
   "metadata": {},
   "outputs": [],
   "source": [
    "# First row = All points whose X-value falls within the first bin"
   ]
  },
  {
   "cell_type": "code",
   "execution_count": 61,
   "id": "00fa4149",
   "metadata": {},
   "outputs": [
    {
     "data": {
      "text/plain": [
       "(array([[[0., 0., 0., 0.],\n",
       "         [0., 0., 0., 0.],\n",
       "         [0., 1., 1., 0.],\n",
       "         [0., 0., 0., 0.]],\n",
       " \n",
       "        [[0., 0., 1., 0.],\n",
       "         [0., 0., 0., 0.],\n",
       "         [0., 0., 0., 0.],\n",
       "         [1., 0., 0., 0.]],\n",
       " \n",
       "        [[0., 0., 0., 0.],\n",
       "         [0., 0., 0., 0.],\n",
       "         [0., 0., 0., 0.],\n",
       "         [0., 0., 0., 0.]],\n",
       " \n",
       "        [[0., 0., 0., 1.],\n",
       "         [0., 0., 0., 0.],\n",
       "         [0., 0., 0., 0.],\n",
       "         [0., 0., 0., 0.]]]),\n",
       " [array([0.  , 0.75, 1.5 , 2.25, 3.  ]),\n",
       "  array([2.  , 3.75, 5.5 , 7.25, 9.  ]),\n",
       "  array([0., 2., 4., 6., 8.])])"
      ]
     },
     "execution_count": 61,
     "metadata": {},
     "output_type": "execute_result"
    }
   ],
   "source": [
    "np.histogramdd(matrix_A.transpose(), bins = 4)"
   ]
  },
  {
   "cell_type": "markdown",
   "id": "6089576b",
   "metadata": {},
   "source": [
    "## NaN Euqivalent function in NumPy"
   ]
  },
  {
   "cell_type": "code",
   "execution_count": 62,
   "id": "1caf3469",
   "metadata": {},
   "outputs": [],
   "source": [
    "#Functions That work on array with missing values in them.\n",
    "# Many of the functions we examined in this section have NaN equivalents"
   ]
  },
  {
   "cell_type": "code",
   "execution_count": 63,
   "id": "0aef56c5",
   "metadata": {},
   "outputs": [
    {
     "data": {
      "text/plain": [
       "array([[1, 0, 0, 3, 1],\n",
       "       [3, 6, 6, 2, 9],\n",
       "       [4, 5, 3, 8, 0]])"
      ]
     },
     "execution_count": 63,
     "metadata": {},
     "output_type": "execute_result"
    }
   ],
   "source": [
    "matrix_A"
   ]
  },
  {
   "cell_type": "code",
   "execution_count": 64,
   "id": "1749c949",
   "metadata": {},
   "outputs": [],
   "source": [
    "# np.nanmean() - The NaN equivalent of np.mean()"
   ]
  },
  {
   "cell_type": "code",
   "execution_count": 65,
   "id": "0d64b56c",
   "metadata": {},
   "outputs": [
    {
     "data": {
      "text/plain": [
       "3.4"
      ]
     },
     "execution_count": 65,
     "metadata": {},
     "output_type": "execute_result"
    }
   ],
   "source": [
    "np.nanmean(matrix_A)"
   ]
  },
  {
   "cell_type": "code",
   "execution_count": 66,
   "id": "b808b9dc",
   "metadata": {},
   "outputs": [
    {
     "data": {
      "text/plain": [
       "array([[ 1.,  0.,  0.,  3.,  1.],\n",
       "       [ 3.,  6., nan,  2.,  9.],\n",
       "       [ 4.,  5.,  3.,  8.,  0.]])"
      ]
     },
     "execution_count": 66,
     "metadata": {},
     "output_type": "execute_result"
    }
   ],
   "source": [
    "matrix_B = np.array([[1,0,0,3,1],[3,6,np.nan,2,9],[4,5,3,8,0]])\n",
    "matrix_B"
   ]
  },
  {
   "cell_type": "code",
   "execution_count": 67,
   "id": "04d9ba2f",
   "metadata": {},
   "outputs": [
    {
     "data": {
      "text/plain": [
       "3.2142857142857144"
      ]
     },
     "execution_count": 67,
     "metadata": {},
     "output_type": "execute_result"
    }
   ],
   "source": [
    "np.nanmean(matrix_B)\n",
    "\n",
    "# NAN functions ignore \"nan\" values and compute the mean. "
   ]
  },
  {
   "cell_type": "code",
   "execution_count": 68,
   "id": "6886837e",
   "metadata": {},
   "outputs": [
    {
     "data": {
      "text/plain": [
       "nan"
      ]
     },
     "execution_count": 68,
     "metadata": {},
     "output_type": "execute_result"
    }
   ],
   "source": [
    "np.mean(matrix_B)\n",
    "\n",
    "# Non-NAN functions return \"nan\" when missing values are present."
   ]
  },
  {
   "cell_type": "code",
   "execution_count": 69,
   "id": "c031a9c5",
   "metadata": {},
   "outputs": [
    {
     "data": {
      "text/plain": [
       "4.0"
      ]
     },
     "execution_count": 69,
     "metadata": {},
     "output_type": "execute_result"
    }
   ],
   "source": [
    "np.nanquantile(matrix_B, 0.7 , interpolation= \"nearest\")"
   ]
  },
  {
   "cell_type": "code",
   "execution_count": 70,
   "id": "790ca4c0",
   "metadata": {},
   "outputs": [
    {
     "data": {
      "text/plain": [
       "7.882653061224489"
      ]
     },
     "execution_count": 70,
     "metadata": {},
     "output_type": "execute_result"
    }
   ],
   "source": [
    "np.nanvar(matrix_B)"
   ]
  },
  {
   "cell_type": "markdown",
   "id": "133f1dcd",
   "metadata": {},
   "source": [
    "# ************END************"
   ]
  }
 ],
 "metadata": {
  "kernelspec": {
   "display_name": "Python 3 (ipykernel)",
   "language": "python",
   "name": "python3"
  },
  "language_info": {
   "codemirror_mode": {
    "name": "ipython",
    "version": 3
   },
   "file_extension": ".py",
   "mimetype": "text/x-python",
   "name": "python",
   "nbconvert_exporter": "python",
   "pygments_lexer": "ipython3",
   "version": "3.9.13"
  }
 },
 "nbformat": 4,
 "nbformat_minor": 5
}
