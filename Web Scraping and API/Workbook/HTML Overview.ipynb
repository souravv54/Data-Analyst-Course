{
 "cells": [
  {
   "cell_type": "markdown",
   "id": "7d3ab94a",
   "metadata": {},
   "source": [
    "## What is HTML?"
   ]
  },
  {
   "cell_type": "code",
   "execution_count": 1,
   "id": "5b7246ae",
   "metadata": {},
   "outputs": [],
   "source": [
    "# What is HTML?\n",
    "# Basics of language\n",
    "# Structure\n",
    "# Syntax\n",
    "# Popular examples"
   ]
  },
  {
   "cell_type": "code",
   "execution_count": 2,
   "id": "1a9be28d",
   "metadata": {},
   "outputs": [],
   "source": [
    "# HTML - Hypertext markup language\n",
    "# The underlying source code for all web pages\n",
    "# To Built web pages:- HTML,CSS, Javascript also been used\n",
    "# A Browser is an application that read and displays HTML\n",
    "# We can check the source code of any website using CTRL + U\n",
    "# # CTRL + SHIFT + I to inspect the code"
   ]
  },
  {
   "cell_type": "markdown",
   "id": "b45ea9d0",
   "metadata": {},
   "source": [
    "## Structure of HTML"
   ]
  },
  {
   "cell_type": "code",
   "execution_count": 3,
   "id": "770081a8",
   "metadata": {},
   "outputs": [],
   "source": [
    "# Building block of all HTML called element\n",
    "# HTML Ex:\n",
    "# HTML\n",
    "# HEAD --> Web page and style like title language and style (it's metadata of webpage)\n",
    "# BODY --> link,image,paragraph,table etc. that is visible over web page.\n",
    "# All elements are almost nested "
   ]
  },
  {
   "cell_type": "markdown",
   "id": "85228663",
   "metadata": {},
   "source": [
    "## Syntax of HTML"
   ]
  },
  {
   "cell_type": "code",
   "execution_count": 1,
   "id": "462f2b3e",
   "metadata": {},
   "outputs": [],
   "source": [
    "# Eg. <tag_name> Content </tag_name>\n",
    "# Here, Tag defines the type of elements\n",
    "# Tags are almost come in pairs\n",
    "# In the closing tag a forward slash is written before the tag name.\n",
    "# Content can be Text, Other elements, Combination\n",
    "#  text <p> ... </p>\n",
    "# page title <title> ... </title>\n",
    "# Headings <h1> ... </h1> till h6\n",
    "# My First Webpage.html file is present in workbook directory."
   ]
  },
  {
   "cell_type": "code",
   "execution_count": 1,
   "id": "da8d910e",
   "metadata": {},
   "outputs": [],
   "source": [
    "# Most prominent tag attributes are:\n",
    "# Class and ID\n",
    "# USed for grouping and identifying elements for easier processing and styling\n",
    "\n",
    "# Class : Group elements of the same category to be manipulated at once\n",
    "# ID : Similar ot class but ID is unique to each element."
   ]
  },
  {
   "cell_type": "markdown",
   "id": "c36dfb6f",
   "metadata": {},
   "source": [
    "## Popular Tags"
   ]
  },
  {
   "cell_type": "code",
   "execution_count": 4,
   "id": "0184c1c8",
   "metadata": {},
   "outputs": [],
   "source": [
    "# Head - A place for metadata\n",
    "# <title>\n",
    "# <meta>\n",
    "# <style>\n",
    "# <script>\n",
    "# <link> ,.....and so on\n",
    "\n",
    "# Required in ALL HTML Elements\n",
    "# They can only be one such element\n",
    "# Used by search engines"
   ]
  },
  {
   "cell_type": "code",
   "execution_count": 5,
   "id": "a8e426b2",
   "metadata": {},
   "outputs": [],
   "source": [
    "# Empty tags - Element with NO content and closing tag are called empty tags\n",
    "# Write '/>' to close the empty elements"
   ]
  },
  {
   "cell_type": "code",
   "execution_count": 8,
   "id": "6e08b9f3",
   "metadata": {},
   "outputs": [],
   "source": [
    "# Body - The real content we would scrape\n",
    "# common used tags are : <div>\n",
    "# <Div> is a container for other , more functional elements\n",
    "# Written almost exclusively with a class or ID attribute\n",
    "# <span> - Marks only small part of content that should not be moved away from that content.\n",
    "# Never starts on a new line and takes only as much width as is needed.\n",
    "# <image> tag for sourcing the pictures\n",
    "# Two types of lists are present in HTML : Ordered and Unordered lists\n",
    "# Ordered list are like numbers, alphabets - <ol>\n",
    "# Unordered lists are : Bullet lists <ul>"
   ]
  },
  {
   "cell_type": "code",
   "execution_count": 9,
   "id": "37c4bc70",
   "metadata": {},
   "outputs": [],
   "source": [
    "# Table data structuring:- \n",
    "# <table> - defining the table\n",
    "# <tr> - Creating a table row\n",
    "# <td> - Creating a cell with table data\n",
    "# <th> - Table header"
   ]
  },
  {
   "cell_type": "markdown",
   "id": "3af52c2c",
   "metadata": {},
   "source": [
    "## CSS And javaScript"
   ]
  },
  {
   "cell_type": "code",
   "execution_count": 10,
   "id": "03708b76",
   "metadata": {},
   "outputs": [],
   "source": [
    "# HTML - Mainly Static And used to mark and structure the content\n",
    "# CSS - Visual style and layout\n",
    "# Javascript - used for dnyamic changes"
   ]
  },
  {
   "cell_type": "code",
   "execution_count": 11,
   "id": "c498d04c",
   "metadata": {},
   "outputs": [],
   "source": [
    "# CSS - Cascading style sheets\n",
    "# Describes the visual presentation and style of HTML documents\n",
    "# Significantly decreases the amount of work a software developer needs to do"
   ]
  },
  {
   "cell_type": "code",
   "execution_count": 12,
   "id": "74322cc2",
   "metadata": {},
   "outputs": [],
   "source": [
    "# 3 Ways in which CSS can be added\n",
    "# INLINE -Style attribute\n",
    "# INTERNAL - Style tag\n",
    "# EXTERNAL - CSS file\n"
   ]
  },
  {
   "cell_type": "code",
   "execution_count": 13,
   "id": "9ca5ad7a",
   "metadata": {},
   "outputs": [],
   "source": [
    "# JAVA Script - JS\n",
    "# Enables interactive Web pages\n",
    "# Essential part of web applications\n",
    "# The majority of websites use it"
   ]
  },
  {
   "cell_type": "code",
   "execution_count": 14,
   "id": "9c71d94e",
   "metadata": {},
   "outputs": [],
   "source": [
    "# Change the content of the element\n",
    "# Change the attributes and CSS style\n",
    "# May present a roadbloack to us when scrapping"
   ]
  },
  {
   "cell_type": "markdown",
   "id": "46ecece7",
   "metadata": {},
   "source": [
    "## Character Encoding "
   ]
  },
  {
   "cell_type": "code",
   "execution_count": 15,
   "id": "d37549ef",
   "metadata": {},
   "outputs": [],
   "source": [
    "# You Should have an intuitive sense of how HTML works by now.\n",
    "# The common questions are:\n",
    "# How do you write a symbol, not present on your keyboard?\n",
    "# How does different software agree on a given symbol?"
   ]
  },
  {
   "cell_type": "code",
   "execution_count": 16,
   "id": "0d5c4489",
   "metadata": {},
   "outputs": [],
   "source": [
    "# Answers is Symbols are encoded , means covert information - change any type of data(pic videos) to another representation"
   ]
  },
  {
   "cell_type": "code",
   "execution_count": 17,
   "id": "0d09a540",
   "metadata": {},
   "outputs": [],
   "source": [
    "# example : Character encoding  - Symbols encoded to Number like ASCII"
   ]
  },
  {
   "cell_type": "code",
   "execution_count": 18,
   "id": "e57802c4",
   "metadata": {},
   "outputs": [],
   "source": [
    "# UNICODE - It has 140,000 characters including 150 scripts and symbols and emoji\n",
    "# It is everything you will ever use is included in 'UNICODE'"
   ]
  },
  {
   "cell_type": "code",
   "execution_count": 19,
   "id": "21ceef85",
   "metadata": {},
   "outputs": [],
   "source": [
    "# To reduce the memory wastage : we use the charset or sub-set of unicode like:\n",
    "# UTF - 8 : which means  <meta charset = \"utf-8\">"
   ]
  },
  {
   "cell_type": "code",
   "execution_count": 20,
   "id": "3af80837",
   "metadata": {},
   "outputs": [],
   "source": [
    "# NON- Breaking space --> used when word need to be written on the same line\n",
    "# HTML --> nbsp , Unicode --> 160 , Unicode(Hex) --> A0"
   ]
  },
  {
   "cell_type": "code",
   "execution_count": null,
   "id": "1345790b",
   "metadata": {},
   "outputs": [],
   "source": []
  }
 ],
 "metadata": {
  "kernelspec": {
   "display_name": "Python 3 (ipykernel)",
   "language": "python",
   "name": "python3"
  },
  "language_info": {
   "codemirror_mode": {
    "name": "ipython",
    "version": 3
   },
   "file_extension": ".py",
   "mimetype": "text/x-python",
   "name": "python",
   "nbconvert_exporter": "python",
   "pygments_lexer": "ipython3",
   "version": "3.9.13"
  }
 },
 "nbformat": 4,
 "nbformat_minor": 5
}
