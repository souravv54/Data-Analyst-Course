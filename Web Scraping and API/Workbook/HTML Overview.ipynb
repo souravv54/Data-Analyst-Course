{
 "cells": [
  {
   "cell_type": "markdown",
   "id": "7d3ab94a",
   "metadata": {},
   "source": [
    "## What is HTML?"
   ]
  },
  {
   "cell_type": "code",
   "execution_count": 1,
   "id": "5b7246ae",
   "metadata": {},
   "outputs": [],
   "source": [
    "# What is HTML?\n",
    "# Basics of language\n",
    "# Structure\n",
    "# Syntax\n",
    "# Popular examples"
   ]
  },
  {
   "cell_type": "code",
   "execution_count": 2,
   "id": "1a9be28d",
   "metadata": {},
   "outputs": [],
   "source": [
    "# HTML - Hypertext markup language\n",
    "# The underlying source code for all web pages\n",
    "# To Built web pages:- HTML,CSS, Javascript also been used\n",
    "# A Browser is an application that read and displays HTML\n",
    "# We can check the source code of any website using CTRL + U\n",
    "# # CTRL + SHIFT + I to inspect the code"
   ]
  },
  {
   "cell_type": "markdown",
   "id": "b45ea9d0",
   "metadata": {},
   "source": [
    "## Structure of HTML"
   ]
  },
  {
   "cell_type": "code",
   "execution_count": 3,
   "id": "770081a8",
   "metadata": {},
   "outputs": [],
   "source": [
    "# Building block of all HTML called element\n",
    "# HTML Ex:\n",
    "# HTML\n",
    "# HEAD --> Web page and style like title language and style (it's metadata of webpage)\n",
    "# BODY --> link,image,paragraph,table etc. that is visible over web page.\n",
    "# All elements are almost nested "
   ]
  },
  {
   "cell_type": "markdown",
   "id": "85228663",
   "metadata": {},
   "source": [
    "## Syntax of HTML"
   ]
  },
  {
   "cell_type": "code",
   "execution_count": 1,
   "id": "462f2b3e",
   "metadata": {},
   "outputs": [],
   "source": [
    "# Eg. <tag_name> Content </tag_name>\n",
    "# Here, Tag defines the type of elements\n",
    "# Tags are almost come in pairs\n",
    "# In the closing tag a forward slash is written before the tag name.\n",
    "# Content can be Text, Other elements, Combination\n",
    "#  text <p> ... </p>\n",
    "# page title <title> ... </title>\n",
    "# Headings <h1> ... </h1> till h6\n",
    "# My First Webpage.html file is present in workbook directory."
   ]
  },
  {
   "cell_type": "code",
   "execution_count": null,
   "id": "da8d910e",
   "metadata": {},
   "outputs": [],
   "source": [
    "# Most prominent tag attributes are:\n",
    "# Class and ID\n",
    "# USed for grouping and identifying elements for easier processing and styling\n",
    "\n",
    "# Class : Group elements of the same category to be manipulated at once\n",
    "# ID : Similar ot class but ID is unique to each element."
   ]
  }
 ],
 "metadata": {
  "kernelspec": {
   "display_name": "Python 3 (ipykernel)",
   "language": "python",
   "name": "python3"
  },
  "language_info": {
   "codemirror_mode": {
    "name": "ipython",
    "version": 3
   },
   "file_extension": ".py",
   "mimetype": "text/x-python",
   "name": "python",
   "nbconvert_exporter": "python",
   "pygments_lexer": "ipython3",
   "version": "3.9.13"
  }
 },
 "nbformat": 4,
 "nbformat_minor": 5
}
