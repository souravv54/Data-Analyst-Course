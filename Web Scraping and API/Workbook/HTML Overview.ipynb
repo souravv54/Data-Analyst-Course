{
 "cells": [
  {
   "cell_type": "markdown",
   "id": "6a1b0498",
   "metadata": {},
   "source": [
    "## What is HTML?"
   ]
  },
  {
   "cell_type": "code",
   "execution_count": 1,
   "id": "a5dccdd8",
   "metadata": {},
   "outputs": [],
   "source": [
    "# What is HTML?\n",
    "# Basics of language\n",
    "# Structure\n",
    "# Syntax\n",
    "# Popular examples"
   ]
  },
  {
   "cell_type": "code",
   "execution_count": 2,
   "id": "9715542d",
   "metadata": {},
   "outputs": [],
   "source": [
    "# HTML - Hypertext markup language\n",
    "# The underlying source code for all web pages\n",
    "# To Built web pages:- HTML,CSS, Javascript also been used\n",
    "# A Browser is an application that read and displays HTML\n",
    "# We can check the source code of any website using CTRL + U\n",
    "# # CTRL + SHIFT + I to inspect the code"
   ]
  },
  {
   "cell_type": "code",
   "execution_count": null,
   "id": "9a5afc7e",
   "metadata": {},
   "outputs": [],
   "source": []
  }
 ],
 "metadata": {
  "kernelspec": {
   "display_name": "Python 3 (ipykernel)",
   "language": "python",
   "name": "python3"
  },
  "language_info": {
   "codemirror_mode": {
    "name": "ipython",
    "version": 3
   },
   "file_extension": ".py",
   "mimetype": "text/x-python",
   "name": "python",
   "nbconvert_exporter": "python",
   "pygments_lexer": "ipython3",
   "version": "3.9.13"
  }
 },
 "nbformat": 4,
 "nbformat_minor": 5
}
