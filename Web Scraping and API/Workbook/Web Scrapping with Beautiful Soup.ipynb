{
 "cells": [
  {
   "cell_type": "markdown",
   "id": "95bbef4b",
   "metadata": {},
   "source": [
    "## INTRODUCTION"
   ]
  },
  {
   "cell_type": "code",
   "execution_count": 1,
   "id": "809f980e",
   "metadata": {},
   "outputs": [],
   "source": [
    "# Some websites may not give us a neatly written and straight to the point API.\n",
    "# That's why indroduced Beautiful soup package for web-scraping\n",
    "# Where you will able to scrape some of your fav. websites\n",
    "# Automatic extraction of data from websites is called web scraping\n",
    "# Everything that displayed Can be obtained + some stuff that are not directly visible\n",
    "# Obtain the srouce code of a page and processing it to get the different elements\n",
    "# Beautiful soup --> Extract DATA from HTML document\n",
    "# Easy to use"
   ]
  },
  {
   "cell_type": "markdown",
   "id": "1e794dce",
   "metadata": {},
   "source": [
    "## Workflow of Web Scraping"
   ]
  },
  {
   "cell_type": "code",
   "execution_count": 2,
   "id": "dd9e056c",
   "metadata": {},
   "outputs": [],
   "source": [
    "# 1. Inspect the page\n",
    "# 2. Obtain HTML\n",
    "# 3. Choose a parser\n",
    "# 4. Create a beautiful soup object\n",
    "# 5. Export the HTML to a file(optional)"
   ]
  },
  {
   "cell_type": "code",
   "execution_count": 3,
   "id": "3ba6324a",
   "metadata": {},
   "outputs": [],
   "source": [
    "# Inspect the Page:\n",
    "# Gives us a general idea of how the page is structured\n",
    "# The developer tool usually runs the JS code!"
   ]
  },
  {
   "cell_type": "code",
   "execution_count": 5,
   "id": "993ec927",
   "metadata": {},
   "outputs": [],
   "source": [
    "# Obtain HTML:\n",
    "# Similar to the calls to APIs\n",
    "# MAke a 'get' request using 'request' library"
   ]
  },
  {
   "cell_type": "code",
   "execution_count": 7,
   "id": "ca6bfce1",
   "metadata": {},
   "outputs": [],
   "source": [
    "# Choose a Parser:\n",
    "# Splitting a string/text into syntactical components\n",
    "# The string can be a natural human language/programming one\n",
    "# Identifying all the elements, their relation to one another, their attributs and contents\n",
    "# This is represented through a parse tree\n",
    "# PARSERS - Program designed to parse the data\n",
    "# Supported parsers from Beautiful soup : html.parser,lxml, html5lib\n",
    "# html.parser --> inbuild python parser and not that much accurate\n",
    "# lxml --> very fast and part of anaconda distrbution and best parser for Beautiful soup\n",
    "# html5lib --> slow, can handle errors , parse HTML the way a browser does\n",
    "# It is always best to state the parser explicitly"
   ]
  },
  {
   "cell_type": "code",
   "execution_count": 8,
   "id": "588bc54d",
   "metadata": {},
   "outputs": [],
   "source": [
    "# Create a beautiful soup object:\n",
    "# To extract the data this is the final step using beautiful soup package"
   ]
  }
 ],
 "metadata": {
  "kernelspec": {
   "display_name": "Python 3 (ipykernel)",
   "language": "python",
   "name": "python3"
  },
  "language_info": {
   "codemirror_mode": {
    "name": "ipython",
    "version": 3
   },
   "file_extension": ".py",
   "mimetype": "text/x-python",
   "name": "python",
   "nbconvert_exporter": "python",
   "pygments_lexer": "ipython3",
   "version": "3.9.13"
  }
 },
 "nbformat": 4,
 "nbformat_minor": 5
}
