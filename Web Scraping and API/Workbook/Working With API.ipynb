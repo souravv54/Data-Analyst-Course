{
 "cells": [
  {
   "cell_type": "markdown",
   "id": "7e671a44",
   "metadata": {},
   "source": [
    "## API Overview"
   ]
  },
  {
   "cell_type": "markdown",
   "id": "5c0a2468",
   "metadata": {},
   "source": [
    "We will focus on :\n",
    "    1. What is API?\n",
    "    2. HTTP Requests\n",
    "    3. JSON Format\n",
    "    \n",
    "Practical :\n",
    "    1. Echange Rates API\n",
    "    2. Pagination\n",
    "    3. API requiring registration"
   ]
  },
  {
   "cell_type": "code",
   "execution_count": 2,
   "id": "96a5302c",
   "metadata": {},
   "outputs": [],
   "source": [
    "# What is API - Application Programming Interface\n",
    "# A contract between a client and a server\n",
    "# Ex : Exchange currency exchange rates\n",
    "# Either free or paid\n",
    "# HOw do we use API?\n",
    "# All API's should have some form of Documentation\n",
    "# A common step to connect with API is making a HTTP Request"
   ]
  },
  {
   "cell_type": "markdown",
   "id": "e388edd2",
   "metadata": {},
   "source": [
    "## HTTP Requests : GET and POST"
   ]
  },
  {
   "cell_type": "code",
   "execution_count": 3,
   "id": "1d587882",
   "metadata": {},
   "outputs": [],
   "source": [
    "# HTTP - Hypertext Transfer protocol\n",
    "# Specifies how requests and responses are to be formatted and transmitted"
   ]
  },
  {
   "cell_type": "code",
   "execution_count": 4,
   "id": "e4c7d90c",
   "metadata": {},
   "outputs": [],
   "source": [
    "# GET request :\n",
    "# 1. Obtain from the server\n",
    "# 2. Can be bookmarked\n",
    "# 3. Parameters are added directly to the URL\n",
    "# 4. Not used for sensitive information"
   ]
  },
  {
   "cell_type": "code",
   "execution_count": 5,
   "id": "2762b560",
   "metadata": {},
   "outputs": [],
   "source": [
    "# POST request :\n",
    "# 1. Alter the state or send confidential information\n",
    "# 2. Parameters are added in a seperate body"
   ]
  },
  {
   "cell_type": "code",
   "execution_count": 6,
   "id": "e149d387",
   "metadata": {},
   "outputs": [],
   "source": [
    "# After the request sent , to understand the RESPONSE from the server ,\n",
    "# We are getting the status code \n",
    "# like 200 - Success\n",
    "# 404 - Page not found\n",
    "# For API communication - Best format of files are likely to be JSON"
   ]
  },
  {
   "cell_type": "markdown",
   "id": "e9f32de2",
   "metadata": {},
   "source": [
    "## JSON : Preferred data exchange format for APIs"
   ]
  },
  {
   "cell_type": "code",
   "execution_count": 1,
   "id": "ad9aa18b",
   "metadata": {},
   "outputs": [],
   "source": [
    "# When 'GET' Request is triggered to APIs, it return a JSON repsonse\n",
    "# Payload data of post request is also a JSON\n",
    "# JSON 3 Key concepts :\n",
    "# 1. Easy to understand to read and write\n",
    "# 2, Easy for programs to process and generate\n",
    "# 3. Written in plain text\n",
    "\n",
    "# It can be build using Dictionaries and Lists"
   ]
  },
  {
   "cell_type": "code",
   "execution_count": 2,
   "id": "22964ecd",
   "metadata": {},
   "outputs": [],
   "source": [
    "# To Get the request from URL :\n",
    "# response = requests.get(base_url)"
   ]
  },
  {
   "cell_type": "code",
   "execution_count": 3,
   "id": "bc373a9a",
   "metadata": {},
   "outputs": [],
   "source": [
    "# Check the request has been approved without any problem :\n",
    "# repsonse.ok"
   ]
  },
  {
   "cell_type": "code",
   "execution_count": 4,
   "id": "fe9eb0dd",
   "metadata": {},
   "outputs": [],
   "source": [
    "# Check status code \n",
    "# response.status_code"
   ]
  },
  {
   "cell_type": "code",
   "execution_count": 6,
   "id": "30aee79c",
   "metadata": {},
   "outputs": [],
   "source": [
    "# Check for the data body :\n",
    "# response.text --> return regular string and # response.content --> Returns data in bytes format"
   ]
  },
  {
   "cell_type": "code",
   "execution_count": 7,
   "id": "4b536d36",
   "metadata": {},
   "outputs": [],
   "source": [
    "# Converts JSON to a python object :\n",
    "# response.json()"
   ]
  },
  {
   "cell_type": "code",
   "execution_count": 8,
   "id": "1286fa78",
   "metadata": {},
   "outputs": [],
   "source": [
    "# Check dict keys:\n",
    "# response.json().keys()"
   ]
  },
  {
   "cell_type": "code",
   "execution_count": 9,
   "id": "9c379804",
   "metadata": {},
   "outputs": [],
   "source": [
    "import json\n",
    "\n",
    "# It has two main methods:\n",
    "# .loads(), which creates a Python dictionary from a JSON format string (just as response.json() does)\n",
    "# .dumps(), which creates a JSON format string out of a Python dictionary "
   ]
  },
  {
   "cell_type": "code",
   "execution_count": 10,
   "id": "78c20c8a",
   "metadata": {},
   "outputs": [],
   "source": [
    "# .dumps() has options to make the string 'prettier', more readable\n",
    "# We can choose the number of spaces to be used as indentation\n",
    "\n",
    "# json.dumps(response.json(), indent=4)"
   ]
  },
  {
   "cell_type": "markdown",
   "id": "488a67e9",
   "metadata": {},
   "source": [
    "## Incorporating parameters in the GET request"
   ]
  },
  {
   "cell_type": "code",
   "execution_count": 12,
   "id": "03aadbf2",
   "metadata": {},
   "outputs": [],
   "source": [
    "# Request parameters are added to the URL after a question mark '?'\n",
    "# Example, we request for the exchange rates of the US Dollar (USD) and Pound Sterling (GBP) only\n",
    "\n",
    "#---CODE :\n",
    "#param_url = base_url + \"?symbols=USD,GBP\"\n",
    "#param_url"
   ]
  },
  {
   "cell_type": "code",
   "execution_count": 13,
   "id": "8d8de076",
   "metadata": {},
   "outputs": [],
   "source": [
    "# Sending a request and saving the response JSON, all at once\n",
    "\n",
    "#-- CODE :\n",
    "#data = requests.get(param_url).json()"
   ]
  },
  {
   "cell_type": "code",
   "execution_count": null,
   "id": "3fde2810",
   "metadata": {},
   "outputs": [],
   "source": []
  }
 ],
 "metadata": {
  "kernelspec": {
   "display_name": "Python 3 (ipykernel)",
   "language": "python",
   "name": "python3"
  },
  "language_info": {
   "codemirror_mode": {
    "name": "ipython",
    "version": 3
   },
   "file_extension": ".py",
   "mimetype": "text/x-python",
   "name": "python",
   "nbconvert_exporter": "python",
   "pygments_lexer": "ipython3",
   "version": "3.9.13"
  }
 },
 "nbformat": 4,
 "nbformat_minor": 5
}
