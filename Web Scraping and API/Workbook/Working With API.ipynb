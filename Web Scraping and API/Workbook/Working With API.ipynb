{
 "cells": [
  {
   "cell_type": "markdown",
   "id": "7e671a44",
   "metadata": {},
   "source": [
    "## API Overview"
   ]
  },
  {
   "cell_type": "markdown",
   "id": "5c0a2468",
   "metadata": {},
   "source": [
    "We will focus on :\n",
    "    1. What is API?\n",
    "    2. HTTP Requests\n",
    "    3. JSON Format\n",
    "    \n",
    "Practical :\n",
    "    1. Echange Rates API\n",
    "    2. Pagination\n",
    "    3. API requiring registration"
   ]
  },
  {
   "cell_type": "code",
   "execution_count": 2,
   "id": "96a5302c",
   "metadata": {},
   "outputs": [],
   "source": [
    "# What is API - Application Programming Interface\n",
    "# A contract between a client and a server\n",
    "# Ex : Exchange currency exchange rates\n",
    "# Either free or paid\n",
    "# HOw do we use API?\n",
    "# All API's should have some form of Documentation\n",
    "# A common step to connect with API is making a HTTP Request"
   ]
  },
  {
   "cell_type": "markdown",
   "id": "e388edd2",
   "metadata": {},
   "source": [
    "## HTTP Requests : GET and POST"
   ]
  },
  {
   "cell_type": "code",
   "execution_count": 3,
   "id": "1d587882",
   "metadata": {},
   "outputs": [],
   "source": [
    "# HTTP - Hypertext Transfer protocol\n",
    "# Specifies how requests and responses are to be formatted and transmitted"
   ]
  },
  {
   "cell_type": "code",
   "execution_count": 4,
   "id": "e4c7d90c",
   "metadata": {},
   "outputs": [],
   "source": [
    "# GET request :\n",
    "# 1. Obtain from the server\n",
    "# 2. Can be bookmarked\n",
    "# 3. Parameters are added directly to the URL\n",
    "# 4. Not used for sensitive information"
   ]
  },
  {
   "cell_type": "code",
   "execution_count": 5,
   "id": "2762b560",
   "metadata": {},
   "outputs": [],
   "source": [
    "# POST request :\n",
    "# 1. Alter the state or send confidential information\n",
    "# 2. Parameters are added in a seperate body"
   ]
  },
  {
   "cell_type": "code",
   "execution_count": 6,
   "id": "e149d387",
   "metadata": {},
   "outputs": [],
   "source": [
    "# After the request sent , to understand the RESPONSE from the server ,\n",
    "# We are getting the status code \n",
    "# like 200 - Success\n",
    "# 404 - Page not found\n",
    "# For API communication - Best format of files are likely to be JSON"
   ]
  },
  {
   "cell_type": "code",
   "execution_count": null,
   "id": "fc5248a5",
   "metadata": {},
   "outputs": [],
   "source": []
  },
  {
   "cell_type": "code",
   "execution_count": null,
   "id": "ad9aa18b",
   "metadata": {},
   "outputs": [],
   "source": []
  }
 ],
 "metadata": {
  "kernelspec": {
   "display_name": "Python 3 (ipykernel)",
   "language": "python",
   "name": "python3"
  },
  "language_info": {
   "codemirror_mode": {
    "name": "ipython",
    "version": 3
   },
   "file_extension": ".py",
   "mimetype": "text/x-python",
   "name": "python",
   "nbconvert_exporter": "python",
   "pygments_lexer": "ipython3",
   "version": "3.9.13"
  }
 },
 "nbformat": 4,
 "nbformat_minor": 5
}
