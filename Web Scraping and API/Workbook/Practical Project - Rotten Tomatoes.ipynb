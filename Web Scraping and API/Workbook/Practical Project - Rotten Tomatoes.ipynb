{
 "cells": [
  {
   "cell_type": "markdown",
   "id": "fbc25c18",
   "metadata": {},
   "source": [
    "## Setting up you scraper"
   ]
  },
  {
   "cell_type": "code",
   "execution_count": 1,
   "id": "22a0d3de",
   "metadata": {},
   "outputs": [],
   "source": [
    "import requests\n",
    "from bs4 import BeautifulSoup"
   ]
  },
  {
   "cell_type": "code",
   "execution_count": 4,
   "id": "ad8d9edf",
   "metadata": {},
   "outputs": [],
   "source": [
    "# Define the URL of the site\n",
    "base_site = \"https://www.rottentomatoes.com/browse/movies_in_theaters/\""
   ]
  },
  {
   "cell_type": "code",
   "execution_count": 5,
   "id": "d55e0089",
   "metadata": {},
   "outputs": [
    {
     "data": {
      "text/plain": [
       "200"
      ]
     },
     "execution_count": 5,
     "metadata": {},
     "output_type": "execute_result"
    }
   ],
   "source": [
    "# sending a request to the webpage\n",
    "response = requests.get(base_site)\n",
    "response.status_code"
   ]
  },
  {
   "cell_type": "code",
   "execution_count": 6,
   "id": "ab6051ca",
   "metadata": {},
   "outputs": [],
   "source": [
    "# get the HTML from the webpage\n",
    "html = response.content"
   ]
  },
  {
   "cell_type": "code",
   "execution_count": 7,
   "id": "375ef519",
   "metadata": {},
   "outputs": [],
   "source": [
    "# convert the HTML to a BeatifulSoup object\n",
    "soup = BeautifulSoup(html, 'lxml')"
   ]
  },
  {
   "cell_type": "code",
   "execution_count": 9,
   "id": "deba2779",
   "metadata": {},
   "outputs": [],
   "source": [
    "# Exporting the HTML to a file\n",
    "with open('Rotten_tomatoes_LXML_Parser.html', 'wb') as file:\n",
    "    file.write(soup.prettify('utf-8'))"
   ]
  },
  {
   "cell_type": "code",
   "execution_count": 10,
   "id": "b98d616b",
   "metadata": {},
   "outputs": [],
   "source": [
    "# Beautiful Soup ranks the lxml parser as the best one.\n",
    "\n",
    "# If a parser is not explicitly stated in the Beautiful Soup constructor,\n",
    "# the best one available on the current machine is chosen.\n",
    "\n",
    "# This means that the same piece of code can give different results on different computers."
   ]
  },
  {
   "cell_type": "markdown",
   "id": "0d79395b",
   "metadata": {},
   "source": [
    "## Extract the Title and year of each movie"
   ]
  },
  {
   "cell_type": "markdown",
   "id": "0b4df3cd",
   "metadata": {},
   "source": [
    "## *********** Incomplete due to incorrect URL*************"
   ]
  },
  {
   "cell_type": "code",
   "execution_count": null,
   "id": "05a10eca",
   "metadata": {},
   "outputs": [],
   "source": []
  }
 ],
 "metadata": {
  "kernelspec": {
   "display_name": "Python 3 (ipykernel)",
   "language": "python",
   "name": "python3"
  },
  "language_info": {
   "codemirror_mode": {
    "name": "ipython",
    "version": 3
   },
   "file_extension": ".py",
   "mimetype": "text/x-python",
   "name": "python",
   "nbconvert_exporter": "python",
   "pygments_lexer": "ipython3",
   "version": "3.9.13"
  }
 },
 "nbformat": 4,
 "nbformat_minor": 5
}
